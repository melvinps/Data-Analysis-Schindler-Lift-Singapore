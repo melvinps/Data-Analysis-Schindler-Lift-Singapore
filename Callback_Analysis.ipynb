{
  "nbformat": 4,
  "nbformat_minor": 0,
  "metadata": {
    "colab": {
      "name": "Callback Analysis.ipynb",
      "provenance": [],
      "collapsed_sections": [
        "0k6vQURsdHHB",
        "eO3wbHPqc0gy",
        "CIxMQYTUvAlz"
      ],
      "toc_visible": true,
      "authorship_tag": "ABX9TyOAOPEspz7gWlh1gWEKYFr2",
      "include_colab_link": true
    },
    "kernelspec": {
      "name": "python3",
      "display_name": "Python 3"
    },
    "language_info": {
      "name": "python"
    }
  },
  "cells": [
    {
      "cell_type": "markdown",
      "metadata": {
        "id": "view-in-github",
        "colab_type": "text"
      },
      "source": [
        "<a href=\"https://colab.research.google.com/github/melvinps/Schindler-Data-Analysis/blob/main/Callback_Analysis.ipynb\" target=\"_parent\"><img src=\"https://colab.research.google.com/assets/colab-badge.svg\" alt=\"Open In Colab\"/></a>"
      ]
    },
    {
      "cell_type": "markdown",
      "metadata": {
        "id": "0k6vQURsdHHB"
      },
      "source": [
        "# **IMPORT DATA**\n"
      ]
    },
    {
      "cell_type": "code",
      "metadata": {
        "id": "Fuzx5sOOgol7",
        "colab": {
          "base_uri": "https://localhost:8080/"
        },
        "outputId": "d57cc9c2-d511-40fe-d17c-eaa8d018370a"
      },
      "source": [
        "import pandas as pd\n",
        "import numpy as np\n",
        "import matplotlib.pyplot as plt\n",
        "import seaborn as sns\n",
        "from datetime import datetime\n",
        "from collections import defaultdict\n",
        "\n",
        "%load_ext google.colab.data_table\n",
        "%matplotlib inline"
      ],
      "execution_count": 6,
      "outputs": [
        {
          "output_type": "stream",
          "text": [
            "The google.colab.data_table extension is already loaded. To reload it, use:\n",
            "  %reload_ext google.colab.data_table\n"
          ],
          "name": "stdout"
        }
      ]
    },
    {
      "cell_type": "code",
      "metadata": {
        "id": "n3i8u9PRhCT3"
      },
      "source": [
        "df = pd.read_excel('2021 04 28 Daily Callbacks.xlsx')"
      ],
      "execution_count": 7,
      "outputs": []
    },
    {
      "cell_type": "code",
      "metadata": {
        "id": "W2rANrJ1jaE1"
      },
      "source": [
        "df = df[['Location','Notification date','Name','Description of technical object','Description','Long Text Description']].dropna()"
      ],
      "execution_count": 8,
      "outputs": []
    },
    {
      "cell_type": "code",
      "metadata": {
        "id": "lLgtcxbUkGuR"
      },
      "source": [
        "df['Notification date'] = pd.to_datetime(df['Notification date'])"
      ],
      "execution_count": 9,
      "outputs": []
    },
    {
      "cell_type": "markdown",
      "metadata": {
        "id": "BOxR_phjf6K4"
      },
      "source": [
        "# **SELECT ROUTE AND CURRENT MONTH**\n",
        "\n"
      ]
    },
    {
      "cell_type": "code",
      "metadata": {
        "colab": {
          "base_uri": "https://localhost:8080/"
        },
        "id": "DBWkhLMqwsdd",
        "outputId": "a8bd22af-c562-42a4-c734-c98f867bdb1d"
      },
      "source": [
        "# Select Route\n",
        "enter = input('Enter Route: ')\n",
        "input_route = enter.upper().split(' ')\n",
        "\n",
        "route_lst = []\n",
        "for route in input_route:\n",
        "  route_lst.append('808' + route)\n",
        "\n",
        "print('Route Selected: ' + str(route_lst))"
      ],
      "execution_count": 1,
      "outputs": [
        {
          "output_type": "stream",
          "text": [
            "Enter Route: d01\n",
            "Route Selected: ['808D01']\n"
          ],
          "name": "stdout"
        }
      ]
    },
    {
      "cell_type": "code",
      "metadata": {
        "colab": {
          "base_uri": "https://localhost:8080/"
        },
        "id": "unZjohPNcQQY",
        "outputId": "50a3b510-642d-4564-d3ef-7c7aab79369c"
      },
      "source": [
        "# Enter Current Month\n",
        "m = input('Enter the current month: ')\n",
        "print('Month selected: ' + m)\n"
      ],
      "execution_count": 10,
      "outputs": [
        {
          "output_type": "stream",
          "text": [
            "Enter the current month: 4\n",
            "Month selected: 4\n"
          ],
          "name": "stdout"
        }
      ]
    },
    {
      "cell_type": "code",
      "metadata": {
        "colab": {
          "base_uri": "https://localhost:8080/"
        },
        "id": "1MYuXxM6gU2B",
        "outputId": "367d0641-d5c0-4360-acf3-621ada18114f"
      },
      "source": [
        "# Last 3 months\n",
        "pass_month = []\n",
        "count = int(m)\n",
        "while count > 1:\n",
        "  pass_month.append(str(count))  \n",
        "  count = count - 1\n",
        "\n",
        "print('Pass 3 months: ' + str(pass_month))"
      ],
      "execution_count": 11,
      "outputs": [
        {
          "output_type": "stream",
          "text": [
            "Pass 3 months: ['4', '3', '2']\n"
          ],
          "name": "stdout"
        }
      ]
    },
    {
      "cell_type": "code",
      "metadata": {
        "id": "bliG6B0fyN3E"
      },
      "source": [
        "# Callback logs Selected Route\n",
        "df_route = df.loc[(df['Location']).isin(route_lst)]\n",
        "# Current month callback logs of Selected Route\n",
        "df_route_current_month = df_route.loc[df_route['Notification date'].dt.month == int(m)]\n",
        "# Last 3 months callback logs of Selected Route\n",
        "df_route_pass_month = df_route.loc[(df_route['Notification date'].dt.month).isin(pass_month)]"
      ],
      "execution_count": 12,
      "outputs": []
    },
    {
      "cell_type": "code",
      "metadata": {
        "id": "t4sBM-EkkSyb"
      },
      "source": [
        "# df_route_sick = df.loc[(df['Location'] == route) & (df['Notification date'].dt.month == int(m))]\n",
        "# df_route = df.loc[(df['Location'] == route)]\n",
        "# df_route_date = df_route.loc[df_route['Notification date'].dt.month == int(m)]\n",
        "# df_route_pass_month = df_route.loc[(df_route['Notification date'].dt.month).isin(pass_month)]\n",
        "# df_route_pass_month"
      ],
      "execution_count": null,
      "outputs": []
    },
    {
      "cell_type": "markdown",
      "metadata": {
        "id": "8EDsjQ0SiTGY"
      },
      "source": [
        "# **TOP 10 SITES WITH HIGHEST CALLBACK IN PASS 3 MONTHS**\n"
      ]
    },
    {
      "cell_type": "code",
      "metadata": {
        "colab": {
          "base_uri": "https://localhost:8080/",
          "height": 299
        },
        "id": "GEbydD7QidxD",
        "outputId": "cef4efe4-ad86-48d8-ac5f-3e0b7c9cf8d0"
      },
      "source": [
        "top = df_route_pass_month.drop(['Notification date','Location','Long Text Description','Description of technical object'], axis=1)\n",
        "top.rename({'Description': 'Numbers of Callbacks'}, axis=1, inplace=True)\n",
        "top.groupby(['Name']).count().sort_values(by=['Numbers of Callbacks'], ascending= False)[0:10]\n",
        "top_10 = top.groupby(['Name']).count().sort_values(by=['Numbers of Callbacks'], ascending= False)[0:10].reset_index()\n",
        "top_10"
      ],
      "execution_count": 158,
      "outputs": [
        {
          "output_type": "execute_result",
          "data": {
            "application/vnd.google.colaboratory.module+javascript": "\n      import \"https://ssl.gstatic.com/colaboratory/data_table/a6224c040fa35dcf/data_table.js\";\n\n      window.createDataTable({\n        data: [[{\n            'v': 0,\n            'f': \"0\",\n        },\n\"BANK OF SINGAPORE\",\n{\n            'v': 59,\n            'f': \"59\",\n        }],\n [{\n            'v': 1,\n            'f': \"1\",\n        },\n\"OCBC CENTRE\",\n{\n            'v': 55,\n            'f': \"55\",\n        }],\n [{\n            'v': 2,\n            'f': \"2\",\n        },\n\"HSBC BUILDING\",\n{\n            'v': 32,\n            'f': \"32\",\n        }],\n [{\n            'v': 3,\n            'f': \"3\",\n        },\n\"THE CENTRAL\",\n{\n            'v': 30,\n            'f': \"30\",\n        }],\n [{\n            'v': 4,\n            'f': \"4\",\n        },\n\"CAPITAL TOWER\",\n{\n            'v': 28,\n            'f': \"28\",\n        }],\n [{\n            'v': 5,\n            'f': \"5\",\n        },\n\"ALTEZ @ ENGGOR\",\n{\n            'v': 23,\n            'f': \"23\",\n        }],\n [{\n            'v': 6,\n            'f': \"6\",\n        },\n\"SINGAPORE GENERAL HOSPITAL\",\n{\n            'v': 20,\n            'f': \"20\",\n        }],\n [{\n            'v': 7,\n            'f': \"7\",\n        },\n\"INTERNATIONAL PLAZA\",\n{\n            'v': 17,\n            'f': \"17\",\n        }],\n [{\n            'v': 8,\n            'f': \"8\",\n        },\n\"79 ANSON ROAD   (MCST 2465)\",\n{\n            'v': 16,\n            'f': \"16\",\n        }],\n [{\n            'v': 9,\n            'f': \"9\",\n        },\n\"THE CLAN\",\n{\n            'v': 15,\n            'f': \"15\",\n        }]],\n        columns: [[\"number\", \"index\"], [\"string\", \"Name\"], [\"number\", \"Numbers of Callbacks\"]],\n        columnOptions: [{\"width\": \"1px\", \"className\": \"index_column\"}],\n        rowsPerPage: 25,\n        helpUrl: \"https://colab.research.google.com/notebooks/data_table.ipynb\",\n        suppressOutputScrolling: true,\n        minimumWidth: undefined,\n      });\n    ",
            "text/html": [
              "<div>\n",
              "<style scoped>\n",
              "    .dataframe tbody tr th:only-of-type {\n",
              "        vertical-align: middle;\n",
              "    }\n",
              "\n",
              "    .dataframe tbody tr th {\n",
              "        vertical-align: top;\n",
              "    }\n",
              "\n",
              "    .dataframe thead th {\n",
              "        text-align: right;\n",
              "    }\n",
              "</style>\n",
              "<table border=\"1\" class=\"dataframe\">\n",
              "  <thead>\n",
              "    <tr style=\"text-align: right;\">\n",
              "      <th></th>\n",
              "      <th>Name</th>\n",
              "      <th>Numbers of Callbacks</th>\n",
              "    </tr>\n",
              "  </thead>\n",
              "  <tbody>\n",
              "    <tr>\n",
              "      <th>0</th>\n",
              "      <td>BANK OF SINGAPORE</td>\n",
              "      <td>59</td>\n",
              "    </tr>\n",
              "    <tr>\n",
              "      <th>1</th>\n",
              "      <td>OCBC CENTRE</td>\n",
              "      <td>55</td>\n",
              "    </tr>\n",
              "    <tr>\n",
              "      <th>2</th>\n",
              "      <td>HSBC BUILDING</td>\n",
              "      <td>32</td>\n",
              "    </tr>\n",
              "    <tr>\n",
              "      <th>3</th>\n",
              "      <td>THE CENTRAL</td>\n",
              "      <td>30</td>\n",
              "    </tr>\n",
              "    <tr>\n",
              "      <th>4</th>\n",
              "      <td>CAPITAL TOWER</td>\n",
              "      <td>28</td>\n",
              "    </tr>\n",
              "    <tr>\n",
              "      <th>5</th>\n",
              "      <td>ALTEZ @ ENGGOR</td>\n",
              "      <td>23</td>\n",
              "    </tr>\n",
              "    <tr>\n",
              "      <th>6</th>\n",
              "      <td>SINGAPORE GENERAL HOSPITAL</td>\n",
              "      <td>20</td>\n",
              "    </tr>\n",
              "    <tr>\n",
              "      <th>7</th>\n",
              "      <td>INTERNATIONAL PLAZA</td>\n",
              "      <td>17</td>\n",
              "    </tr>\n",
              "    <tr>\n",
              "      <th>8</th>\n",
              "      <td>79 ANSON ROAD   (MCST 2465)</td>\n",
              "      <td>16</td>\n",
              "    </tr>\n",
              "    <tr>\n",
              "      <th>9</th>\n",
              "      <td>THE CLAN</td>\n",
              "      <td>15</td>\n",
              "    </tr>\n",
              "  </tbody>\n",
              "</table>\n",
              "</div>"
            ],
            "text/plain": [
              "                          Name  Numbers of Callbacks\n",
              "0            BANK OF SINGAPORE                    59\n",
              "1                  OCBC CENTRE                    55\n",
              "2                HSBC BUILDING                    32\n",
              "3                  THE CENTRAL                    30\n",
              "4                CAPITAL TOWER                    28\n",
              "5               ALTEZ @ ENGGOR                    23\n",
              "6   SINGAPORE GENERAL HOSPITAL                    20\n",
              "7          INTERNATIONAL PLAZA                    17\n",
              "8  79 ANSON ROAD   (MCST 2465)                    16\n",
              "9                     THE CLAN                    15"
            ]
          },
          "metadata": {
            "tags": []
          },
          "execution_count": 158
        }
      ]
    },
    {
      "cell_type": "markdown",
      "metadata": {
        "id": "faU6yE5ypRVB"
      },
      "source": [
        "### **Visualization**"
      ]
    },
    {
      "cell_type": "markdown",
      "metadata": {
        "id": "qvYBfiyKt9hh"
      },
      "source": [
        "**TOP 10 SITES NUMBER OF CALLBACK**"
      ]
    },
    {
      "cell_type": "code",
      "metadata": {
        "id": "bcd_Zafxlbdy"
      },
      "source": [
        "fig, ax = plt.subplots(figsize=(20,10))\n",
        "g =sns.barplot(x='Name',y='Numbers of Callbacks',data=top_10,ax=ax, palette='Set2')\n",
        "plt.xticks(rotation=45, ha='right')\n",
        "g.set_xlabel('Site')\n",
        "g.set_title('TOP 10 SITES WITH HIGHEST CALLBACK')\n",
        "\n",
        "for p in g.patches:\n",
        "    g.annotate(format(p.get_height(), '.0f'), \n",
        "               (p.get_x() + p.get_width() / 2., p.get_height()), \n",
        "               ha = 'center', va = 'center', \n",
        "               xytext = (0, 8), \n",
        "               textcoords = 'offset points')"
      ],
      "execution_count": null,
      "outputs": []
    },
    {
      "cell_type": "markdown",
      "metadata": {
        "id": "MsX1A5uStbPZ"
      },
      "source": [
        "**NUMBER OF CALLBACK FOR EACH LIFT IN INDIVIDUAL SITE**"
      ]
    },
    {
      "cell_type": "code",
      "metadata": {
        "id": "oRLijEqptZlq"
      },
      "source": [
        "top_10_lst = []\n",
        "for site in top_10['Name']:\n",
        "  if site not in top_10_lst:\n",
        "    top_10_lst.append(site)\n",
        "\n",
        "df_top_10 = df_route_pass_month.loc[(df_route['Name']).isin(top_10_lst)]\n",
        "df_top_10 = df_top_10.drop(['Notification date','Location','Long Text Description'], axis=1)\n",
        "df_top_10 = df_top_10.groupby(['Name'])\n",
        "\n",
        "for i in top_10_lst:\n",
        "    gp = df_top_10.get_group(i).groupby(['Description of technical object']).count().sort_values(by=['Description'], ascending= False).reset_index()\n",
        "    n=len(gp.columns)\n",
        "    fig,ax = plt.subplots(1, figsize=(10,6))\n",
        "    f = sns.barplot(x='Description of technical object',y='Description',data=gp, palette='Set2',order=gp['Description of technical object'])\n",
        "    plt.xticks(rotation=45, ha='right')\n",
        "    f.set_title(i)\n",
        "    f.set_xlabel('')\n",
        "    for p in f.patches:\n",
        "      f.annotate('{:.0f}'.format(p.get_height(), '.1f'), \n",
        "                   (p.get_x() + p.get_width() / 2., p.get_height()), \n",
        "                    ha = 'center', va = 'center', \n",
        "                   xytext = (0, 8), \n",
        "                   textcoords = 'offset points')"
      ],
      "execution_count": null,
      "outputs": []
    },
    {
      "cell_type": "markdown",
      "metadata": {
        "id": "BIJYvlnEmhF2"
      },
      "source": [
        "# **LIFTS WITH HIGHEST CALLBACK IN PASS 3 MONTHS**"
      ]
    },
    {
      "cell_type": "code",
      "metadata": {
        "colab": {
          "base_uri": "https://localhost:8080/",
          "height": 509
        },
        "id": "B2bhRHd_mzeY",
        "outputId": "2ab608f4-4826-498a-8545-286d2a0f5539"
      },
      "source": [
        "top_lift = df_route_pass_month.drop(['Notification date','Location','Long Text Description'], axis=1)\n",
        "top_lift.rename({'Description': 'Numbers of Callbacks', 'Description of technical object':'Lift'}, axis=1, inplace=True)\n",
        "df_top = top_lift.groupby(['Name','Lift']).count().sort_values(by=['Numbers of Callbacks'], ascending= False)[0:20]\n",
        "df_top.reset_index()"
      ],
      "execution_count": 111,
      "outputs": [
        {
          "output_type": "execute_result",
          "data": {
            "application/vnd.google.colaboratory.module+javascript": "\n      import \"https://ssl.gstatic.com/colaboratory/data_table/a6224c040fa35dcf/data_table.js\";\n\n      window.createDataTable({\n        data: [[{\n            'v': 0,\n            'f': \"0\",\n        },\n\"HSBC BUILDING\",\n\"SF01\",\n{\n            'v': 23,\n            'f': \"23\",\n        }],\n [{\n            'v': 1,\n            'f': \"1\",\n        },\n\"BANK OF SINGAPORE\",\n\"PLG (PL7) (FM)\",\n{\n            'v': 16,\n            'f': \"16\",\n        }],\n [{\n            'v': 2,\n            'f': \"2\",\n        },\n\"BANK OF SINGAPORE\",\n\"PLH (PL8) (FM)\",\n{\n            'v': 16,\n            'f': \"16\",\n        }],\n [{\n            'v': 3,\n            'f': \"3\",\n        },\n\"BANK OF SINGAPORE\",\n\"SFL1\",\n{\n            'v': 10,\n            'f': \"10\",\n        }],\n [{\n            'v': 4,\n            'f': \"4\",\n        },\n\"HSBC BUILDING\",\n\"PL08 (G)\",\n{\n            'v': 9,\n            'f': \"9\",\n        }],\n [{\n            'v': 5,\n            'f': \"5\",\n        },\n\"PEOPLE'S PARK COMPLEX\",\n\"SL1\",\n{\n            'v': 8,\n            'f': \"8\",\n        }],\n [{\n            'v': 6,\n            'f': \"6\",\n        },\n\"BANK OF SINGAPORE\",\n\"PLC (PL2)(FM)\",\n{\n            'v': 8,\n            'f': \"8\",\n        }],\n [{\n            'v': 7,\n            'f': \"7\",\n        },\n\"OCBC CENTRE\",\n\"PL19\",\n{\n            'v': 8,\n            'f': \"8\",\n        }],\n [{\n            'v': 8,\n            'f': \"8\",\n        },\n\"RB CAPITAL BUILDING\",\n\"PL02\",\n{\n            'v': 8,\n            'f': \"8\",\n        }],\n [{\n            'v': 9,\n            'f': \"9\",\n        },\n\"ALTEZ @ ENGGOR\",\n\"PL4\",\n{\n            'v': 6,\n            'f': \"6\",\n        }],\n [{\n            'v': 10,\n            'f': \"10\",\n        },\n\"ALTEZ @ ENGGOR\",\n\"PL3\",\n{\n            'v': 6,\n            'f': \"6\",\n        }],\n [{\n            'v': 11,\n            'f': \"11\",\n        },\n\"THE CENTRAL\",\n\"OPL3\",\n{\n            'v': 6,\n            'f': \"6\",\n        }],\n [{\n            'v': 12,\n            'f': \"12\",\n        },\n\"FAR EAST SQUARE\",\n\"PL2\",\n{\n            'v': 6,\n            'f': \"6\",\n        }],\n [{\n            'v': 13,\n            'f': \"13\",\n        },\n\"78 SHENTON WAY (TWR 1)\",\n\"PL1\",\n{\n            'v': 6,\n            'f': \"6\",\n        }],\n [{\n            'v': 14,\n            'f': \"14\",\n        },\n\"OCBC CENTRE\",\n\"PL17\",\n{\n            'v': 6,\n            'f': \"6\",\n        }],\n [{\n            'v': 15,\n            'f': \"15\",\n        },\n\"OCBC CENTRE\",\n\"FL16\",\n{\n            'v': 5,\n            'f': \"5\",\n        }],\n [{\n            'v': 16,\n            'f': \"16\",\n        },\n\"THE CLAN\",\n\"SL1\",\n{\n            'v': 5,\n            'f': \"5\",\n        }],\n [{\n            'v': 17,\n            'f': \"17\",\n        },\n\"DUKE-NUS GRADUATE MEDICAL SINGAPORE\",\n\"PL2\",\n{\n            'v': 5,\n            'f': \"5\",\n        }],\n [{\n            'v': 18,\n            'f': \"18\",\n        },\n\"THE CENTRAL\",\n\"CPL2\",\n{\n            'v': 5,\n            'f': \"5\",\n        }],\n [{\n            'v': 19,\n            'f': \"19\",\n        },\n\"SAMSUNG HUB\",\n\"PLA\",\n{\n            'v': 5,\n            'f': \"5\",\n        }]],\n        columns: [[\"number\", \"index\"], [\"string\", \"Name\"], [\"string\", \"Lift\"], [\"number\", \"Numbers of Callbacks\"]],\n        columnOptions: [{\"width\": \"1px\", \"className\": \"index_column\"}],\n        rowsPerPage: 25,\n        helpUrl: \"https://colab.research.google.com/notebooks/data_table.ipynb\",\n        suppressOutputScrolling: true,\n        minimumWidth: undefined,\n      });\n    ",
            "text/html": [
              "<div>\n",
              "<style scoped>\n",
              "    .dataframe tbody tr th:only-of-type {\n",
              "        vertical-align: middle;\n",
              "    }\n",
              "\n",
              "    .dataframe tbody tr th {\n",
              "        vertical-align: top;\n",
              "    }\n",
              "\n",
              "    .dataframe thead th {\n",
              "        text-align: right;\n",
              "    }\n",
              "</style>\n",
              "<table border=\"1\" class=\"dataframe\">\n",
              "  <thead>\n",
              "    <tr style=\"text-align: right;\">\n",
              "      <th></th>\n",
              "      <th>Name</th>\n",
              "      <th>Lift</th>\n",
              "      <th>Numbers of Callbacks</th>\n",
              "    </tr>\n",
              "  </thead>\n",
              "  <tbody>\n",
              "    <tr>\n",
              "      <th>0</th>\n",
              "      <td>HSBC BUILDING</td>\n",
              "      <td>SF01</td>\n",
              "      <td>23</td>\n",
              "    </tr>\n",
              "    <tr>\n",
              "      <th>1</th>\n",
              "      <td>BANK OF SINGAPORE</td>\n",
              "      <td>PLG (PL7) (FM)</td>\n",
              "      <td>16</td>\n",
              "    </tr>\n",
              "    <tr>\n",
              "      <th>2</th>\n",
              "      <td>BANK OF SINGAPORE</td>\n",
              "      <td>PLH (PL8) (FM)</td>\n",
              "      <td>16</td>\n",
              "    </tr>\n",
              "    <tr>\n",
              "      <th>3</th>\n",
              "      <td>BANK OF SINGAPORE</td>\n",
              "      <td>SFL1</td>\n",
              "      <td>10</td>\n",
              "    </tr>\n",
              "    <tr>\n",
              "      <th>4</th>\n",
              "      <td>HSBC BUILDING</td>\n",
              "      <td>PL08 (G)</td>\n",
              "      <td>9</td>\n",
              "    </tr>\n",
              "    <tr>\n",
              "      <th>5</th>\n",
              "      <td>PEOPLE'S PARK COMPLEX</td>\n",
              "      <td>SL1</td>\n",
              "      <td>8</td>\n",
              "    </tr>\n",
              "    <tr>\n",
              "      <th>6</th>\n",
              "      <td>BANK OF SINGAPORE</td>\n",
              "      <td>PLC (PL2)(FM)</td>\n",
              "      <td>8</td>\n",
              "    </tr>\n",
              "    <tr>\n",
              "      <th>7</th>\n",
              "      <td>OCBC CENTRE</td>\n",
              "      <td>PL19</td>\n",
              "      <td>8</td>\n",
              "    </tr>\n",
              "    <tr>\n",
              "      <th>8</th>\n",
              "      <td>RB CAPITAL BUILDING</td>\n",
              "      <td>PL02</td>\n",
              "      <td>8</td>\n",
              "    </tr>\n",
              "    <tr>\n",
              "      <th>9</th>\n",
              "      <td>ALTEZ @ ENGGOR</td>\n",
              "      <td>PL4</td>\n",
              "      <td>6</td>\n",
              "    </tr>\n",
              "    <tr>\n",
              "      <th>10</th>\n",
              "      <td>ALTEZ @ ENGGOR</td>\n",
              "      <td>PL3</td>\n",
              "      <td>6</td>\n",
              "    </tr>\n",
              "    <tr>\n",
              "      <th>11</th>\n",
              "      <td>THE CENTRAL</td>\n",
              "      <td>OPL3</td>\n",
              "      <td>6</td>\n",
              "    </tr>\n",
              "    <tr>\n",
              "      <th>12</th>\n",
              "      <td>FAR EAST SQUARE</td>\n",
              "      <td>PL2</td>\n",
              "      <td>6</td>\n",
              "    </tr>\n",
              "    <tr>\n",
              "      <th>13</th>\n",
              "      <td>78 SHENTON WAY (TWR 1)</td>\n",
              "      <td>PL1</td>\n",
              "      <td>6</td>\n",
              "    </tr>\n",
              "    <tr>\n",
              "      <th>14</th>\n",
              "      <td>OCBC CENTRE</td>\n",
              "      <td>PL17</td>\n",
              "      <td>6</td>\n",
              "    </tr>\n",
              "    <tr>\n",
              "      <th>15</th>\n",
              "      <td>OCBC CENTRE</td>\n",
              "      <td>FL16</td>\n",
              "      <td>5</td>\n",
              "    </tr>\n",
              "    <tr>\n",
              "      <th>16</th>\n",
              "      <td>THE CLAN</td>\n",
              "      <td>SL1</td>\n",
              "      <td>5</td>\n",
              "    </tr>\n",
              "    <tr>\n",
              "      <th>17</th>\n",
              "      <td>DUKE-NUS GRADUATE MEDICAL SINGAPORE</td>\n",
              "      <td>PL2</td>\n",
              "      <td>5</td>\n",
              "    </tr>\n",
              "    <tr>\n",
              "      <th>18</th>\n",
              "      <td>THE CENTRAL</td>\n",
              "      <td>CPL2</td>\n",
              "      <td>5</td>\n",
              "    </tr>\n",
              "    <tr>\n",
              "      <th>19</th>\n",
              "      <td>SAMSUNG HUB</td>\n",
              "      <td>PLA</td>\n",
              "      <td>5</td>\n",
              "    </tr>\n",
              "  </tbody>\n",
              "</table>\n",
              "</div>"
            ],
            "text/plain": [
              "                                   Name            Lift  Numbers of Callbacks\n",
              "0                         HSBC BUILDING            SF01                    23\n",
              "1                     BANK OF SINGAPORE  PLG (PL7) (FM)                    16\n",
              "2                     BANK OF SINGAPORE  PLH (PL8) (FM)                    16\n",
              "3                     BANK OF SINGAPORE            SFL1                    10\n",
              "4                         HSBC BUILDING        PL08 (G)                     9\n",
              "5                 PEOPLE'S PARK COMPLEX             SL1                     8\n",
              "6                     BANK OF SINGAPORE   PLC (PL2)(FM)                     8\n",
              "7                           OCBC CENTRE            PL19                     8\n",
              "8                   RB CAPITAL BUILDING            PL02                     8\n",
              "9                        ALTEZ @ ENGGOR             PL4                     6\n",
              "10                       ALTEZ @ ENGGOR             PL3                     6\n",
              "11                          THE CENTRAL            OPL3                     6\n",
              "12                      FAR EAST SQUARE             PL2                     6\n",
              "13               78 SHENTON WAY (TWR 1)             PL1                     6\n",
              "14                          OCBC CENTRE            PL17                     6\n",
              "15                          OCBC CENTRE            FL16                     5\n",
              "16                             THE CLAN             SL1                     5\n",
              "17  DUKE-NUS GRADUATE MEDICAL SINGAPORE             PL2                     5\n",
              "18                          THE CENTRAL            CPL2                     5\n",
              "19                          SAMSUNG HUB             PLA                     5"
            ]
          },
          "metadata": {
            "tags": []
          },
          "execution_count": 111
        }
      ]
    },
    {
      "cell_type": "code",
      "metadata": {
        "id": "UtSo6Z6iU0yc"
      },
      "source": [
        "# temp2 = top_lift.groupby(['Name','Lift']).count().sort_values(by=['Numbers of Callbacks'], ascending= False).reset_index()\n",
        "# temp = top_lift.groupby(['Name'])\n",
        "\n",
        "# templst = []\n",
        "# for site in temp2['Name'][0:20]:\n",
        "#   if site not in templst:\n",
        "#     templst.append(site)\n",
        "\n",
        "\n",
        "# for i in templst:\n",
        "#     gp = temp.get_group(i).groupby(['Lift']).count().reset_index()\n",
        "#     n=len(gp.columns)\n",
        "#     fig,ax = plt.subplots(1, figsize=(10,6))\n",
        "#     f = sns.barplot(x='Lift',y='Numbers of Callbacks',data=gp, palette='Set2')\n",
        "#     plt.xticks(rotation=45, ha='right')\n",
        "#     f.set_title(i)\n",
        "#     f.set_xlabel('')\n",
        "#     for p in f.patches:\n",
        "#       f.annotate('{:.0f}'.format(p.get_height(), '.1f'), \n",
        "#                    (p.get_x() + p.get_width() / 2., p.get_height()), \n",
        "#                     ha = 'center', va = 'center', \n",
        "#                    xytext = (0, 8), \n",
        "#                    textcoords = 'offset points')\n",
        "    \n"
      ],
      "execution_count": null,
      "outputs": []
    },
    {
      "cell_type": "markdown",
      "metadata": {
        "id": "eO3wbHPqc0gy"
      },
      "source": [
        "# **SICK UNIT**"
      ]
    },
    {
      "cell_type": "code",
      "metadata": {
        "id": "GJfgFIHOK7FK",
        "colab": {
          "base_uri": "https://localhost:8080/",
          "height": 552
        },
        "outputId": "431c3f1a-daf6-47ee-be40-e8a0ac0d0c6d"
      },
      "source": [
        "df_route_pass_month.groupby(['Location','Name','Description of technical object']).count()\n",
        "df_route_pass_month['No. of Callbacks'] = df_route_pass_month.groupby(['Location','Name','Description of technical object'])['Notification date'].transform('count')\n",
        "df_route_pass_month = df_route_pass_month[df_route_pass_month['No. of Callbacks']>=3] \n",
        "df_route_pass_month_No_des = df_route_pass_month.drop(['Notification date','Description','Long Text Description'], axis=1)\n",
        "df_route_pass_month_No_des.groupby(['Location','Name','Description of technical object'],as_index = 'Location').count()\n",
        "\n",
        "\n",
        "\n",
        "# pd.set_option(\"display.max_rows\", None, \"display.max_columns\", None)\n",
        "# print()\n"
      ],
      "execution_count": 166,
      "outputs": [
        {
          "output_type": "stream",
          "text": [
            "/usr/local/lib/python3.7/dist-packages/ipykernel_launcher.py:2: SettingWithCopyWarning: \n",
            "A value is trying to be set on a copy of a slice from a DataFrame.\n",
            "Try using .loc[row_indexer,col_indexer] = value instead\n",
            "\n",
            "See the caveats in the documentation: https://pandas.pydata.org/pandas-docs/stable/user_guide/indexing.html#returning-a-view-versus-a-copy\n",
            "  \n"
          ],
          "name": "stderr"
        },
        {
          "output_type": "execute_result",
          "data": {
            "text/html": [
              "<div>\n",
              "<style scoped>\n",
              "    .dataframe tbody tr th:only-of-type {\n",
              "        vertical-align: middle;\n",
              "    }\n",
              "\n",
              "    .dataframe tbody tr th {\n",
              "        vertical-align: top;\n",
              "    }\n",
              "\n",
              "    .dataframe thead th {\n",
              "        text-align: right;\n",
              "    }\n",
              "</style>\n",
              "<table border=\"1\" class=\"dataframe\">\n",
              "  <thead>\n",
              "    <tr style=\"text-align: right;\">\n",
              "      <th></th>\n",
              "      <th></th>\n",
              "      <th></th>\n",
              "      <th>No. of Callbacks</th>\n",
              "    </tr>\n",
              "    <tr>\n",
              "      <th>Location</th>\n",
              "      <th>Name</th>\n",
              "      <th>Description of technical object</th>\n",
              "      <th></th>\n",
              "    </tr>\n",
              "  </thead>\n",
              "  <tbody>\n",
              "    <tr>\n",
              "      <th rowspan=\"11\" valign=\"top\">808D01</th>\n",
              "      <th rowspan=\"2\" valign=\"top\">135 CECIL STREET (2W-LKN)</th>\n",
              "      <th>FL01</th>\n",
              "      <td>3</td>\n",
              "    </tr>\n",
              "    <tr>\n",
              "      <th>PL01</th>\n",
              "      <td>3</td>\n",
              "    </tr>\n",
              "    <tr>\n",
              "      <th rowspan=\"2\" valign=\"top\">20 COLLYER QUAY</th>\n",
              "      <th>PL1(PLA)</th>\n",
              "      <td>4</td>\n",
              "    </tr>\n",
              "    <tr>\n",
              "      <th>PL5(PLE)</th>\n",
              "      <td>3</td>\n",
              "    </tr>\n",
              "    <tr>\n",
              "      <th>78 SHENTON WAY (TWR 1)</th>\n",
              "      <th>PL1</th>\n",
              "      <td>6</td>\n",
              "    </tr>\n",
              "    <tr>\n",
              "      <th>...</th>\n",
              "      <th>...</th>\n",
              "      <td>...</td>\n",
              "    </tr>\n",
              "    <tr>\n",
              "      <th rowspan=\"3\" valign=\"top\">THE CLAN</th>\n",
              "      <th>FL1</th>\n",
              "      <td>3</td>\n",
              "    </tr>\n",
              "    <tr>\n",
              "      <th>PL2</th>\n",
              "      <td>4</td>\n",
              "    </tr>\n",
              "    <tr>\n",
              "      <th>SL1</th>\n",
              "      <td>5</td>\n",
              "    </tr>\n",
              "    <tr>\n",
              "      <th>THE CLIFT(710-CLIFT)</th>\n",
              "      <th>PL1</th>\n",
              "      <td>3</td>\n",
              "    </tr>\n",
              "    <tr>\n",
              "      <th>WISMA ALSAGOFF</th>\n",
              "      <th>SL1</th>\n",
              "      <td>4</td>\n",
              "    </tr>\n",
              "  </tbody>\n",
              "</table>\n",
              "<p>62 rows × 1 columns</p>\n",
              "</div>"
            ],
            "text/plain": [
              "                                                                    No. of Callbacks\n",
              "Location Name                      Description of technical object                  \n",
              "808D01   135 CECIL STREET (2W-LKN) FL01                                            3\n",
              "                                   PL01                                            3\n",
              "         20 COLLYER QUAY           PL1(PLA)                                        4\n",
              "                                   PL5(PLE)                                        3\n",
              "         78 SHENTON WAY (TWR 1)    PL1                                             6\n",
              "...                                                                              ...\n",
              "         THE CLAN                  FL1                                             3\n",
              "                                   PL2                                             4\n",
              "                                   SL1                                             5\n",
              "         THE CLIFT(710-CLIFT)      PL1                                             3\n",
              "         WISMA ALSAGOFF            SL1                                             4\n",
              "\n",
              "[62 rows x 1 columns]"
            ]
          },
          "metadata": {
            "tags": []
          },
          "execution_count": 166
        }
      ]
    },
    {
      "cell_type": "markdown",
      "metadata": {
        "id": "83jbs_Im7JMp"
      },
      "source": [
        "**Show Error Description**"
      ]
    },
    {
      "cell_type": "code",
      "metadata": {
        "id": "i_AcU7CY61GR",
        "colab": {
          "base_uri": "https://localhost:8080/",
          "height": 484
        },
        "outputId": "a04cab22-4b85-451a-f0b8-3c1902cc4953"
      },
      "source": [
        "df_route_pass_month_with_des = df_route_pass_month.drop(['Notification date','Description'], axis=1)\n",
        "df_route_pass_month_with_des.groupby(['Location','Name','Description of technical object','Long Text Description'],as_index = 'Location').count()"
      ],
      "execution_count": 167,
      "outputs": [
        {
          "output_type": "execute_result",
          "data": {
            "text/html": [
              "<div>\n",
              "<style scoped>\n",
              "    .dataframe tbody tr th:only-of-type {\n",
              "        vertical-align: middle;\n",
              "    }\n",
              "\n",
              "    .dataframe tbody tr th {\n",
              "        vertical-align: top;\n",
              "    }\n",
              "\n",
              "    .dataframe thead th {\n",
              "        text-align: right;\n",
              "    }\n",
              "</style>\n",
              "<table border=\"1\" class=\"dataframe\">\n",
              "  <thead>\n",
              "    <tr style=\"text-align: right;\">\n",
              "      <th></th>\n",
              "      <th></th>\n",
              "      <th></th>\n",
              "      <th></th>\n",
              "      <th>No. of Callbacks</th>\n",
              "    </tr>\n",
              "    <tr>\n",
              "      <th>Location</th>\n",
              "      <th>Name</th>\n",
              "      <th>Description of technical object</th>\n",
              "      <th>Long Text Description</th>\n",
              "      <th></th>\n",
              "    </tr>\n",
              "  </thead>\n",
              "  <tbody>\n",
              "    <tr>\n",
              "      <th rowspan=\"11\" valign=\"top\">808D01</th>\n",
              "      <th rowspan=\"5\" valign=\"top\">135 CECIL STREET (2W-LKN)</th>\n",
              "      <th rowspan=\"3\" valign=\"top\">FL01</th>\n",
              "      <th>Error safety T4 check and clean level 1 landing door sill debris .building got upgrading work</th>\n",
              "      <td>1</td>\n",
              "    </tr>\n",
              "    <tr>\n",
              "      <th>Error safety T4 check level 4 landing door roller come out refit back</th>\n",
              "      <td>1</td>\n",
              "    </tr>\n",
              "    <tr>\n",
              "      <th>On arrival no mantrap Error safety T4 check and clean level 1 and car door sill debris lift back to normal</th>\n",
              "      <td>1</td>\n",
              "    </tr>\n",
              "    <tr>\n",
              "      <th rowspan=\"2\" valign=\"top\">PL01</th>\n",
              "      <th>Error KB no off stop reset controller print check BCM print wiring</th>\n",
              "      <td>1</td>\n",
              "    </tr>\n",
              "    <tr>\n",
              "      <th>Kb not start error need to replace brake mayr</th>\n",
              "      <td>1</td>\n",
              "    </tr>\n",
              "    <tr>\n",
              "      <th>...</th>\n",
              "      <th>...</th>\n",
              "      <th>...</th>\n",
              "      <td>...</td>\n",
              "    </tr>\n",
              "    <tr>\n",
              "      <th>THE CLIFT(710-CLIFT)</th>\n",
              "      <th>PL1</th>\n",
              "      <th>Jthsk breaker trip stop lift fr further checkin</th>\n",
              "      <td>1</td>\n",
              "    </tr>\n",
              "    <tr>\n",
              "      <th rowspan=\"4\" valign=\"top\">WISMA ALSAGOFF</th>\n",
              "      <th rowspan=\"4\" valign=\"top\">SL1</th>\n",
              "      <th>Lift running on arrival, Tested all floors no fault found.</th>\n",
              "      <td>1</td>\n",
              "    </tr>\n",
              "    <tr>\n",
              "      <th>On arrival test with security up and down no travel shaky and check all levelling ok</th>\n",
              "      <td>1</td>\n",
              "    </tr>\n",
              "    <tr>\n",
              "      <th>Release 2 person 1750 lift overrun bottom check car top magnet switch clearance lift back to normal and monitor until now</th>\n",
              "      <td>1</td>\n",
              "    </tr>\n",
              "    <tr>\n",
              "      <th>Stoer light on. Checked and reset controller. Unit normalised.</th>\n",
              "      <td>1</td>\n",
              "    </tr>\n",
              "  </tbody>\n",
              "</table>\n",
              "<p>307 rows × 1 columns</p>\n",
              "</div>"
            ],
            "text/plain": [
              "                                                                                                                       No. of Callbacks\n",
              "Location Name                      Description of technical object Long Text Description                                               \n",
              "808D01   135 CECIL STREET (2W-LKN) FL01                            Error safety T4 check and clean level 1 landing...                 1\n",
              "                                                                   Error safety T4 check level 4 landing door roll...                 1\n",
              "                                                                   On arrival no mantrap Error safety T4 check and...                 1\n",
              "                                   PL01                            Error KB no off stop reset controller print che...                 1\n",
              "                                                                   Kb not start error need to replace brake mayr                      1\n",
              "...                                                                                                                                 ...\n",
              "         THE CLIFT(710-CLIFT)      PL1                             Jthsk breaker trip stop lift fr further checkin                    1\n",
              "         WISMA ALSAGOFF            SL1                             Lift running on arrival, Tested all floors no f...                 1\n",
              "                                                                   On arrival test with security up and down no tr...                 1\n",
              "                                                                   Release 2 person 1750 lift overrun bottom check...                 1\n",
              "                                                                   Stoer light on. Checked and reset controller. U...                 1\n",
              "\n",
              "[307 rows x 1 columns]"
            ]
          },
          "metadata": {
            "tags": []
          },
          "execution_count": 167
        }
      ]
    },
    {
      "cell_type": "code",
      "metadata": {
        "id": "k7W_GeCNleot",
        "colab": {
          "base_uri": "https://localhost:8080/",
          "height": 611
        },
        "outputId": "80c853df-7fde-448e-cae9-1c45a7f87151"
      },
      "source": [
        "df_v = df_route \n",
        "df_v['Month'] = df['Notification date'].dt.month\n",
        "df_v = df_v.drop(['Notification date', 'Long Text Description','Location'], axis=1)\n",
        "df_v.groupby(['Name','Description of technical object','Month']).count()\n",
        "temp = df_v.groupby(['Name','Description of technical object','Month']).count().reset_index()\n",
        "temp1 = temp.iloc[0:20]\n",
        "temp1\n"
      ],
      "execution_count": null,
      "outputs": [
        {
          "output_type": "stream",
          "text": [
            "/usr/local/lib/python3.7/dist-packages/ipykernel_launcher.py:2: SettingWithCopyWarning: \n",
            "A value is trying to be set on a copy of a slice from a DataFrame.\n",
            "Try using .loc[row_indexer,col_indexer] = value instead\n",
            "\n",
            "See the caveats in the documentation: https://pandas.pydata.org/pandas-docs/stable/user_guide/indexing.html#returning-a-view-versus-a-copy\n",
            "  \n"
          ],
          "name": "stderr"
        },
        {
          "output_type": "execute_result",
          "data": {
            "application/vnd.google.colaboratory.module+javascript": "\n      import \"https://ssl.gstatic.com/colaboratory/data_table/a6224c040fa35dcf/data_table.js\";\n\n      window.createDataTable({\n        data: [[{\n            'v': 0,\n            'f': \"0\",\n        },\n\"100 ROBERTSON QUAY\",\n\"FL3\",\n{\n            'v': 1,\n            'f': \"1\",\n        },\n{\n            'v': 3,\n            'f': \"3\",\n        }],\n [{\n            'v': 1,\n            'f': \"1\",\n        },\n\"100 ROBERTSON QUAY\",\n\"FL3\",\n{\n            'v': 2,\n            'f': \"2\",\n        },\n{\n            'v': 1,\n            'f': \"1\",\n        }],\n [{\n            'v': 2,\n            'f': \"2\",\n        },\n\"100 ROBERTSON QUAY\",\n\"FL5\",\n{\n            'v': 4,\n            'f': \"4\",\n        },\n{\n            'v': 1,\n            'f': \"1\",\n        }],\n [{\n            'v': 3,\n            'f': \"3\",\n        },\n\"100 ROBERTSON QUAY\",\n\"FL7\",\n{\n            'v': 1,\n            'f': \"1\",\n        },\n{\n            'v': 1,\n            'f': \"1\",\n        }],\n [{\n            'v': 4,\n            'f': \"4\",\n        },\n\"100 ROBERTSON QUAY\",\n\"PL4\",\n{\n            'v': 1,\n            'f': \"1\",\n        },\n{\n            'v': 4,\n            'f': \"4\",\n        }],\n [{\n            'v': 5,\n            'f': \"5\",\n        },\n\"100 ROBERTSON QUAY\",\n\"PL4\",\n{\n            'v': 2,\n            'f': \"2\",\n        },\n{\n            'v': 3,\n            'f': \"3\",\n        }],\n [{\n            'v': 6,\n            'f': \"6\",\n        },\n\"100 ROBERTSON QUAY\",\n\"PL4\",\n{\n            'v': 3,\n            'f': \"3\",\n        },\n{\n            'v': 1,\n            'f': \"1\",\n        }],\n [{\n            'v': 7,\n            'f': \"7\",\n        },\n\"100 ROBERTSON QUAY\",\n\"PL6\",\n{\n            'v': 1,\n            'f': \"1\",\n        },\n{\n            'v': 2,\n            'f': \"2\",\n        }],\n [{\n            'v': 8,\n            'f': \"8\",\n        },\n\"100 ROBERTSON QUAY\",\n\"PL6\",\n{\n            'v': 2,\n            'f': \"2\",\n        },\n{\n            'v': 1,\n            'f': \"1\",\n        }],\n [{\n            'v': 9,\n            'f': \"9\",\n        },\n\"113 SYED ALWI ROAD\",\n\"PL1\",\n{\n            'v': 3,\n            'f': \"3\",\n        },\n{\n            'v': 1,\n            'f': \"1\",\n        }],\n [{\n            'v': 10,\n            'f': \"10\",\n        },\n\"225C QUEEN STREET\",\n\"EL1\",\n{\n            'v': 3,\n            'f': \"3\",\n        },\n{\n            'v': 1,\n            'f': \"1\",\n        }],\n [{\n            'v': 11,\n            'f': \"11\",\n        },\n\"225C QUEEN STREET\",\n\"PL1\",\n{\n            'v': 3,\n            'f': \"3\",\n        },\n{\n            'v': 1,\n            'f': \"1\",\n        }],\n [{\n            'v': 12,\n            'f': \"12\",\n        },\n\"225C QUEEN STREET\",\n\"PL1\",\n{\n            'v': 4,\n            'f': \"4\",\n        },\n{\n            'v': 1,\n            'f': \"1\",\n        }],\n [{\n            'v': 13,\n            'f': \"13\",\n        },\n\"23 BARKER ROAD\",\n\"HL1\",\n{\n            'v': 1,\n            'f': \"1\",\n        },\n{\n            'v': 1,\n            'f': \"1\",\n        }],\n [{\n            'v': 14,\n            'f': \"14\",\n        },\n\"23 MIDDLE ROAD\",\n\"PL A\",\n{\n            'v': 2,\n            'f': \"2\",\n        },\n{\n            'v': 1,\n            'f': \"1\",\n        }],\n [{\n            'v': 15,\n            'f': \"15\",\n        },\n\"23 MIDDLE ROAD\",\n\"PL A\",\n{\n            'v': 4,\n            'f': \"4\",\n        },\n{\n            'v': 1,\n            'f': \"1\",\n        }],\n [{\n            'v': 16,\n            'f': \"16\",\n        },\n\"270 ORCHARD ROAD\",\n\"PL1(APPLE STORE)\",\n{\n            'v': 1,\n            'f': \"1\",\n        },\n{\n            'v': 2,\n            'f': \"2\",\n        }],\n [{\n            'v': 17,\n            'f': \"17\",\n        },\n\"6 DERBYSHIRE ROAD\",\n\"FL01\",\n{\n            'v': 3,\n            'f': \"3\",\n        },\n{\n            'v': 1,\n            'f': \"1\",\n        }],\n [{\n            'v': 18,\n            'f': \"18\",\n        },\n\"6 DERBYSHIRE ROAD\",\n\"FL01\",\n{\n            'v': 4,\n            'f': \"4\",\n        },\n{\n            'v': 1,\n            'f': \"1\",\n        }],\n [{\n            'v': 19,\n            'f': \"19\",\n        },\n\"6 DERBYSHIRE ROAD\",\n\"PL01\",\n{\n            'v': 1,\n            'f': \"1\",\n        },\n{\n            'v': 1,\n            'f': \"1\",\n        }]],\n        columns: [[\"number\", \"index\"], [\"string\", \"Name\"], [\"string\", \"Description of technical object\"], [\"number\", \"Month\"], [\"number\", \"Description\"]],\n        columnOptions: [{\"width\": \"1px\", \"className\": \"index_column\"}],\n        rowsPerPage: 25,\n        helpUrl: \"https://colab.research.google.com/notebooks/data_table.ipynb\",\n        suppressOutputScrolling: true,\n        minimumWidth: undefined,\n      });\n    ",
            "text/html": [
              "<div>\n",
              "<style scoped>\n",
              "    .dataframe tbody tr th:only-of-type {\n",
              "        vertical-align: middle;\n",
              "    }\n",
              "\n",
              "    .dataframe tbody tr th {\n",
              "        vertical-align: top;\n",
              "    }\n",
              "\n",
              "    .dataframe thead th {\n",
              "        text-align: right;\n",
              "    }\n",
              "</style>\n",
              "<table border=\"1\" class=\"dataframe\">\n",
              "  <thead>\n",
              "    <tr style=\"text-align: right;\">\n",
              "      <th></th>\n",
              "      <th>Name</th>\n",
              "      <th>Description of technical object</th>\n",
              "      <th>Month</th>\n",
              "      <th>Description</th>\n",
              "    </tr>\n",
              "  </thead>\n",
              "  <tbody>\n",
              "    <tr>\n",
              "      <th>0</th>\n",
              "      <td>100 ROBERTSON QUAY</td>\n",
              "      <td>FL3</td>\n",
              "      <td>1</td>\n",
              "      <td>3</td>\n",
              "    </tr>\n",
              "    <tr>\n",
              "      <th>1</th>\n",
              "      <td>100 ROBERTSON QUAY</td>\n",
              "      <td>FL3</td>\n",
              "      <td>2</td>\n",
              "      <td>1</td>\n",
              "    </tr>\n",
              "    <tr>\n",
              "      <th>2</th>\n",
              "      <td>100 ROBERTSON QUAY</td>\n",
              "      <td>FL5</td>\n",
              "      <td>4</td>\n",
              "      <td>1</td>\n",
              "    </tr>\n",
              "    <tr>\n",
              "      <th>3</th>\n",
              "      <td>100 ROBERTSON QUAY</td>\n",
              "      <td>FL7</td>\n",
              "      <td>1</td>\n",
              "      <td>1</td>\n",
              "    </tr>\n",
              "    <tr>\n",
              "      <th>4</th>\n",
              "      <td>100 ROBERTSON QUAY</td>\n",
              "      <td>PL4</td>\n",
              "      <td>1</td>\n",
              "      <td>4</td>\n",
              "    </tr>\n",
              "    <tr>\n",
              "      <th>5</th>\n",
              "      <td>100 ROBERTSON QUAY</td>\n",
              "      <td>PL4</td>\n",
              "      <td>2</td>\n",
              "      <td>3</td>\n",
              "    </tr>\n",
              "    <tr>\n",
              "      <th>6</th>\n",
              "      <td>100 ROBERTSON QUAY</td>\n",
              "      <td>PL4</td>\n",
              "      <td>3</td>\n",
              "      <td>1</td>\n",
              "    </tr>\n",
              "    <tr>\n",
              "      <th>7</th>\n",
              "      <td>100 ROBERTSON QUAY</td>\n",
              "      <td>PL6</td>\n",
              "      <td>1</td>\n",
              "      <td>2</td>\n",
              "    </tr>\n",
              "    <tr>\n",
              "      <th>8</th>\n",
              "      <td>100 ROBERTSON QUAY</td>\n",
              "      <td>PL6</td>\n",
              "      <td>2</td>\n",
              "      <td>1</td>\n",
              "    </tr>\n",
              "    <tr>\n",
              "      <th>9</th>\n",
              "      <td>113 SYED ALWI ROAD</td>\n",
              "      <td>PL1</td>\n",
              "      <td>3</td>\n",
              "      <td>1</td>\n",
              "    </tr>\n",
              "    <tr>\n",
              "      <th>10</th>\n",
              "      <td>225C QUEEN STREET</td>\n",
              "      <td>EL1</td>\n",
              "      <td>3</td>\n",
              "      <td>1</td>\n",
              "    </tr>\n",
              "    <tr>\n",
              "      <th>11</th>\n",
              "      <td>225C QUEEN STREET</td>\n",
              "      <td>PL1</td>\n",
              "      <td>3</td>\n",
              "      <td>1</td>\n",
              "    </tr>\n",
              "    <tr>\n",
              "      <th>12</th>\n",
              "      <td>225C QUEEN STREET</td>\n",
              "      <td>PL1</td>\n",
              "      <td>4</td>\n",
              "      <td>1</td>\n",
              "    </tr>\n",
              "    <tr>\n",
              "      <th>13</th>\n",
              "      <td>23 BARKER ROAD</td>\n",
              "      <td>HL1</td>\n",
              "      <td>1</td>\n",
              "      <td>1</td>\n",
              "    </tr>\n",
              "    <tr>\n",
              "      <th>14</th>\n",
              "      <td>23 MIDDLE ROAD</td>\n",
              "      <td>PL A</td>\n",
              "      <td>2</td>\n",
              "      <td>1</td>\n",
              "    </tr>\n",
              "    <tr>\n",
              "      <th>15</th>\n",
              "      <td>23 MIDDLE ROAD</td>\n",
              "      <td>PL A</td>\n",
              "      <td>4</td>\n",
              "      <td>1</td>\n",
              "    </tr>\n",
              "    <tr>\n",
              "      <th>16</th>\n",
              "      <td>270 ORCHARD ROAD</td>\n",
              "      <td>PL1(APPLE STORE)</td>\n",
              "      <td>1</td>\n",
              "      <td>2</td>\n",
              "    </tr>\n",
              "    <tr>\n",
              "      <th>17</th>\n",
              "      <td>6 DERBYSHIRE ROAD</td>\n",
              "      <td>FL01</td>\n",
              "      <td>3</td>\n",
              "      <td>1</td>\n",
              "    </tr>\n",
              "    <tr>\n",
              "      <th>18</th>\n",
              "      <td>6 DERBYSHIRE ROAD</td>\n",
              "      <td>FL01</td>\n",
              "      <td>4</td>\n",
              "      <td>1</td>\n",
              "    </tr>\n",
              "    <tr>\n",
              "      <th>19</th>\n",
              "      <td>6 DERBYSHIRE ROAD</td>\n",
              "      <td>PL01</td>\n",
              "      <td>1</td>\n",
              "      <td>1</td>\n",
              "    </tr>\n",
              "  </tbody>\n",
              "</table>\n",
              "</div>"
            ],
            "text/plain": [
              "                  Name Description of technical object  Month  Description\n",
              "0   100 ROBERTSON QUAY                             FL3      1            3\n",
              "1   100 ROBERTSON QUAY                             FL3      2            1\n",
              "2   100 ROBERTSON QUAY                             FL5      4            1\n",
              "3   100 ROBERTSON QUAY                             FL7      1            1\n",
              "4   100 ROBERTSON QUAY                             PL4      1            4\n",
              "5   100 ROBERTSON QUAY                             PL4      2            3\n",
              "6   100 ROBERTSON QUAY                             PL4      3            1\n",
              "7   100 ROBERTSON QUAY                             PL6      1            2\n",
              "8   100 ROBERTSON QUAY                             PL6      2            1\n",
              "9   113 SYED ALWI ROAD                             PL1      3            1\n",
              "10   225C QUEEN STREET                             EL1      3            1\n",
              "11   225C QUEEN STREET                             PL1      3            1\n",
              "12   225C QUEEN STREET                             PL1      4            1\n",
              "13      23 BARKER ROAD                             HL1      1            1\n",
              "14      23 MIDDLE ROAD                            PL A      2            1\n",
              "15      23 MIDDLE ROAD                            PL A      4            1\n",
              "16    270 ORCHARD ROAD                PL1(APPLE STORE)      1            2\n",
              "17   6 DERBYSHIRE ROAD                            FL01      3            1\n",
              "18   6 DERBYSHIRE ROAD                            FL01      4            1\n",
              "19   6 DERBYSHIRE ROAD                            PL01      1            1"
            ]
          },
          "metadata": {
            "tags": []
          },
          "execution_count": 41
        }
      ]
    },
    {
      "cell_type": "code",
      "metadata": {
        "id": "f0oJabdE0HwO"
      },
      "source": [
        "# df_v.groupby(['Name','Description of technical object','Month']).count().plot(kind='bar',figsize=(100, 50) )\n"
      ],
      "execution_count": null,
      "outputs": []
    },
    {
      "cell_type": "code",
      "metadata": {
        "id": "9ujDJfUho4-h"
      },
      "source": [
        "# df_route_date = df_route.loc[df_route['Notification date'].dt.month == int(m)]\n",
        "# df_route_date = df_route_date.sort_values(by='Notification date')\n",
        "# temp = df_route_date.drop(['Location', 'Notification date','Long Text Description'], axis=1)\n",
        "# temp.groupby(['Name','Description of technical object']).count()\n"
      ],
      "execution_count": null,
      "outputs": []
    }
  ]
}