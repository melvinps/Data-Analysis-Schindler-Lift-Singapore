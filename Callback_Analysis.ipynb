{
  "nbformat": 4,
  "nbformat_minor": 0,
  "metadata": {
    "colab": {
      "name": "Callback Analysis.ipynb",
      "provenance": [],
      "collapsed_sections": [
        "CIxMQYTUvAlz"
      ],
      "toc_visible": true,
      "authorship_tag": "ABX9TyMxy9RPxPKphuWSIphQD/l1",
      "include_colab_link": true
    },
    "kernelspec": {
      "name": "python3",
      "display_name": "Python 3"
    },
    "language_info": {
      "name": "python"
    }
  },
  "cells": [
    {
      "cell_type": "markdown",
      "metadata": {
        "id": "view-in-github",
        "colab_type": "text"
      },
      "source": [
        "<a href=\"https://colab.research.google.com/github/melvinps/Schindler-Data-Analysis/blob/main/Callback_Analysis.ipynb\" target=\"_parent\"><img src=\"https://colab.research.google.com/assets/colab-badge.svg\" alt=\"Open In Colab\"/></a>"
      ]
    },
    {
      "cell_type": "markdown",
      "metadata": {
        "id": "0k6vQURsdHHB"
      },
      "source": [
        "### **IMPORT DATA**\n",
        "\n",
        "Select Route by entering respectively location (eg. D01, e02)\n",
        "\n",
        "---\n",
        "\n",
        "Select Month by entering month number (eg. **4** for april, **5** for may)"
      ]
    },
    {
      "cell_type": "code",
      "metadata": {
        "id": "Fuzx5sOOgol7"
      },
      "source": [
        "import pandas as pd\n",
        "import numpy as np\n",
        "import matplotlib.pyplot as plt\n",
        "import seaborn as sns\n",
        "from datetime import datetime\n",
        "from collections import defaultdict\n",
        "\n",
        "%load_ext google.colab.data_table\n",
        "%matplotlib inline"
      ],
      "execution_count": 1,
      "outputs": []
    },
    {
      "cell_type": "code",
      "metadata": {
        "id": "n3i8u9PRhCT3"
      },
      "source": [
        "df = pd.read_excel('2021 04 28 Daily Callbacks.xlsx')"
      ],
      "execution_count": 2,
      "outputs": []
    },
    {
      "cell_type": "code",
      "metadata": {
        "id": "W2rANrJ1jaE1"
      },
      "source": [
        "df = df[['Location','Notification date','Name','Description of technical object','Description','Long Text Description']].dropna()"
      ],
      "execution_count": 3,
      "outputs": []
    },
    {
      "cell_type": "code",
      "metadata": {
        "id": "lLgtcxbUkGuR"
      },
      "source": [
        "df['Notification date'] = pd.to_datetime(df['Notification date'])"
      ],
      "execution_count": 4,
      "outputs": []
    },
    {
      "cell_type": "markdown",
      "metadata": {
        "id": "BOxR_phjf6K4"
      },
      "source": [
        "**Skip if do not want to filter by routes or date**"
      ]
    },
    {
      "cell_type": "code",
      "metadata": {
        "colab": {
          "base_uri": "https://localhost:8080/"
        },
        "id": "coUFZ_pMq-lg",
        "outputId": "776e5780-4197-45dd-9306-084e3edd32ec"
      },
      "source": [
        "route = input('Enter Route: ')\n",
        "route = '808' + route.upper()\n",
        "print('Route: ' + route)"
      ],
      "execution_count": 76,
      "outputs": [
        {
          "output_type": "stream",
          "text": [
            "Enter Route: d02\n",
            "Route: 808D02\n"
          ],
          "name": "stdout"
        }
      ]
    },
    {
      "cell_type": "code",
      "metadata": {
        "colab": {
          "base_uri": "https://localhost:8080/"
        },
        "id": "unZjohPNcQQY",
        "outputId": "ffff52c7-d108-43b0-d028-c2d1d198952f"
      },
      "source": [
        "m = input('Enter the month of notification date: ')\n",
        "print('Month selected: ' + m)\n"
      ],
      "execution_count": 6,
      "outputs": [
        {
          "output_type": "stream",
          "text": [
            "Enter the month of notification date: 4\n",
            "Month selected: 4\n"
          ],
          "name": "stdout"
        }
      ]
    },
    {
      "cell_type": "code",
      "metadata": {
        "colab": {
          "base_uri": "https://localhost:8080/"
        },
        "id": "1MYuXxM6gU2B",
        "outputId": "239ab316-dd59-4879-8bdf-44ba4c9d401a"
      },
      "source": [
        "pass_month = []\n",
        "\n",
        "count = int(m)\n",
        "while count > 1:\n",
        "  pass_month.append(str(count))  \n",
        "  count = count - 1\n",
        "\n",
        "pass_month"
      ],
      "execution_count": 7,
      "outputs": [
        {
          "output_type": "execute_result",
          "data": {
            "text/plain": [
              "['4', '3', '2']"
            ]
          },
          "metadata": {
            "tags": []
          },
          "execution_count": 7
        }
      ]
    },
    {
      "cell_type": "code",
      "metadata": {
        "id": "t4sBM-EkkSyb",
        "colab": {
          "base_uri": "https://localhost:8080/",
          "height": 1023
        },
        "outputId": "0200aed8-4e9a-4d68-d7bd-d2cb0a545269"
      },
      "source": [
        "df_route_sick = df.loc[(df['Location'] == route) & (df['Notification date'].dt.month == int(m))]\n",
        "df_route = df.loc[(df['Location'] == route)]\n",
        "df_route_date = df_route.loc[df_route['Notification date'].dt.month == int(m)]\n",
        "df_route_pass_month = df_route.loc[(df_route['Notification date'].dt.month).isin(pass_month)]\n",
        "df_route_pass_month"
      ],
      "execution_count": 77,
      "outputs": [
        {
          "output_type": "execute_result",
          "data": {
            "application/vnd.google.colaboratory.module+javascript": "\n      import \"https://ssl.gstatic.com/colaboratory/data_table/a6224c040fa35dcf/data_table.js\";\n\n      window.createDataTable({\n        data: [[{\n            'v': 725,\n            'f': \"725\",\n        },\n\"808D02\",\n\"2021-04-22 00:00:00\",\n\"CAIRNHILL PLAZA (MCST 409)\",\n\"PL3\",\n\"Replaced cop no 9 button.\",\n\"Replaced cop no 9 button.\"],\n [{\n            'v': 726,\n            'f': \"726\",\n        },\n\"808D02\",\n\"2021-02-13 00:00:00\",\n\"CAIRNHILL PLAZA (MCST 409)\",\n\"PL7\",\n\"Check drive error, reboot the system li\\u00bb\",\n\"Check drive error, reboot the system lift back to normal\"],\n [{\n            'v': 727,\n            'f': \"727\",\n        },\n\"808D02\",\n\"2021-02-14 00:00:00\",\n\"CAIRNHILL PLAZA (MCST 409)\",\n\"PL7\",\n\"Check and replaced PIOVECL 3 print rela\\u00bb\",\n\"Check and replaced PIOVECL 3 print relay 2 pcs,lift back to normal.\"],\n [{\n            'v': 728,\n            'f': \"728\",\n        },\n\"808D02\",\n\"2021-02-15 00:00:00\",\n\"CAIRNHILL PLAZA (MCST 409)\",\n\"PL7\",\n\"Check and replaced capacitor and monito\\u00bb\",\n\"Check and replaced capacitor Check and replaced capacitor and monitor.lift back to normal.\"],\n [{\n            'v': 729,\n            'f': \"729\",\n        },\n\"808D02\",\n\"2021-04-12 00:00:00\",\n\"CAIRNHILL PLAZA (MCST 409)\",\n\"SL4\",\n\"Need to follow up check cop button func\\u00bb\",\n\"Need to follow up check cop button function.\"],\n [{\n            'v': 730,\n            'f': \"730\",\n        },\n\"808D02\",\n\"2021-03-02 00:00:00\",\n\"CAIRNHILL PLAZA (MCST 409)\",\n\"SL4\",\n\"KB fault. Adjust KB switch. Lift back t\\u00bb\",\n\"KB fault. Adjust KB switch. Lift back to normal.\"],\n [{\n            'v': 731,\n            'f': \"731\",\n        },\n\"808D02\",\n\"2021-02-18 00:00:00\",\n\"VIDA CONDOMINIUM (2R-PECK HAY)\",\n\"PL1\",\n\"Check and reset fire alarm, lift back t\\u00bb\",\n\"Check and reset fire alarm, lift back to normal.\"],\n [{\n            'v': 732,\n            'f': \"732\",\n        },\n\"808D02\",\n\"2021-04-13 00:00:00\",\n\"GRANGE INFINITE\",\n\"PL1\",\n\"Replaced 2 pcs cwt roller and replaced \\u00bb\",\n\"Replaced 2 pcs cwt roller and replaced 14 floor landing down button.\"],\n [{\n            'v': 734,\n            'f': \"734\",\n        },\n\"808D02\",\n\"2021-03-31 00:00:00\",\n\"GRANGE INFINITE\",\n\"PL3\",\n\"Lift fatal due to drive error, Reboot t\\u00bb\",\n\"Lift fatal due to drive error, Reboot the system and performance VF test, all functions tested pass, lift back to normal\"],\n [{\n            'v': 735,\n            'f': \"735\",\n        },\n\"808D02\",\n\"2021-02-16 00:00:00\",\n\"HAMILTON SCOTTS\",\n\"PL1\",\n\"Replace door motor,sitop and readjust c\\u00bb\",\n\"Err 207 ext 05 door motor faulty Replace door motor,sitop and readjust car door\"],\n [{\n            'v': 736,\n            'f': \"736\",\n        },\n\"808D02\",\n\"2021-02-17 00:00:00\",\n\"HAMILTON SCOTTS\",\n\"PL1\",\n\"8 floor landing door stuck removed\",\n\"8 floor landing door stuck removed\"],\n [{\n            'v': 739,\n            'f': \"739\",\n        },\n\"808D02\",\n\"2021-02-15 00:00:00\",\n\"LEONIE CONDOTEL\",\n\"FL06\",\n\"\\u2022Error 1663- brake capability test fail\\u00bb\",\n\"\\u2022Error 1663- brake capability test fail \\u2022Checked load status \\u2022Checked brake function \\u2022Tested run \\u2022Monitor\"],\n [{\n            'v': 740,\n            'f': \"740\",\n        },\n\"808D02\",\n\"2021-04-02 00:00:00\",\n\"LEONIE CONDOTEL\",\n\"FL06\",\n\"Err 712 ,need to follow up replace driv\\u00bb\",\n\"Err 712 ,need to follow up replace drive, lift stop.\"],\n [{\n            'v': 742,\n            'f': \"742\",\n        },\n\"808D02\",\n\"2021-02-27 00:00:00\",\n\"LEONIE CONDOTEL\",\n\"PL03\",\n\"Err,safety T4 ..intermittent door not a\\u00bb\",\n\"Need to readjust 1 at floor landing door contact err T4 Err,safety T4 ..intermittent door not able to close fully ..adjusted dr alignment.\"],\n [{\n            'v': 744,\n            'f': \"744\",\n        },\n\"808D02\",\n\"2021-04-25 00:00:00\",\n\"SARKIES MANSION\",\n\"PL2\",\n\"On arrival lift running normal,check er\\u00bb\",\n\"On arrival lift running normal,check err safety RTS,adjust level 4 landing door lock.\"],\n [{\n            'v': 746,\n            'f': \"746\",\n        },\n\"808D02\",\n\"2021-03-18 00:00:00\",\n\"HIGHPOINT CONDOMINIUM\",\n\"PL1\",\n\"Reset & chk J&J lip wiring\",\n\"Reset & chk J&J lip wiring\"],\n [{\n            'v': 747,\n            'f': \"747\",\n        },\n\"808D02\",\n\"2021-03-29 00:00:00\",\n\"HIGHPOINT CONDOMINIUM\",\n\"PL1\",\n\"Qks 910 print faulty replace\",\n\"Qks 910 print faulty replace\"],\n [{\n            'v': 748,\n            'f': \"748\",\n        },\n\"808D02\",\n\"2021-03-18 00:00:00\",\n\"HIGHPOINT CONDOMINIUM\",\n\"FL1\",\n\"Reset & chk (J&J ) type lip wiring\",\n\"Reset & chk (J&J ) type lip wiring\"],\n [{\n            'v': 749,\n            'f': \"749\",\n        },\n\"808D02\",\n\"2021-02-15 00:00:00\",\n\"SETIA RESIDENCES\",\n\"PL1\",\n\"Lift status normal. No error found. Res\\u00bb\",\n\"Lift status normal. No error found. Reset controller lift back to normal.\"],\n [{\n            'v': 750,\n            'f': \"750\",\n        },\n\"808D02\",\n\"2021-03-08 00:00:00\",\n\"SETIA RESIDENCES\",\n\"PL1\",\n\"Lift stucked at level 25th with door op\\u00bb\",\n\"Lift stucked at level 25th with door open close. Check and clean sensor and kskb door Test lift operation Back to normal\"],\n [{\n            'v': 751,\n            'f': \"751\",\n        },\n\"808D02\",\n\"2021-03-20 00:00:00\",\n\"SETIA RESIDENCES\",\n\"PL1\",\n\"2215 reach, release 3 person,err 724 ,r\\u00bb\",\n\"2215 reach, release 3 person,err 724 ,replaced PSPS print,need to follow up replace drive fan,lift stop.\"],\n [{\n            'v': 752,\n            'f': \"752\",\n        },\n\"808D02\",\n\"2021-03-21 00:00:00\",\n\"SETIA RESIDENCES\",\n\"PL1\",\n\"Err 724?. Find sgrw jam and drive fan n\\u00bb\",\n\"Err 724?. Find sgrw jam and drive fan not working\"],\n [{\n            'v': 753,\n            'f': \"753\",\n        },\n\"808D02\",\n\"2021-04-05 00:00:00\",\n\"SETIA RESIDENCES\",\n\"PL1\",\n\"Need to follow up replace drive fan, li\\u00bb\",\n\"Need to follow up replace drive fan, lift running.\"],\n [{\n            'v': 754,\n            'f': \"754\",\n        },\n\"808D02\",\n\"2021-02-15 00:00:00\",\n\"SETIA RESIDENCES\",\n\"FL1\",\n\"Controller hang. Reset and lift back to\\u00bb\",\n\"Controller hang. Reset and lift back to normal.\"],\n [{\n            'v': 755,\n            'f': \"755\",\n        },\n\"808D02\",\n\"2021-04-09 00:00:00\",\n\"CAVENAGH TOWNHOUSE\",\n\"PLA\",\n\"Error log : 10 FC FAULT EXTRA INFO 00  \\u00bb\",\n\"Error log : 10 FC FAULT EXTRA INFO 00  Replace piovcel print relay Lift resume back in use and still under monitoring\"],\n [{\n            'v': 756,\n            'f': \"756\",\n        },\n\"808D02\",\n\"2021-04-09 00:00:00\",\n\"CAVENAGH TOWNHOUSE\",\n\"PLA\",\n\"Error log : 10 FC FAULT / 708 SH FAILUR\\u00bb\",\n\"Error log : 10 FC FAULT / 708 SH FAILURE( repeated error ) - check sh contactor and found auxiliary contact spoiled . - lift stop for part replacement\"],\n [{\n            'v': 758,\n            'f': \"758\",\n        },\n\"808D02\",\n\"2021-04-03 00:00:00\",\n\"CAVENAGH TOWNHOUSE\",\n\"PLC\",\n\"Check JTHSK Breaker trip due to heavy r\\u00bb\",\n\"Check JTHSK Breaker trip due to heavy rain, on back to normal\"],\n [{\n            'v': 759,\n            'f': \"759\",\n        },\n\"808D02\",\n\"2021-03-03 00:00:00\",\n\"CAVENAGH TOWNHOUSE\",\n\"PLD\",\n\"3rd flr lip faulty.send for repair.\",\n\"3rd flr lip faulty.send for repair.\"],\n [{\n            'v': 760,\n            'f': \"760\",\n        },\n\"808D02\",\n\"2021-04-03 00:00:00\",\n\"CAVENAGH TOWNHOUSE\",\n\"PLD\",\n\"Rescue 01 1608hrs with lift level, chec\\u00bb\",\n\"Rescue 01 1608hrs with lift level, check JTHSK Breaker trip due to heavy rain. On back to normal\"],\n [{\n            'v': 765,\n            'f': \"765\",\n        },\n\"808D02\",\n\"2021-03-02 00:00:00\",\n\"ORCHARD SCOTTS CONDOMINIUM\",\n\"PL09 (TWR 2)\",\n\"\\u2022All lift running normal upon arrival a\\u00bb\",\n\"\\u2022All lift running normal upon arrival and under EBOPS supply \\u2022Checked and found that DB breaker trip \\u2022Found that PL11 car ventilation fan shorted \\u2022Isolate fan \\u2022To follow up to replace car ventilation fan\"],\n [{\n            'v': 768,\n            'f': \"768\",\n        },\n\"808D02\",\n\"2021-02-09 00:00:00\",\n\"ORCHARD SCOTTS CONDOMINIUM\",\n\"PL15 (TWR 3)\",\n\"Building incoming power fuse blow. Repl\\u00bb\",\n\"Building incoming power fuse blow. Replace it\"],\n [{\n            'v': 769,\n            'f': \"769\",\n        },\n\"808D02\",\n\"2021-04-19 00:00:00\",\n\"ORCHARD SCOTTS CONDOMINIUM\",\n\"GL22 (TWR 2)\",\n\"Lift stop need further checking\",\n\"Lift stop need further checking\"],\n [{\n            'v': 770,\n            'f': \"770\",\n        },\n\"808D02\",\n\"2021-03-08 00:00:00\",\n\"ORCHARD SCOTTS CONDOMINIUM\",\n\"SL08 (TWR 1)\",\n\"Lift stucked at level 2 Check error doo\\u00bb\",\n\"Lift stucked at level 2 Check error door open err Lift stop need to replace pcb door print Follow up to replace part\"],\n [{\n            'v': 773,\n            'f': \"773\",\n        },\n\"808D02\",\n\"2021-02-07 00:00:00\",\n\"ION ORCHARD\",\n\"SL2\",\n\"Lift TAB mode ..err ,1209!missing node \\u00bb\",\n\"Lift TAB mode ..err ,1209!missing node .chk & secured sub cop print wirings\"],\n [{\n            'v': 774,\n            'f': \"774\",\n        },\n\"808D02\",\n\"2021-02-09 00:00:00\",\n\"ION ORCHARD\",\n\"SL2\",\n\"Remark  - check and found intercom inte\\u00bb\",\n\"Remark - check and found intercom interface device wire loosen . - secured and tested two way communication with Fcc , working in good condition\"],\n [{\n            'v': 775,\n            'f': \"775\",\n        },\n\"808D02\",\n\"2021-03-19 00:00:00\",\n\"ION ORCHARD\",\n\"SL2\",\n\"Check B4 landing door cam roller misali\\u00bb\",\n\"Check B4 landing door cam roller misaligned,check and adjust B4 landing door cam roller, lift back to normal.\"],\n [{\n            'v': 776,\n            'f': \"776\",\n        },\n\"808D02\",\n\"2021-02-26 00:00:00\",\n\"ION ORCHARD\",\n\"FL1\",\n\"Check stone stuck at level 3 landing do\\u00bb\",\n\"Check stone stuck at level 3 landing door sill, remove lift back to normal.\"],\n [{\n            'v': 777,\n            'f': \"777\",\n        },\n\"808D02\",\n\"2021-03-18 00:00:00\",\n\"ION ORCHARD\",\n\"FL1\",\n\"Check and tighten back 4 floor LOP down\\u00bb\",\n\"Check and tighten back 4 floor LOP down button.\"],\n [{\n            'v': 778,\n            'f': \"778\",\n        },\n\"808D02\",\n\"2021-03-30 00:00:00\",\n\"ION ORCHARD\",\n\"FL1\",\n\"Lift motor room air con off ,  Turn on \\u00bb\",\n\"Lift motor room air con off , Turn on air con lift back to normal\"],\n [{\n            'v': 779,\n            'f': \"779\",\n        },\n\"808D02\",\n\"2021-04-15 00:00:00\",\n\"ION ORCHARD\",\n\"FL1\",\n\"No err,adjust car door shoes alignment,\\u00bb\",\n\"No err,adjust car door shoes alignment,suspect user hit the door.\"],\n [{\n            'v': 780,\n            'f': \"780\",\n        },\n\"808D02\",\n\"2021-04-20 00:00:00\",\n\"ION ORCHARD\",\n\"FL1\",\n\"Close sequence error. Level 3 ldg door \\u00bb\",\n\"Close sequence error. Level 3 ldg door shoe come out from door sill due to user bang the door. Fixed back door shoe and adjusted level 3 ldg door.\"],\n [{\n            'v': 781,\n            'f': \"781\",\n        },\n\"808D02\",\n\"2021-04-21 00:00:00\",\n\"ION ORCHARD\",\n\"FL1\",\n\"Car door dental repair back\",\n\"Car door dental repair back\"],\n [{\n            'v': 782,\n            'f': \"782\",\n        },\n\"808D02\",\n\"2021-04-25 00:00:00\",\n\"ION ORCHARD\",\n\"FL1\",\n\"Er 202 door open Er ex info 8. 207 door\\u00bb\",\n\"Er 202 door open Er ex info 8. 207 door sequ Er. Replace door sensor and door drive\"],\n [{\n            'v': 783,\n            'f': \"783\",\n        },\n\"808D02\",\n\"2021-04-27 00:00:00\",\n\"ION ORCHARD\",\n\"FL1\",\n\"Lift stop! Follow up further checking t\\u00bb\",\n\"Lift stop! Follow up further checking tomorrow\"],\n [{\n            'v': 785,\n            'f': \"785\",\n        },\n\"808D02\",\n\"2021-04-20 00:00:00\",\n\"ION ORCHARD\",\n\"CL1\",\n\"\\u2022Tested both intercom can connect to FC\\u00bb\",\n\"\\u2022Tested both intercom can connect to FCC \\u2022Both intercom volume too slow \\u2022To follow to replace intercom speaker and mic\"],\n [{\n            'v': 786,\n            'f': \"786\",\n        },\n\"808D02\",\n\"2021-03-29 00:00:00\",\n\"ION ORCHARD\",\n\"CL1\",\n\"Replaced level 5 LIP button.\",\n\"Replaced level 5 LIP button.\"],\n [{\n            'v': 787,\n            'f': \"787\",\n        },\n\"808D02\",\n\"2021-04-16 00:00:00\",\n\"ION ORCHARD\",\n\"CL2\",\n\"Car intercom bad contact fix back\",\n\"Car intercom bad contact fix back\"],\n [{\n            'v': 789,\n            'f': \"789\",\n        },\n\"808D02\",\n\"2021-02-04 00:00:00\",\n\"ION ORCHARD\",\n\"PL/PL1\",\n\"Check lift status normal, Reboot the sy\\u00bb\",\n\"Check lift status normal, Reboot the system due to communication failure. Lift normal\"],\n [{\n            'v': 790,\n            'f': \"790\",\n        },\n\"808D02\",\n\"2021-02-16 00:00:00\",\n\"ION ORCHARD\",\n\"PL/PL1\",\n\"Arrive to 2120hrs, rescue 01 per 2135hr\\u00bb\",\n\"Arrive to 2120hrs, rescue 01 per 2135hrs, check and replace RKPH relay lift back to normal\"],\n [{\n            'v': 791,\n            'f': \"791\",\n        },\n\"808D02\",\n\"2021-02-16 00:00:00\",\n\"ION ORCHARD\",\n\"PL/PL1\",\n\"Check and reset controller intercom mas\\u00bb\",\n\"Check and reset controller intercom master print.\"],\n [{\n            'v': 792,\n            'f': \"792\",\n        },\n\"808D02\",\n\"2021-03-09 00:00:00\",\n\"ION ORCHARD\",\n\"PL/PL1\",\n\"Adjusted B4 LOP panel.\",\n\"Adjusted B4 LOP panel.\"],\n [{\n            'v': 793,\n            'f': \"793\",\n        },\n\"808D02\",\n\"2021-03-26 00:00:00\",\n\"ION ORCHARD\",\n\"PL/PL1\",\n\"Replaced aircon unit.\",\n\"Replaced aircon unit.\"],\n [{\n            'v': 794,\n            'f': \"794\",\n        },\n\"808D02\",\n\"2021-03-27 00:00:00\",\n\"ION ORCHARD\",\n\"PO/PL2\",\n\"Reprogrammed floor & car lock mask\",\n\"Reprogrammed floor & car lock mask\"],\n [{\n            'v': 795,\n            'f': \"795\",\n        },\n\"808D02\",\n\"2021-02-03 00:00:00\",\n\"ION ORCHARD\",\n\"PL/PL3\",\n\"Check and refix back level B2 LOP butto\\u00bb\",\n\"Check and refix back level B2 LOP button panel .\"],\n [{\n            'v': 796,\n            'f': \"796\",\n        },\n\"808D02\",\n\"2021-02-17 00:00:00\",\n\"ION ORCHARD\",\n\"PL/PL3\",\n\"Check one side handrail loosened, quota\\u00bb\",\n\"Check one side handrail loosened, quotation required\"],\n [{\n            'v': 797,\n            'f': \"797\",\n        },\n\"808D02\",\n\"2021-03-30 00:00:00\",\n\"ION ORCHARD\",\n\"PL/PL3\",\n\"Refix and lubricants door motor pulley.\",\n\"Refix and lubricants door motor pulley.\"],\n [{\n            'v': 798,\n            'f': \"798\",\n        },\n\"808D02\",\n\"2021-04-05 00:00:00\",\n\"ION ORCHARD\",\n\"PL/PL3\",\n\"Replaced idd motor and pulley.\",\n\"Replaced idd motor and pulley.\"],\n [{\n            'v': 799,\n            'f': \"799\",\n        },\n\"808D02\",\n\"2021-04-17 00:00:00\",\n\"ION ORCHARD\",\n\"PL/PL3\",\n\"No error,remove car cam spring do learn\\u00bb\",\n\"No error,remove car cam spring do learn trip and fix back,lift back to normal.\"],\n [{\n            'v': 800,\n            'f': \"800\",\n        },\n\"808D02\",\n\"2021-04-24 00:00:00\",\n\"ION ORCHARD\",\n\"PL/PL3\",\n\"Car door can\\u2019t open .readjust 2 nd and \\u00bb\",\n\"Car door can\\u2019t open .readjust 2 nd and B2 landing door roller alignment\"],\n [{\n            'v': 801,\n            'f': \"801\",\n        },\n\"808D02\",\n\"2021-04-24 00:00:00\",\n\"ION ORCHARD\",\n\"PL/PL3\",\n\"Lift under JAB mode .no later err for t\\u00bb\",\n\"Lift under JAB mode .no later err for today .found lift door intermittent not able to fully open .adjusted car dr magnet sensor,door parameters,learn trip car dr .\"],\n [{\n            'v': 802,\n            'f': \"802\",\n        },\n\"808D02\",\n\"2021-04-20 00:00:00\",\n\"ION ORCHARD\",\n\"PO/PL4\",\n\"Replaced cop B2 button.\",\n\"Replaced cop B2 button.\"],\n [{\n            'v': 803,\n            'f': \"803\",\n        },\n\"808D02\",\n\"2021-03-30 00:00:00\",\n\"ION ORCHARD\",\n\"PO/PL4\",\n\"Replaced aircon timer.\",\n\"Replaced aircon timer.\"],\n [{\n            'v': 804,\n            'f': \"804\",\n        },\n\"808D02\",\n\"2021-02-17 00:00:00\",\n\"ION ORCHARD\",\n\"PO/PL4\",\n\"Incar to FCC intercom working.not able \\u00bb\",\n\"Incar to FCC intercom working.not able to trigger FCC to car .will follow up on tomorrow\"],\n [{\n            'v': 807,\n            'f': \"807\",\n        },\n\"808D02\",\n\"2021-03-10 00:00:00\",\n\"ION ORCHARD\",\n\"PO/PL5\",\n\"Err,712 EI electronic failure.lift stop\\u00bb\",\n\"Err,712 EI electronic failure.lift stop need to be repl drive 33vf.pending for contractors work ..\"],\n [{\n            'v': 808,\n            'f': \"808\",\n        },\n\"808D02\",\n\"2021-02-24 00:00:00\",\n\"ION ORCHARD\",\n\"PO/PL6\",\n\"Check controller hang , check and reset\\u00bb\",\n\"Check controller hang , check and reset controller lift back to normal.\"],\n [{\n            'v': 809,\n            'f': \"809\",\n        },\n\"808D02\",\n\"2021-03-19 00:00:00\",\n\"ION ORCHARD\",\n\"PO/PL6\",\n\"Lift stop, need to follow up replace hoi\",\n\"Lift stop, need to follow up replace hoisting motor bearing.\"],\n [{\n            'v': 810,\n            'f': \"810\",\n        },\n\"808D02\",\n\"2021-04-23 00:00:00\",\n\"ION ORCHARD\",\n\"PO/PL6\",\n\"Err SH fault,replaced SH auxiliary cont\\u00bb\",\n\"Err SH fault,replaced SH auxiliary contact.\"],\n [{\n            'v': 811,\n            'f': \"811\",\n        },\n\"808D02\",\n\"2021-02-19 00:00:00\",\n\"ION ORCHARD\",\n\"OD/PL7\",\n\"4 person come out at 2008 lift stop NFC\",\n\"4 person come out at 2008 lift stop NFC\"],\n [{\n            'v': 812,\n            'f': \"812\",\n        },\n\"808D02\",\n\"2021-04-03 00:00:00\",\n\"ION ORCHARD\",\n\"OD/PL7\",\n\"Chk ,leveling at top & bottom floor ..o\\u00bb\",\n\"Chk ,leveling at top & bottom floor ..ok ..+ - 5mm car above level ..\"],\n [{\n            'v': 813,\n            'f': \"813\",\n        },\n\"808D02\",\n\"2021-02-21 00:00:00\",\n\"ION ORCHARD\",\n\"OD/PL8\",\n\"Replaced car top  guide rails rollers 2\\u00bb\",\n\"Error log no value. Customer do not allow stop lift to check travel noise. Need to follow up check tomorrow morning. Replaced car top  guide rails rollers 2pcs\"],\n [{\n            'v': 814,\n            'f': \"814\",\n        },\n\"808D02\",\n\"2021-03-28 00:00:00\",\n\"GRAND PARK ORCHARD HOTEL\",\n\"PL08\",\n\"Need to follow up replace car door belt.\",\n\"Need to follow up replace car door belt.\"],\n [{\n            'v': 815,\n            'f': \"815\",\n        },\n\"808D02\",\n\"2021-03-12 00:00:00\",\n\"GRAND PARK ORCHARD HOTEL\",\n\"PL10\",\n\"Check and refix back car door sensor wi\\u00bb\",\n\"Check and refix back car door sensor wire, lift back to normal.\"],\n [{\n            'v': 816,\n            'f': \"816\",\n        },\n\"808D02\",\n\"2021-02-14 00:00:00\",\n\"ORCHARD RESIDENCES,THE\",\n\"R/PL1\",\n\"Need two tech, will follow up tomorrow\",\n\"Need two tech, will follow up tomorrow\"],\n [{\n            'v': 817,\n            'f': \"817\",\n        },\n\"808D02\",\n\"2021-02-22 00:00:00\",\n\"ORCHARD RESIDENCES,THE\",\n\"R/PL1\",\n\"Lift stop need to replace Main rope\",\n\"Lift stop need to replace Main rope\"],\n [{\n            'v': 818,\n            'f': \"818\",\n        },\n\"808D02\",\n\"2021-03-07 00:00:00\",\n\"ORCHARD RESIDENCES,THE\",\n\"R/PL1\",\n\"Lift normal. Only complain LCD hanged. \\u00bb\",\n\"Lift normal. Only complain LCD hanged. Check LCD both lift need to do rewiring.follow up for LCD.\"],\n [{\n            'v': 819,\n            'f': \"819\",\n        },\n\"808D02\",\n\"2021-02-16 00:00:00\",\n\"ORCHARD RESIDENCES,THE\",\n\"CP/FL1\",\n\"On arrival lift running normal,err .204\\u00bb\",\n\"On arrival lift running normal,err .204 door rev device err 02 .chk & clean car door sensor (dirty) & lip 14 th flr faulty send for repair ,level lip internment signal missing,replaced lip motherboard ic chip ..\"],\n [{\n            'v': 821,\n            'f': \"821\",\n        },\n\"808D02\",\n\"2021-04-12 00:00:00\",\n\"PARC CENTENNIAL (99-KAMPONG JAVA)\",\n\"PL2\",\n\"Lift under fire homing. Reset sup panel\\u00bb\",\n\"Lift under fire homing. Reset sup panel. Lift back to normal\"],\n [{\n            'v': 822,\n            'f': \"822\",\n        },\n\"808D02\",\n\"2021-03-04 00:00:00\",\n\"PARC CENTENNIAL (99-KAMPONG JAVA)\",\n\"PL2\",\n\"Er 1209 missing note. Check board and I\\u00bb\",\n\"Er 1209 missing note. Check board and IO and do freeze nodes tree\"],\n [{\n            'v': 823,\n            'f': \"823\",\n        },\n\"808D02\",\n\"2021-02-17 00:00:00\",\n\"PARC CENTENNIAL (99-KAMPONG JAVA)\",\n\"PL2\",\n\"Reset card reader & interface pcb..back\\u00bb\",\n\"Need to follow up check in car card reader by card reader contractor, lift running. Reset card reader & interface pcb..back to normal\"],\n [{\n            'v': 824,\n            'f': \"824\",\n        },\n\"808D02\",\n\"2021-03-08 00:00:00\",\n\"PARC CENTENNIAL (99-KAMPONG JAVA)\",\n\"FL3\",\n\"Replace one pc down button\",\n\"15th floor landing down button broken Replace one pc down button\"],\n [{\n            'v': 825,\n            'f': \"825\",\n        },\n\"808D02\",\n\"2021-03-27 00:00:00\",\n\"SARKIES GREEN\",\n\"FL1\",\n\"Level 6 LIP BLOPILG pcb faulty. Need to\\u00bb\",\n\"Level 6 LIP BLOPILG pcb faulty. Need to replace\"],\n [{\n            'v': 827,\n            'f': \"827\",\n        },\n\"808D02\",\n\"2021-02-08 00:00:00\",\n\"KUWAIT EMBASSY\",\n\"PL02\",\n\"Call cancellation\",\n\"Call cancellation\"],\n [{\n            'v': 832,\n            'f': \"832\",\n        },\n\"808D02\",\n\"2021-04-13 00:00:00\",\n\"VILLAGE RESIDENCES ROBERTSON QUAY\",\n\"PL02\",\n\"Lvl 8 door can\\u2019t self close. Adjust and\\u00bb\",\n\"Lvl 8 door can\\u2019t self close. Adjust and service door lock\"],\n [{\n            'v': 833,\n            'f': \"833\",\n        },\n\"808D02\",\n\"2021-03-27 00:00:00\",\n\"VILLAGE RESIDENCES ROBERTSON QUAY\",\n\"PL03\",\n\"FOUND CAR DOOR SINGLE V-BELT TORN APRT.\",\n\"FOUND CAR DOOR SINGLE V-BELT TORN APRT. REPLACE NEW V-BELT AND FINE TUNE ADJUSTMENT DONE. TESTED LIFT RESUME BACK IN USE.\"],\n [{\n            'v': 834,\n            'f': \"834\",\n        },\n\"808D02\",\n\"2021-03-29 00:00:00\",\n\"VILLAGE RESIDENCES ROBERTSON QUAY\",\n\"PL03\",\n\"adjust drive tacko parameters and check\\u00bb\",\n\"adjust drive tacko parameters and check drive contractors\"],\n [{\n            'v': 835,\n            'f': \"835\",\n        },\n\"808D02\",\n\"2021-04-26 00:00:00\",\n\"VILLAGE RESIDENCES ROBERTSON QUAY\",\n\"SL01\",\n\"Need to follow up check, third party co\\u00bb\",\n\"Need to follow up check, third party controller,lift stop.\"],\n [{\n            'v': 836,\n            'f': \"836\",\n        },\n\"808D02\",\n\"2021-03-04 00:00:00\",\n\"VILLAGE RESIDENCES ROBERTSON QUAY\",\n\"SL05\",\n\"Need to further check\",\n\"Need to further check\"],\n [{\n            'v': 837,\n            'f': \"837\",\n        },\n\"808D02\",\n\"2021-02-28 00:00:00\",\n\"TRIPLEONE SOMERSET\",\n\"PL06\",\n\"DCL under voltage. Reset drive\",\n\"DCL under voltage. Reset drive\"],\n [{\n            'v': 838,\n            'f': \"838\",\n        },\n\"808D02\",\n\"2021-03-26 00:00:00\",\n\"TRIPLEONE SOMERSET\",\n\"PL09\",\n\"Error KB fault,adjust brake switch,lift\\u00bb\",\n\"Error KB fault,adjust brake switch,lift back to normal.\"],\n [{\n            'v': 839,\n            'f': \"839\",\n        },\n\"808D02\",\n\"2021-04-18 00:00:00\",\n\"TRIPLEONE SOMERSET\",\n\"PL09\",\n\"Replaced KB switch.\",\n\"Error KB fault. KB switch faulty. Need to replace KB switch. Replaced KB switch.\"],\n [{\n            'v': 841,\n            'f': \"841\",\n        },\n\"808D02\",\n\"2021-04-25 00:00:00\",\n\"THE ATRIUM\",\n\"PL14\",\n\"LMS sensor faulty ,pending for part\",\n\"LMS sensor faulty ,pending for part\"],\n [{\n            'v': 842,\n            'f': \"842\",\n        },\n\"808D02\",\n\"2021-04-19 00:00:00\",\n\"THE ATRIUM\",\n\"PL15\",\n\"Door sill dirty. Clean door sill\",\n\"Door sill dirty. Clean door sill\"],\n [{\n            'v': 843,\n            'f': \"843\",\n        },\n\"808D02\",\n\"2021-04-07 00:00:00\",\n\"THE ATRIUM\",\n\"PL15\",\n\"Er 20 position lost. Need to replace PH\\u00bb\",\n\"Er 20 position lost. Need to replace PHNRD\"],\n [{\n            'v': 844,\n            'f': \"844\",\n        },\n\"808D02\",\n\"2021-03-23 00:00:00\",\n\"THE ATRIUM\",\n\"PL15\",\n\"No fault found on doors. Lift running n\\u00bb\",\n\"No fault found on doors. Lift running normal.\"],\n [{\n            'v': 846,\n            'f': \"846\",\n        },\n\"808D02\",\n\"2021-02-04 00:00:00\",\n\"100 ROBERTSON QUAY\",\n\"FL3\",\n\"Check and reset ELCB car light breaker,\\u00bb\",\n\"Check and reset ELCB car light breaker, lift back to normal.\"],\n [{\n            'v': 849,\n            'f': \"849\",\n        },\n\"808D02\",\n\"2021-03-12 00:00:00\",\n\"100 ROBERTSON QUAY\",\n\"PL4\",\n\"Check 22v breaker trip, on back to norm\\u00bb\",\n\"Check 22v breaker trip, on back to normal\"],\n [{\n            'v': 850,\n            'f': \"850\",\n        },\n\"808D02\",\n\"2021-02-26 00:00:00\",\n\"100 ROBERTSON QUAY\",\n\"PL4\",\n\"NG 22V breaker trip. Checked controller\\u00bb\",\n\"NG 22V breaker trip. Checked controller wiring and reset breaker.\"],\n [{\n            'v': 851,\n            'f': \"851\",\n        },\n\"808D02\",\n\"2021-02-16 00:00:00\",\n\"100 ROBERTSON QUAY\",\n\"PL4\",\n\"Lift stucked at level 10 Lift not level\\u00bb\",\n\"Lift stucked at level 10 Lift not level at 10th storey Lift stop need further checking\"],\n [{\n            'v': 852,\n            'f': \"852\",\n        },\n\"808D02\",\n\"2021-02-04 00:00:00\",\n\"100 ROBERTSON QUAY\",\n\"PL4\",\n\"Check and reset ELCB car light breaker,\\u00bb\",\n\"Check and reset ELCB car light breaker, lift back to normal.\"],\n [{\n            'v': 857,\n            'f': \"857\",\n        },\n\"808D02\",\n\"2021-04-28 00:00:00\",\n\"100 ROBERTSON QUAY\",\n\"FL5\",\n\"car door motor V belt 1 pc broken need \\u00bb\",\n\"car door motor V belt 1 pc broken need to replace still has 2 pcs\"],\n [{\n            'v': 858,\n            'f': \"858\",\n        },\n\"808D02\",\n\"2021-02-12 00:00:00\",\n\"100 ROBERTSON QUAY\",\n\"PL6\",\n\"Lift stop  Check brake mechanical\",\n\"Lift stop Check brake mechanical\"],\n [{\n            'v': 863,\n            'f': \"863\",\n        },\n\"808D02\",\n\"2021-03-17 00:00:00\",\n\"WATERMARK CONDOMINIUM(2S-WATERMARK)\",\n\"SFL2A-1 (TWR 2)\",\n\"Check and isolate controller RKPH relay\\u00bb\",\n\"Check and isolate controller RKPH relay. Reach site 0613 Mantrap replaced 1 person at 0617\"],\n [{\n            'v': 865,\n            'f': \"865\",\n        },\n\"808D02\",\n\"2021-02-17 00:00:00\",\n\"WATERMARK CONDOMINIUM(2S-WATERMARK)\",\n\"SFL2D (TWR 2)\",\n\"Lift stop due to KB fault, need adjust \\u00bb\",\n\"Lift stop due to KB fault, need adjust brake switches and follow up further checking\"],\n [{\n            'v': 867,\n            'f': \"867\",\n        },\n\"808D02\",\n\"2021-04-11 00:00:00\",\n\"ORCHARD CENTRAL\",\n\"PL07\",\n\"Reset intercom system all back to normal\",\n\"Reset intercom system all back to normal\"],\n [{\n            'v': 868,\n            'f': \"868\",\n        },\n\"808D02\",\n\"2021-03-14 00:00:00\",\n\"ORCHARD CENTRAL\",\n\"PL16\",\n\"Replaced No2 button\",\n\"Need to follow up replace in car cop button no 2. Replaced No2 button\"],\n [{\n            'v': 869,\n            'f': \"869\",\n        },\n\"808D02\",\n\"2021-04-20 00:00:00\",\n\"ORCHARD CENTRAL\",\n\"PL16\",\n\"\\u2022Error T4 \\u2022Level 4 landing door unable \\u00bb\",\n\"\\u2022Error T4 \\u2022Level 4 landing door unable to close fully \\u2022Cleaned level 4 landing door track and sill \\u2022Tested and monitor \\u2022Lift back to normal\"],\n [{\n            'v': 870,\n            'f': \"870\",\n        },\n\"808D02\",\n\"2021-04-03 00:00:00\",\n\"ORCHARD CENTRAL\",\n\"PL17\",\n\"Er 148 safety T4, level 2 landing door \\u00bb\",\n\"Er 148 safety T4, level 2 landing door can\\u2019t self close. Need two tech\"],\n [{\n            'v': 871,\n            'f': \"871\",\n        },\n\"808D02\",\n\"2021-03-25 00:00:00\",\n\"ORCHARD CENTRAL\",\n\"PL18\",\n\"Car bottoms sheaves bearings broken nee\\u00bb\",\n\"Car bottoms sheaves bearings broken need to replace\"],\n [{\n            'v': 872,\n            'f': \"872\",\n        },\n\"808D02\",\n\"2021-03-22 00:00:00\",\n\"ORCHARD CENTRAL\",\n\"VL1\",\n\"LIFT IS RUNNING. KIV - RAMAN\",\n\"Lift stop.need to follow up lift door.(cannot open)\"],\n [{\n            'v': 873,\n            'f': \"873\",\n        },\n\"808D02\",\n\"2021-04-17 00:00:00\",\n\"ORCHARD CENTRAL\",\n\"VL1\",\n\"Error RFE not on. Need to follow up che\\u00bb\",\n\"Lift stop need to follow up further checking Error RFE not on. Need to follow up check controller wiring. Lift is stopped.\"],\n [{\n            'v': 874,\n            'f': \"874\",\n        },\n\"808D02\",\n\"2021-04-23 00:00:00\",\n\"ORCHARD CENTRAL\",\n\"VL1\",\n\"Err RR-D not on,check plunger oil leak \\u00bb\",\n\"Err RR-D not on,check plunger oil leak very bad,need to replace plunger oil seal,lift stop.\"],\n [{\n            'v': 875,\n            'f': \"875\",\n        },\n\"808D02\",\n\"2021-04-17 00:00:00\",\n\"ORCHARD CENTRAL\",\n\"VL2\",\n\"Error fat drive 1 RR-D not on check and\\u00bb\",\n\"Error fat drive 1 RR-D not on check and fix back\"],\n [{\n            'v': 876,\n            'f': \"876\",\n        },\n\"808D02\",\n\"2021-04-07 00:00:00\",\n\"ORCHARD CENTRAL\",\n\"VL2\",\n\"Remark:controller status shows normal m\\u00bb\",\n\"Remark:controller status shows normal mode and unable to view error log. -Check and found car door stucked/jammed half way. -serviced car door slide shoe and realigned back car door. -lift test run done and resume back in use\"],\n [{\n            'v': 879,\n            'f': \"879\",\n        },\n\"808D02\",\n\"2021-03-14 00:00:00\",\n\"INSPIRA CONDOMINIUM, THE (75-INSPIR\",\n\"PL1\",\n\"Replaced level 13 down button\",\n\"Replaced level 13 down button\"],\n [{\n            'v': 880,\n            'f': \"880\",\n        },\n\"808D02\",\n\"2021-03-02 00:00:00\",\n\"INSPIRA CONDOMINIUM, THE (75-INSPIR\",\n\"FL1\",\n\"Replace BCM print.\",\n\"Replace BCM print. Lift bk to normal.\"],\n [{\n            'v': 881,\n            'f': \"881\",\n        },\n\"808D02\",\n\"2021-02-26 00:00:00\",\n\"INSPIRA CONDOMINIUM, THE (75-INSPIR\",\n\"PL2\",\n\"Er1510 kB not off stop. Need to replace\\u00bb\",\n\"Er1510 kB not off stop. Need to replace Mayr brake\"],\n [{\n            'v': 882,\n            'f': \"882\",\n        },\n\"808D02\",\n\"2021-03-16 00:00:00\",\n\"INSPIRA CONDOMINIUM, THE (75-INSPIR\",\n\"PL2\",\n\"Err KB not stop ,need to readjust brake\\u00bb\",\n\"Err KB not stop ,need to readjust brake lift stop\"],\n [{\n            'v': 883,\n            'f': \"883\",\n        },\n\"808D02\",\n\"2021-04-22 00:00:00\",\n\"INSPIRA CONDOMINIUM, THE (75-INSPIR\",\n\"PL2\",\n\"On arrival lift running normal,err T3A&\\u00bb\",\n\"On arrival lift running normal,err T3A& FC fault,check car top and lift pit safety no fault found,need to follow up check,lift off with JAB mode.\"],\n [{\n            'v': 885,\n            'f': \"885\",\n        },\n\"808D02\",\n\"2021-02-26 00:00:00\",\n\"INSPIRA CONDOMINIUM, THE (75-INSPIR\",\n\"FL2\",\n\"Car bottom sheave bearing worn out. Need\",\n\"Car bottom sheave bearing worn out. Need to replace car bottom sheave bearing. Lift is stopped.\"],\n [{\n            'v': 886,\n            'f': \"886\",\n        },\n\"808D02\",\n\"2021-03-17 00:00:00\",\n\"INSPIRA CONDOMINIUM, THE (75-INSPIR\",\n\"FL2\",\n\"B1 no self closing due to debris found \\u00bb\",\n\"B1 no self closing due to debris found on door track. Service lift back to normal.\"],\n [{\n            'v': 888,\n            'f': \"888\",\n        },\n\"808D02\",\n\"2021-02-01 00:00:00\",\n\"GAMBIER COURT\",\n\"FL1\",\n\"Error E door open. Plywood stuck at car\\u00bb\",\n\"Error E door open. Plywood stuck at car door sill. Removed plywood from car door sill.\"],\n [{\n            'v': 889,\n            'f': \"889\",\n        },\n\"808D02\",\n\"2021-04-22 00:00:00\",\n\"GAMBIER COURT\",\n\"FL1\",\n\"Replaced SMIC print.\",\n\"Error COP heartbeat missing. SMIC print faulty. Need to replace SMIC print. Replaced SMIC print.\"],\n [{\n            'v': 890,\n            'f': \"890\",\n        },\n\"808D02\",\n\"2021-02-24 00:00:00\",\n\"GAMBIER COURT\",\n\"PL2\",\n\"Err elevat 0033\",\n\"Err elevat 0033\"],\n [{\n            'v': 891,\n            'f': \"891\",\n        },\n\"808D02\",\n\"2021-03-01 00:00:00\",\n\"GAMBIER COURT\",\n\"PL2\",\n\"Lip faulty send for repair\",\n\"Lip faulty send for repair\"],\n [{\n            'v': 892,\n            'f': \"892\",\n        },\n\"808D02\",\n\"2021-03-14 00:00:00\",\n\"GAMBIER COURT\",\n\"PL2\",\n\"Cop not working .reset cop scoppi print\\u00bb\",\n\"Cop not working .reset cop scoppi print lift back to normal\"],\n [{\n            'v': 893,\n            'f': \"893\",\n        },\n\"808D02\",\n\"2021-03-20 00:00:00\",\n\"ORCHARD EXCHANGE\",\n\"PL18 (SMOD)\",\n\"Chk & found no wire was connected into \\u00bb\",\n\"Chk & found no wire was connected into PL-17 controller (fire signal ) refer to NI(MOD)\"],\n [{\n            'v': 894,\n            'f': \"894\",\n        },\n\"808D02\",\n\"2021-03-18 00:00:00\",\n\"ORCHARD EXCHANGE\",\n\"PL18 (SMOD)\",\n\"Check and replace level 6th landing doo\\u00bb\",\n\"Check and replace level 6th landing door hanger and new cartop light fittings.\"],\n [{\n            'v': 897,\n            'f': \"897\",\n        },\n\"808D02\",\n\"2021-02-14 00:00:00\",\n\"TRIPLEONE SOMERSET\",\n\"SL01\",\n\"Er148 safety T4. PVC tape stuck inside \\u00bb\",\n\"Er148 safety T4. PVC tape stuck inside door contact\"],\n [{\n            'v': 898,\n            'f': \"898\",\n        },\n\"808D02\",\n\"2021-03-21 00:00:00\",\n\"TRIPLEONE SOMERSET\",\n\"SL01\",\n\"Arrival check lift normal\",\n\"Arrival check lift normal\"],\n [{\n            'v': 899,\n            'f': \"899\",\n        },\n\"808D02\",\n\"2021-03-29 00:00:00\",\n\"TRIPLEONE SOMERSET\",\n\"SL01\",\n\"Arrival 833 .check scdf oriday open it \\u00bb\",\n\"Arrival 833 .check scdf oriday open it the open .b1 landand and car is broken\"],\n [{\n            'v': 900,\n            'f': \"900\",\n        },\n\"808D02\",\n\"2021-04-07 00:00:00\",\n\"COMCENTRE\",\n\"PLC\",\n\"Er 99 RSK and Er 58 SH no stop. Need to\\u00bb\",\n\"Er 99 RSK and Er 58 SH no stop. Need to replace SKEP pcb\"],\n [{\n            'v': 903,\n            'f': \"903\",\n        },\n\"808D02\",\n\"2021-04-15 00:00:00\",\n\"COMCENTRE\",\n\"PLB\",\n\"Released 5persons at 14:10. Error Open \\u00bb\",\n\"Released 5persons at 14:10. Error Open sequence KOKB. Debris stuck at car door sill. Removed debris from car door sill.\"],\n [{\n            'v': 904,\n            'f': \"904\",\n        },\n\"808D02\",\n\"2021-02-06 00:00:00\",\n\"COMCENTRE\",\n\"PLA\",\n\"Losses contact monitor fix back\",\n\"Losses contact monitor fix back\"],\n [{\n            'v': 906,\n            'f': \"906\",\n        },\n\"808D02\",\n\"2021-03-01 00:00:00\",\n\"COMCENTRE\",\n\"PLE\",\n\"Need to be repl shaft power supply for \\u00bb\",\n\"Need to be repl shaft power supply for keypad ..will follow up on tomorrow by Zarkhary.\"],\n [{\n            'v': 909,\n            'f': \"909\",\n        },\n\"808D02\",\n\"2021-03-01 00:00:00\",\n\"COMCENTRE\",\n\"PLJ\",\n\"Check lift normal\",\n\"Check lift normal\"],\n [{\n            'v': 910,\n            'f': \"910\",\n        },\n\"808D02\",\n\"2021-04-06 00:00:00\",\n\"COMCENTRE\",\n\"PLJ\",\n\"Adjusted car guide rollers tension.\",\n\"Adjusted car guide rollers tension.\"],\n [{\n            'v': 911,\n            'f': \"911\",\n        },\n\"808D02\",\n\"2021-03-07 00:00:00\",\n\"COMCENTRE\",\n\"PLH\",\n\"Check and adjusted 31st landing door lo\\u00bb\",\n\"Check and adjusted 31st landing door lock cam roller\"],\n [{\n            'v': 912,\n            'f': \"912\",\n        },\n\"808D02\",\n\"2021-02-23 00:00:00\",\n\"COMCENTRE\",\n\"PLH\",\n\"Check stone stuck at 31 floor landing d\\u00bb\",\n\"Check stone stuck at 31 floor landing door sill,remove lift back to normal.\"],\n [{\n            'v': 914,\n            'f': \"914\",\n        },\n\"808D02\",\n\"2021-03-03 00:00:00\",\n\"MINISTRY OF HOME AFFAIRS, SECTOR A\",\n\"FLM\",\n\"KB fault. Adjust brake switch. Lift bac\\u00bb\",\n\"KB fault. Adjust brake switch. Lift back to normal.\"],\n [{\n            'v': 915,\n            'f': \"915\",\n        },\n\"808D02\",\n\"2021-04-18 00:00:00\",\n\"MINISTRY OF HOME AFFAIRS, SECTOR A\",\n\"FLR\",\n\"RKPH faulty. Replace 1 relay. Lift back\\u00bb\",\n\"RKPH faulty. Replace 1 relay. Lift back to normal.\"],\n [{\n            'v': 918,\n            'f': \"918\",\n        },\n\"808D02\",\n\"2021-04-05 00:00:00\",\n\"MINISTRY OF HOME AFFAIRS, SECTOR B\",\n\"PL1 (A)\",\n\"No communication on cardoor. Lift statu\\u00bb\",\n\"No communication on cardoor. Lift status stop. To follow up check on door drive.\"],\n [{\n            'v': 919,\n            'f': \"919\",\n        },\n\"808D02\",\n\"2021-02-09 00:00:00\",\n\"MINISTRY OF HOME AFFAIRS, SECTOR B\",\n\"PL3 (C)\",\n\"Lift stop need to repair cardoor and 2 \\u00bb\",\n\"Lift stop need to repair cardoor and 2 nd floor landing door sill\"],\n [{\n            'v': 920,\n            'f': \"920\",\n        },\n\"808D02\",\n\"2021-02-25 00:00:00\",\n\"MINISTRY OF HOME AFFAIRS, SECTOR B\",\n\"PL3 (C)\",\n\"Check and replace Drive fan, lift back \\u00bb\",\n\"Check and replace Drive fan, lift back to normal\"],\n [{\n            'v': 921,\n            'f': \"921\",\n        },\n\"808D02\",\n\"2021-03-03 00:00:00\",\n\"MINISTRY OF HOME AFFAIRS, SECTOR B\",\n\"PL3 (C)\",\n\"Lift running on arrival, check no error\\u00bb\",\n\"Lift running on arrival, check no error for today and related. Check no fault found\"],\n [{\n            'v': 922,\n            'f': \"922\",\n        },\n\"808D02\",\n\"2021-03-17 00:00:00\",\n\"MINISTRY OF HOME AFFAIRS, SECTOR B\",\n\"PL3 (C)\",\n\"Lift running on arrival, check all land\\u00bb\",\n\"Lift running on arrival, check all landing door cam rollers clearance, test and run no travel jerking\"],\n [{\n            'v': 923,\n            'f': \"923\",\n        },\n\"808D02\",\n\"2021-03-31 00:00:00\",\n\"MINISTRY OF HOME AFFAIRS, SECTOR B\",\n\"PL3 (C)\",\n\"Check and adjusted 1st landing door loc\\u00bb\",\n\"Check and adjusted 1st landing door lock lift back to normal\"],\n [{\n            'v': 924,\n            'f': \"924\",\n        },\n\"808D02\",\n\"2021-04-08 00:00:00\",\n\"MINISTRY OF HOME AFFAIRS, SECTOR B\",\n\"PL3 (C)\",\n\"Check and adjusted 2nd floor landing do\\u00bb\",\n\"Check and adjusted 2nd floor landing door panel due to out of track.\"],\n [{\n            'v': 925,\n            'f': \"925\",\n        },\n\"808D02\",\n\"2021-04-08 00:00:00\",\n\"MINISTRY OF HOME AFFAIRS, SECTOR B\",\n\"PL3 (C)\",\n\"Arrive to site no mantrap self realised\\u00bb\",\n\"Arrive to site no mantrap self realised, check landing door sill got debris with screw and clean debris, adjusted cardoor shoe\"],\n [{\n            'v': 926,\n            'f': \"926\",\n        },\n\"808D02\",\n\"2021-02-05 00:00:00\",\n\"MINISTRY OF HOME AFFAIRS, SECTOR B\",\n\"FL4 (D)\",\n\"FC timeout. Reset drive. Lift back to n\\u00bb\",\n\"FC timeout. Reset drive. Lift back to normal.\"],\n [{\n            'v': 927,\n            'f': \"927\",\n        },\n\"808D02\",\n\"2021-02-08 00:00:00\",\n\"MINISTRY OF HOME AFFAIRS, SECTOR B\",\n\"PL5 (E)\",\n\"Lift stucked at level 2 Found landing d\\u00bb\",\n\"Lift stucked at level 2 Found landing door contact misaligned. Adjust and do lubricate at moving parts. Test door and lift back to normal\"],\n [{\n            'v': 928,\n            'f': \"928\",\n        },\n\"808D02\",\n\"2021-04-12 00:00:00\",\n\"MINISTRY OF HOME AFFAIRS, SECTOR B\",\n\"PL5 (E)\",\n\"Replace cardoor upthrust roller and ref\\u00bb\",\n\"Follow up Replace cardoor upthrust roller and refix cardoor due to misuse\"],\n [{\n            'v': 929,\n            'f': \"929\",\n        },\n\"808D02\",\n\"2021-02-04 00:00:00\",\n\"MINISTRY OF HOME AFFAIRS, SECTOR B\",\n\"PL6 (F)\",\n\"Check drive fan and replace additional \\u00bb\",\n\"Check drive fan and replace additional fan, lift back to normal\"],\n [{\n            'v': 931,\n            'f': \"931\",\n        },\n\"808D02\",\n\"2021-02-22 00:00:00\",\n\"SHAN GATE APARTMENT (MCST 1696)\",\n\"PL01\",\n\"Check safety. Check contact relay. Rese\\u00bb\",\n\"Check safety. Check contact relay. Reset controller. Lift back to normal. Lift under monitoring.\"],\n [{\n            'v': 932,\n            'f': \"932\",\n        },\n\"808D02\",\n\"2021-03-06 00:00:00\",\n\"SHAN GATE APARTMENT (MCST 1696)\",\n\"PL01\",\n\"Check lift normal\",\n\"Check lift normal\"],\n [{\n            'v': 933,\n            'f': \"933\",\n        },\n\"808D02\",\n\"2021-03-09 00:00:00\",\n\"SHAN GATE APARTMENT (MCST 1696)\",\n\"PL01\",\n\"Not mantrap. Only breakdown. DT-O relay\\u00bb\",\n\"Not mantrap. Only breakdown. DT-O relay bad contact\"],\n [{\n            'v': 934,\n            'f': \"934\",\n        },\n\"808D02\",\n\"2021-03-12 00:00:00\",\n\"SHAN GATE APARTMENT (MCST 1696)\",\n\"PL01\",\n\"Car top fan noise. Replaced it\",\n\"Car top fan noise. Replaced it\"],\n [{\n            'v': 936,\n            'f': \"936\",\n        },\n\"808D02\",\n\"2021-04-27 00:00:00\",\n\"SHAW PLAZA\",\n\"RL4\",\n\"Error safety end clear up car door cont\\u00bb\",\n\"Error safety end clear up car door contact lift back to normal\"],\n [{\n            'v': 937,\n            'f': \"937\",\n        },\n\"808D02\",\n\"2021-02-25 00:00:00\",\n\"ROSEVALE\",\n\"PL1\",\n\"COP no.10 button casing broken. Need to\\u00bb\",\n\"COP no.10 button casing broken. Need to replace COP no.10 button casing(MWQ).\"],\n [{\n            'v': 938,\n            'f': \"938\",\n        },\n\"808D02\",\n\"2021-04-20 00:00:00\",\n\"ROSEVALE\",\n\"PL1\",\n\"No error. Lift homing due to fire alarm\\u00bb\",\n\"No error. Lift homing due to fire alarm. Reset fire alarm from SUP panel.\"],\n [{\n            'v': 939,\n            'f': \"939\",\n        },\n\"808D02\",\n\"2021-04-11 00:00:00\",\n\"ROSEVALE\",\n\"PL2\",\n\"Lift stop for further checking tomorrow\",\n\"Lift stop for further checking tomorrow\"],\n [{\n            'v': 940,\n            'f': \"940\",\n        },\n\"808D02\",\n\"2021-04-20 00:00:00\",\n\"ROSEVALE\",\n\"PL2\",\n\"No error. Lift homing due to fire alarm\\u00bb\",\n\"No error. Lift homing due to fire alarm. Reset fire alarm from SUP panel.\"],\n [{\n            'v': 941,\n            'f': \"941\",\n        },\n\"808D02\",\n\"2021-04-26 00:00:00\",\n\"ROSEVALE\",\n\"PL2\",\n\"Reset COP panel\",\n\"Reset COP panel\"],\n [{\n            'v': 949,\n            'f': \"949\",\n        },\n\"808D02\",\n\"2021-04-04 00:00:00\",\n\"SQUARE 2\",\n\"PL7\",\n\"Err 139 unintended movement detected. B\\u00bb\",\n\"Err 139 unintended movement detected. Brake test under alert(638mm/s2). Hoisting ropes oily. Need to service hoisting ropes.\"],\n [{\n            'v': 950,\n            'f': \"950\",\n        },\n\"808D02\",\n\"2021-04-11 00:00:00\",\n\"SQUARE 2\",\n\"PL7\",\n\"Set pameter lift back to normal\",\n\"Set pameter lift back to normal\"],\n [{\n            'v': 951,\n            'f': \"951\",\n        },\n\"808D02\",\n\"2021-04-09 00:00:00\",\n\"SQUARE 2\",\n\"PL8\",\n\"Lost group connection. Reset controller\",\n\"Lost group connection. Reset controller\"],\n [{\n            'v': 952,\n            'f': \"952\",\n        },\n\"808D02\",\n\"2021-04-16 00:00:00\",\n\"SQUARE 2\",\n\"PL9\",\n\"Error T1,check RKPH already isolated,re\\u00bb\",\n\"Error T1,check RKPH already isolated,reset controller smlcd button,lift back to normal.\"],\n [{\n            'v': 953,\n            'f': \"953\",\n        },\n\"808D02\",\n\"2021-04-23 00:00:00\",\n\"ECOVILLE (72-MARTABAN)\",\n\"PL1\",\n\"Err T4,check level 3 both landing door \\u00bb\",\n\"Err T4,check level 3 both landing door no fault found,suspect objects stuck at landing door.\"],\n [{\n            'v': 955,\n            'f': \"955\",\n        },\n\"808D02\",\n\"2021-03-04 00:00:00\",\n\"D'LOTUS CONDOMNIUM (2S-LORONG AMPAS\",\n\"PL1\",\n\"Er 148 safety T4. Rubbish stuck inside \\u00bb\",\n\"Er 148 safety T4. Rubbish stuck inside level 20 door sill\"],\n [{\n            'v': 956,\n            'f': \"956\",\n        },\n\"808D02\",\n\"2021-03-26 00:00:00\",\n\"D'LOTUS CONDOMNIUM (2S-LORONG AMPAS\",\n\"FL1\",\n\"Main motor bearing spoiled.need to repl\\u00bb\",\n\"Main motor bearing spoiled.need to replace bearing\"],\n [{\n            'v': 959,\n            'f': \"959\",\n        },\n\"808D02\",\n\"2021-03-22 00:00:00\",\n\"TAN TOCK SENG HOSPITAL ANNEX (94-TT\",\n\"PL3\",\n\"Group communication lost. Reset control\\u00bb\",\n\"Group communication lost. Reset controller\"],\n [{\n            'v': 960,\n            'f': \"960\",\n        },\n\"808D02\",\n\"2021-04-20 00:00:00\",\n\"TAN TOCK SENG HOSPITAL ANNEX (94-TT\",\n\"PL4\",\n\"Error safety T5. Car door clutch jammed\\u00bb\",\n\"Error safety T5. Car door clutch jammed. Serviced car door clutch.\"],\n [{\n            'v': 961,\n            'f': \"961\",\n        },\n\"808D02\",\n\"2021-04-25 00:00:00\",\n\"MONTEBLEU CONDOMINIUM (77-MINBU)\",\n\"FL1\",\n\"Err position jump,service shalf tacho,l\\u00bb\",\n\"Err position jump,service shalf tacho,learn trip lift back to normal.\"],\n [{\n            'v': 962,\n            'f': \"962\",\n        },\n\"808D02\",\n\"2021-04-24 00:00:00\",\n\"MONTEBLEU CONDOMINIUM (77-MINBU)\",\n\"FL1\",\n\"Lift running on arrival, check incar in\\u00bb\",\n\"Lift running on arrival, check incar indicator and voice announcement faulty... follow up further checking on Monday\"],\n [{\n            'v': 967,\n            'f': \"967\",\n        },\n\"808D02\",\n\"2021-04-01 00:00:00\",\n\"OASIA HOTEL\",\n\"PL7\",\n\"Car top sheaves bearings broken\",\n\"Car top sheaves bearings broken\"],\n [{\n            'v': 969,\n            'f': \"969\",\n        },\n\"808D02\",\n\"2021-03-10 00:00:00\",\n\"OASIA HOTEL\",\n\"FL1 (UNDER NOVENA SPECIALIST)\",\n\"Check and adjust 18 floor landing door \\u00bb\",\n\"Check and adjust 18 floor landing door cam roller, lift back to normal.\"],\n [{\n            'v': 970,\n            'f': \"970\",\n        },\n\"808D02\",\n\"2021-03-30 00:00:00\",\n\"MOUNT ELIZABETH NOVENA HOSPITAL\",\n\"H12\",\n\"Level 2 LD door transmission cable was \\u00bb\",\n\"Level 2 LD door transmission cable was broken\"],\n [{\n            'v': 971,\n            'f': \"971\",\n        },\n\"808D02\",\n\"2021-04-11 00:00:00\",\n\"MOUNT ELIZABETH NOVENA HOSPITAL\",\n\"H13\",\n\"5 person out at 1515 lift stop\",\n\"5 person out at 1515 lift stop\"],\n [{\n            'v': 972,\n            'f': \"972\",\n        },\n\"808D02\",\n\"2021-02-04 00:00:00\",\n\"MOUNT ELIZABETH NOVENA HOSPITAL\",\n\"H14\",\n\"Check and adjusted 9th floor landing\",\n\"Check and adjusted 9th floor landing\"],\n [{\n            'v': 973,\n            'f': \"973\",\n        },\n\"808D02\",\n\"2021-03-01 00:00:00\",\n\"MOUNT ELIZABETH NOVENA HOSPITAL\",\n\"H14\",\n\"Lift fatal due to COP D/O button Jam du\\u00bb\",\n\"Lift fatal due to COP D/O button Jam due to improper use by unknown, readjusted\"],\n [{\n            'v': 974,\n            'f': \"974\",\n        },\n\"808D02\",\n\"2021-02-14 00:00:00\",\n\"MOUNT ELIZABETH NOVENA HOSPITAL\",\n\"H15\",\n\"On arrival lift running,car door sill s\\u00bb\",\n\"On arrival lift running,car door sill stuck with stone remove by building maintenance.\"],\n [{\n            'v': 975,\n            'f': \"975\",\n        },\n\"808D02\",\n\"2021-04-21 00:00:00\",\n\"MOUNT ELIZABETH NOVENA HOSPITAL\",\n\"H15\",\n\"Check and adjusted level 12th floor lan\\u00bb\",\n\"Check and adjusted level 12th floor landing door panel due to no self closing\"],\n [{\n            'v': 976,\n            'f': \"976\",\n        },\n\"808D02\",\n\"2021-03-04 00:00:00\",\n\"MOUNT ELIZABETH NOVENA HOSPITAL\",\n\"H10\",\n\"Er148 safety T4. Adjusted level 6 door \\u00bb\",\n\"Er148 safety T4. Adjusted level 6 door lock\"],\n [{\n            'v': 977,\n            'f': \"977\",\n        },\n\"808D02\",\n\"2021-03-17 00:00:00\",\n\"MOUNT ELIZABETH NOVENA HOSPITAL\",\n\"H10\",\n\"Check and adjust car door contact, lift\\u00bb\",\n\"Check and adjust car door contact, lift back to normal.\"],\n [{\n            'v': 978,\n            'f': \"978\",\n        },\n\"808D02\",\n\"2021-04-02 00:00:00\",\n\"MOUNT ELIZABETH NOVENA HOSPITAL\",\n\"H10\",\n\"Error RFE fault,need to follow up repla\\u00bb\",\n\"Error RFE fault,need to follow up replace SKE print.\"],\n [{\n            'v': 979,\n            'f': \"979\",\n        },\n\"808D02\",\n\"2021-03-22 00:00:00\",\n\"MOUNT ELIZABETH NOVENA HOSPITAL\",\n\"H19\",\n\"Er 09 KB fault, adjusted KB switch\",\n\"Er 09 KB fault, adjusted KB switch\"],\n [{\n            'v': 980,\n            'f': \"980\",\n        },\n\"808D02\",\n\"2021-03-20 00:00:00\",\n\"MOUNT ELIZABETH NOVENA HOSPITAL\",\n\"H19\",\n\"Check and isolate controller RKPH relay\\u00bb\",\n\"Check and isolate controller RKPH relay, lift back to normal.\"],\n [{\n            'v': 981,\n            'f': \"981\",\n        },\n\"808D02\",\n\"2021-02-24 00:00:00\",\n\"MOUNT ELIZABETH NOVENA HOSPITAL\",\n\"DW1\",\n\"NFC\",\n\"NFC\"],\n [{\n            'v': 985,\n            'f': \"985\",\n        },\n\"808D02\",\n\"2021-04-15 00:00:00\",\n\"MOUNT ELIZABETH NOVENA HOSPITAL\",\n\"M12\",\n\"Er 94 door lock fault. Replace door loc\\u00bb\",\n\"Er 94 door lock fault. Replace door lock for level B1\"],\n [{\n            'v': 988,\n            'f': \"988\",\n        },\n\"808D02\",\n\"2021-04-26 00:00:00\",\n\"MOUNT ELIZABETH NOVENA HOSPITAL\",\n\"M09\",\n\"Error rsk fault Replaced ske print Test\\u00bb\",\n\"Error rsk fault Replaced ske print Test lift and monitor Back to normal\"],\n [{\n            'v': 989,\n            'f': \"989\",\n        },\n\"808D02\",\n\"2021-03-12 00:00:00\",\n\"MOUNT ELIZABETH NOVENA HOSPITAL\",\n\"M11\",\n\"Er 202 door open Er. Replace level 4 lo\\u00bb\",\n\"Er 202 door open Er. Replace level 4 lock roller\"],\n [{\n            'v': 990,\n            'f': \"990\",\n        },\n\"808D02\",\n\"2021-03-27 00:00:00\",\n\"MOUNT ELIZABETH NOVENA HOSPITAL\",\n\"M11\",\n\"Close sequence error. Check mechanisms.\\u00bb\",\n\"Close sequence error. Check mechanisms. Door sensor. No fault found. Lift back to normal.\"],\n [{\n            'v': 994,\n            'f': \"994\",\n        },\n\"808D02\",\n\"2021-04-13 00:00:00\",\n\"PEACE MANSION   (MCST 686)\",\n\"PF A\",\n\"Error tacho fault check tachometer belt\\u00bb\",\n\"Error tacho fault check tachometer belt busted\"],\n [{\n            'v': 995,\n            'f': \"995\",\n        },\n\"808D02\",\n\"2021-03-26 00:00:00\",\n\"PEACE MANSION   (MCST 686)\",\n\"PF A\",\n\"1520 reach, release one person 10 min,D\\u00bb\",\n\"1520 reach, release one person 10 min,Drive JTHSA breaker trip,on back check drive fan and monitor.\"],\n [{\n            'v': 996,\n            'f': \"996\",\n        },\n\"808D02\",\n\"2021-03-12 00:00:00\",\n\"PEACE MANSION   (MCST 686)\",\n\"PF A\",\n\"Err,KUet fault 67 .replaced Phuet 1set .\",\n\"Err,KUet fault 67 .replaced Phuet 1set .\"],\n [{\n            'v': 997,\n            'f': \"997\",\n        },\n\"808D02\",\n\"2021-03-08 00:00:00\",\n\"PEACE MANSION   (MCST 686)\",\n\"PF A\",\n\"Door sensor faulty\",\n\"Door sensor faulty\"],\n [{\n            'v': 998,\n            'f': \"998\",\n        },\n\"808D02\",\n\"2021-02-28 00:00:00\",\n\"PEACE MANSION   (MCST 686)\",\n\"PF A\",\n\"Check drive JTHSA1 breaker trip, check \\u00bb\",\n\"Check drive JTHSA1 breaker trip, check & reset JTHSA1 breaker. Lift back to normal.\"],\n [{\n            'v': 999,\n            'f': \"999\",\n        },\n\"808D02\",\n\"2021-02-27 00:00:00\",\n\"PEACE MANSION   (MCST 686)\",\n\"PF A\",\n\"JTHSA1 trip reset and monitoring\",\n\"JTHSA1 trip reset and monitoring\"],\n [{\n            'v': 1002,\n            'f': \"1002\",\n        },\n\"808D02\",\n\"2021-02-16 00:00:00\",\n\"PEACE MANSION   (MCST 686)\",\n\"PF C\",\n\"To arrange 3rd party vendor. Bypass car\\u00bb\",\n\"To arrange 3rd party vendor. Bypass card reader can be access.\"],\n [{\n            'v': 1003,\n            'f': \"1003\",\n        },\n\"808D02\",\n\"2021-02-22 00:00:00\",\n\"PEACE MANSION   (MCST 686)\",\n\"PL B\",\n\"Lift stop for further checking tomorrow\\u00bb\",\n\"Lift stop for further checking tomorrow...\"],\n [{\n            'v': 1004,\n            'f': \"1004\",\n        },\n\"808D02\",\n\"2021-03-03 00:00:00\",\n\"PEACE MANSION   (MCST 686)\",\n\"PL B\",\n\"On arrival lift running normal. No faul\\u00bb\",\n\"On arrival lift running normal. No fault found.\"],\n [{\n            'v': 1007,\n            'f': \"1007\",\n        },\n\"808D02\",\n\"2021-04-08 00:00:00\",\n\"CENTRAL MALL\",\n\"CP03\",\n\"DB breaker trip. Reset. Lift back to no\\u00bb\",\n\"DB breaker trip. Reset. Lift back to normal.\"],\n [{\n            'v': 1008,\n            'f': \"1008\",\n        },\n\"808D02\",\n\"2021-04-09 00:00:00\",\n\"RIVERSIDE POINT\",\n\"OL01\",\n\"Check need to repair LOP button follow \\u00bb\",\n\"Check need to repair LOP button follow up tomorrow\"],\n [{\n            'v': 1009,\n            'f': \"1009\",\n        },\n\"808D02\",\n\"2021-04-08 00:00:00\",\n\"RIVERSIDE POINT\",\n\"OL01\",\n\"LOP level 4 faulty. To follow up replac\\u00bb\",\n\"LOP level 4 faulty. To follow up replace LOP button.\"],\n [{\n            'v': 1010,\n            'f': \"1010\",\n        },\n\"808D02\",\n\"2021-03-29 00:00:00\",\n\"RIVERSIDE POINT\",\n\"OL01\",\n\"2nd floor landing down button broken ne\\u00bb\",\n\"2nd floor landing down button broken need to replace\"],\n [{\n            'v': 1011,\n            'f': \"1011\",\n        },\n\"808D02\",\n\"2021-03-26 00:00:00\",\n\"RIVERSIDE POINT\",\n\"OL01\",\n\"Reset controller and check controller w\\u00bb\",\n\"Reset controller and check controller wiring.\"],\n [{\n            'v': 1012,\n            'f': \"1012\",\n        },\n\"808D02\",\n\"2021-03-18 00:00:00\",\n\"RIVERSIDE POINT\",\n\"OL01\",\n\"Check and reset controller\",\n\"Check and reset controller\"],\n [{\n            'v': 1013,\n            'f': \"1013\",\n        },\n\"808D02\",\n\"2021-02-22 00:00:00\",\n\"RIVERSIDE POINT\",\n\"OL01\",\n\"\\u2022Level 4 button sunken in \\u2022Re-fixed bac\\u00bb\",\n\"\\u2022Level 4 button sunken in \\u2022Re-fixed back button \\u2022Tested\"],\n [{\n            'v': 1014,\n            'f': \"1014\",\n        },\n\"808D02\",\n\"2021-02-08 00:00:00\",\n\"RIVERSIDE POINT\",\n\"OL01\",\n\"Remark - check and found LOP level 4 bu\\u00bb\",\n\"Remark - check and found LOP level 4 button sunken inside - refixed/secured LOP button and tested with security officer - working in good condition\"],\n [{\n            'v': 1018,\n            'f': \"1018\",\n        },\n\"808D02\",\n\"2021-03-14 00:00:00\",\n\"RIVERSIDE POINT\",\n\"OL02\",\n\"Er 2709 over speed. Reset drive\",\n\"Er 2709 over speed. Reset drive\"],\n [{\n            'v': 1019,\n            'f': \"1019\",\n        },\n\"808D02\",\n\"2021-03-24 00:00:00\",\n\"RIVERSIDE POINT\",\n\"OL02\",\n\"Lift stop due to pit water ingress. Fol\\u00bb\",\n\"Lift stop due to pit water ingress. Follow up tomorrow\"],\n [{\n            'v': 1020,\n            'f': \"1020\",\n        },\n\"808D02\",\n\"2021-03-30 00:00:00\",\n\"RIVERSIDE POINT\",\n\"OL02\",\n\"Repaired 2nd flr lop down direction but\\u00bb\",\n\"Repaired 2nd flr lop down direction button (sunken) due to rough usage & adjusted sensitivity of button(pressed type )@ level 4lop.\"],\n [{\n            'v': 1022,\n            'f': \"1022\",\n        },\n\"808D02\",\n\"2021-02-28 00:00:00\",\n\"WILKIE 48\",\n\"PL1\",\n\"Level 1 door no self close. Adjust pres\\u00bb\",\n\"Level 1 door no self close. Adjust pressing arm spring position\"],\n [{\n            'v': 1023,\n            'f': \"1023\",\n        },\n\"808D02\",\n\"2021-03-05 00:00:00\",\n\"WILKIE 48\",\n\"PL1\",\n\"Intermittent lift stuck at level 1 ..ch\\u00bb\",\n\"Intermittent lift stuck at level 1 ..chk & adjusted 1 at level landing door alignment (telescopic type ) & mechanical door lock clearance.\"],\n [{\n            'v': 1026,\n            'f': \"1026\",\n        },\n\"808D02\",\n\"2021-02-21 00:00:00\",\n\"PASADENA CONDOMINIUM\",\n\"FL2\",\n\"ASILOG pcb faulty. Reset power. Need to\\u00bb\",\n\"ASILOG pcb faulty. Reset power. Need to follow up to replace\"],\n [{\n            'v': 1027,\n            'f': \"1027\",\n        },\n\"808D02\",\n\"2021-04-09 00:00:00\",\n\"PASADENA CONDOMINIUM\",\n\"FL2\",\n\"To follow up check on landing I/O.\",\n\"To follow up check on landing I/O.\"],\n [{\n            'v': 1029,\n            'f': \"1029\",\n        },\n\"808D02\",\n\"2021-02-02 00:00:00\",\n\"MERA SPRINGS CONDOMINIUM (76-MERASP\",\n\"PL1\",\n\"Adjusted level 10 l/dr cam rollers clea\\u00bb\",\n\"Adjusted level 10 l/dr cam rollers clearance (door operation jerk).\"],\n [{\n            'v': 1030,\n            'f': \"1030\",\n        },\n\"808D02\",\n\"2021-02-27 00:00:00\",\n\"MERA SPRINGS CONDOMINIUM (76-MERASP\",\n\"FL2\",\n\"Button working fine. No fault found.\",\n\"Button working fine. No fault found.\"],\n [{\n            'v': 1034,\n            'f': \"1034\",\n        },\n\"808D02\",\n\"2021-04-05 00:00:00\",\n\"SUITES AT OWEN (810-OWEN MACLY)\",\n\"PL1\",\n\"Check normal\",\n\"Check normal\"],\n [{\n            'v': 1035,\n            'f': \"1035\",\n        },\n\"808D02\",\n\"2021-04-05 00:00:00\",\n\"SUITES AT OWEN (810-OWEN MACLY)\",\n\"PL1\",\n\"Check lift normal\",\n\"Check lift normal\"],\n [{\n            'v': 1038,\n            'f': \"1038\",\n        },\n\"808D02\",\n\"2021-02-27 00:00:00\",\n\"PARK REGIS SINGAPORE\",\n\"FL1\",\n\"Something stuck at car door sill removed\",\n\"Something stuck at car door sill remove\"],\n [{\n            'v': 1039,\n            'f': \"1039\",\n        },\n\"808D02\",\n\"2021-03-23 00:00:00\",\n\"PARK REGIS SINGAPORE\",\n\"FL1\",\n\"Level 3 landing door sill out from sill\\u00bb\",\n\"Level 3 landing door sill out from sill due to kick roller out from adjustment. Causes the door upon opening swing out from sill end. Adjust mechanisms. Lift back to normal.\"],\n [{\n            'v': 1040,\n            'f': \"1040\",\n        },\n\"808D02\",\n\"2021-03-26 00:00:00\",\n\"PARK REGIS SINGAPORE\",\n\"FL1\",\n\"Err,safety 148 ..chk & adjusted 6th flr\\u00bb\",\n\"Err,safety 148 ..chk & adjusted 6th flr l/dr alignment & mechanical door lock clearance\"],\n [{\n            'v': 1041,\n            'f': \"1041\",\n        },\n\"808D02\",\n\"2021-03-27 00:00:00\",\n\"PARK REGIS SINGAPORE\",\n\"FL1\",\n\"Er 148 safety T4, adjusted level 6 land\\u00bb\",\n\"Er 148 safety T4, adjusted level 6 landing door lock position\"],\n [{\n            'v': 1042,\n            'f': \"1042\",\n        },\n\"808D02\",\n\"2021-04-06 00:00:00\",\n\"PARK REGIS SINGAPORE\",\n\"FL1\",\n\"Errro log : 0094 door lock fault -Check\\u00bb\",\n\"Errro log : 0094 door lock fault -Check 1st landing door and fine tune adjustment done on landing door lock -test run done and lift resume back in use\"],\n [{\n            'v': 1045,\n            'f': \"1045\",\n        },\n\"808D02\",\n\"2021-03-08 00:00:00\",\n\"BUGIS+\",\n\"FL1\",\n\"Release 2 pax at 1405. Govenor pulley w\\u00bb\",\n\"Release 2 pax at 1405. Govenor pulley worn out. Causes the rope came off. Replace and check alignment. Lift back to normal.\"],\n [{\n            'v': 1046,\n            'f': \"1046\",\n        },\n\"808D02\",\n\"2021-02-14 00:00:00\",\n\"HOTEL SNOW\",\n\"PL1\",\n\"Check and replaced 1 pc controller NGL \\u00bb\",\n\"Check and replaced 1 pc controller NGL power supply unit.\"],\n [{\n            'v': 1047,\n            'f': \"1047\",\n        },\n\"808D02\",\n\"2021-02-24 00:00:00\",\n\"SUITES 123\",\n\"PL1\",\n\"Check and isolate RKPH relay connection\\u00bb\",\n\"Check and isolate RKPH relay connection, lift back to normal.\"],\n [{\n            'v': 1048,\n            'f': \"1048\",\n        },\n\"808D02\",\n\"2021-03-23 00:00:00\",\n\"SUITES 123\",\n\"PL1\",\n\"error Safety T4, on arrival released 2 \\u00bb\",\n\"error Safety T4, on arrival released 2 person. Adjusted 1st floor landing door lock. Monitor and back to normal.\"],\n [{\n            'v': 1049,\n            'f': \"1049\",\n        },\n\"808D02\",\n\"2021-04-06 00:00:00\",\n\"MUSTAFA CENTRE, SYED ALWI ROAD\",\n\"PL1\",\n\"Err ,safety circuit & lop /lip no suppl\\u00bb\",\n\"Err ,safety circuit & lop /lip no supply. NGO transformer faulty.replaced.lift back to normal\"],\n [{\n            'v': 1051,\n            'f': \"1051\",\n        },\n\"808D02\",\n\"2021-02-12 00:00:00\",\n\"MUSTAFA CENTRE, SYED ALWI ROAD\",\n\"PL2\",\n\"Error 148. Check landing door self clos\\u00bb\",\n\"Error 148. Check landing door self closing no issue. Found out mechanical lock bounce upon closing finish. Adjust and lift back to normal.\"],\n [{\n            'v': 1054,\n            'f': \"1054\",\n        },\n\"808D02\",\n\"2021-02-20 00:00:00\",\n\"MUSTAFA CENTRE, SYED ALWI ROAD\",\n\"PL3\",\n\"Er 148 safety T4, service level 4 door\",\n\"Er 148 safety T4, service level 4 door\"],\n [{\n            'v': 1055,\n            'f': \"1055\",\n        },\n\"808D02\",\n\"2021-04-09 00:00:00\",\n\"MUSTAFA CENTRE, SYED ALWI ROAD\",\n\"PL3\",\n\"Error 148. Check landing door found fru\\u00bb\",\n\"Error 148. Check landing door found fruits stuck between landing door. Remove. Lift back to normal.\"],\n [{\n            'v': 1056,\n            'f': \"1056\",\n        },\n\"808D02\",\n\"2021-03-06 00:00:00\",\n\"MUSTAFA CENTRE, SYED ALWI ROAD\",\n\"FL1\",\n\"Paper stuck on door contact. Remove. Li\\u00bb\",\n\"Paper stuck on door contact. Remove. Lift back to normal.\"],\n [{\n            'v': 1057,\n            'f': \"1057\",\n        },\n\"808D02\",\n\"2021-03-26 00:00:00\",\n\"MUSTAFA CENTRE, SYED ALWI ROAD\",\n\"FL1\",\n\"Err,missing node 1209 & door dev err 20\\u00bb\",\n\"Err,missing node 1209 & door dev err 208 ..lift stop .need to be follow up chk on traveling cable.\"],\n [{\n            'v': 1058,\n            'f': \"1058\",\n        },\n\"808D02\",\n\"2021-02-26 00:00:00\",\n\"PARK REGIS SINGAPORE (OFFICE TOWER)\",\n\"PL5\",\n\"Check and adjust 4 floor landing door c\\u00bb\",\n\"Check and adjust 4 floor landing door cam roller.\"],\n [{\n            'v': 1059,\n            'f': \"1059\",\n        },\n\"808D02\",\n\"2021-04-06 00:00:00\",\n\"PARK REGIS SINGAPORE (OFFICE TOWER)\",\n\"FL2\",\n\"Error Safety T4. Level 1 ldg stuck with\\u00bb\",\n\"Error Safety T4. Level 1 ldg stuck with protection from renovation work. Removed protection(tape).\"],\n [{\n            'v': 1060,\n            'f': \"1060\",\n        },\n\"808D02\",\n\"2021-04-25 00:00:00\",\n\"PARK REGIS SINGAPORE (OFFICE TOWER)\",\n\"FL2\",\n\"Error T4 3th floor landing door damage \\u00bb\",\n\"Error T4 3th floor landing door damage pending for quotation\"],\n [{\n            'v': 1062,\n            'f': \"1062\",\n        },\n\"808D02\",\n\"2021-02-28 00:00:00\",\n\"RIVERBAY\",\n\"FL2\",\n\"Er 714 current not zero. Need to change\\u00bb\",\n\"Er 714 current not zero. Need to change drive settings with CADI\"],\n [{\n            'v': 1063,\n            'f': \"1063\",\n        },\n\"808D02\",\n\"2021-02-27 00:00:00\",\n\"RIVERBAY\",\n\"FL4\",\n\"1 st and 24 th floor LIP faulty need to\\u00bb\",\n\"1 st and 24 th floor LIP faulty need to replace Lon BIOAPI\"],\n [{\n            'v': 1064,\n            'f': \"1064\",\n        },\n\"808D02\",\n\"2021-03-22 00:00:00\",\n\"RIVERBAY\",\n\"FL4\",\n\"Lift stop, need to follow up replace gov\",\n\"Lift stop, need to follow up replace governor rope.\"],\n [{\n            'v': 1067,\n            'f': \"1067\",\n        },\n\"808D02\",\n\"2021-03-05 00:00:00\",\n\"PEOPLE'S ASSOCIATION HQ\",\n\"PL2\",\n\"Safety circuit T1 open.checked all safe\\u00bb\",\n\"Safety circuit T1 open.checked all safety circuit lift back to normal.\"],\n [{\n            'v': 1068,\n            'f': \"1068\",\n        },\n\"808D02\",\n\"2021-03-08 00:00:00\",\n\"PEOPLE'S ASSOCIATION HQ\",\n\"PL2\",\n\"Customer will not allow to stop the lif\\u00bb\",\n\"Customer will not allow to stop the lift due to PL1 already stop by MOD team.need to follow up.\"],\n [{\n            'v': 1069,\n            'f': \"1069\",\n        },\n\"808D02\",\n\"2021-03-28 00:00:00\",\n\"PEOPLE'S ASSOCIATION HQ\",\n\"PL2\",\n\"Er148 safety T4. Need two tech to check\\u00bb\",\n\"Er148 safety T4. Need two tech to check level 1 landing door\"],\n [{\n            'v': 1070,\n            'f': \"1070\",\n        },\n\"808D02\",\n\"2021-04-09 00:00:00\",\n\"PEOPLE'S ASSOCIATION HQ\",\n\"PL2\",\n\"On arrival. Lift running normal. No fau\\u00bb\",\n\"On arrival. Lift running normal. No fault found.\"],\n [{\n            'v': 1072,\n            'f': \"1072\",\n        },\n\"808D02\",\n\"2021-02-16 00:00:00\",\n\"PEOPLE'S ASSOCIATION HQ\",\n\"PL3\",\n\"Err,safety 148 ..chk 1st flr l/dr conta\\u00bb\",\n\"Err,safety 148 ..chk 1st flr l/dr contact,lock & adjusted car door cam alignment .\"],\n [{\n            'v': 1073,\n            'f': \"1073\",\n        },\n\"808D02\",\n\"2021-03-26 00:00:00\",\n\"SCHOOL OF THE ARTS SINGAPORE\",\n\"GL1\",\n\"Reset controller indicator motherboard.\",\n\"Reset controller indicator motherboard.\"],\n [{\n            'v': 1074,\n            'f': \"1074\",\n        },\n\"808D02\",\n\"2021-04-07 00:00:00\",\n\"SCHOOL OF THE ARTS SINGAPORE\",\n\"GL1\",\n\"replace 10 floor landing door contact\",\n\"replace 10 floor landing door contact\"],\n [{\n            'v': 1075,\n            'f': \"1075\",\n        },\n\"808D02\",\n\"2021-04-10 00:00:00\",\n\"SCHOOL OF THE ARTS SINGAPORE\",\n\"GL1\",\n\"Error safety T4. Level 10 ldg door hang\\u00bb\",\n\"Error safety T4. Level 10 ldg door hanger roller worn out. Replaced level 10 ldg door hanger rollers 2pcs.\"],\n [{\n            'v': 1076,\n            'f': \"1076\",\n        },\n\"808D02\",\n\"2021-04-14 00:00:00\",\n\"SCHOOL OF THE ARTS SINGAPORE\",\n\"GL1\",\n\"error t4 clear rubbish from 3 floor lan\\u00bb\",\n\"error t4 clear rubbish from 3 floor landing door sill adjust 3 floor landing door lock\"],\n [{\n            'v': 1077,\n            'f': \"1077\",\n        },\n\"808D02\",\n\"2021-04-17 00:00:00\",\n\"SCHOOL OF THE ARTS SINGAPORE\",\n\"GL1\",\n\"Er 148 safety T4. Adjusted level 10 doo\\u00bb\",\n\"Er 148 safety T4. Adjusted level 10 door contact alignment\"],\n [{\n            'v': 1078,\n            'f': \"1078\",\n        },\n\"808D02\",\n\"2021-04-26 00:00:00\",\n\"SCHOOL OF THE ARTS SINGAPORE\",\n\"GL1\",\n\"adjusted 5 floor landing door cam rolle\\u00bb\",\n\"adjusted 5 floor landing door cam rollers\"],\n [{\n            'v': 1079,\n            'f': \"1079\",\n        },\n\"808D02\",\n\"2021-02-27 00:00:00\",\n\"HOTEL FORT CANNING\",\n\"PL1\",\n\"Lift not level readjust back to normal\",\n\"Lift not leave readjust back to normal\"],\n [{\n            'v': 1080,\n            'f': \"1080\",\n        },\n\"808D02\",\n\"2021-03-27 00:00:00\",\n\"HOTEL FORT CANNING\",\n\"PL1\",\n\"Over run Down. Reset controller\",\n\"Over run Down. Reset controller\"],\n [{\n            'v': 1085,\n            'f': \"1085\",\n        },\n\"808D02\",\n\"2021-03-15 00:00:00\",\n\"SINGAPORE MANAGEMENT UNIVERSITY\",\n\"SL01\",\n\"No err check lift normal\",\n\"No err check lift normal\"],\n [{\n            'v': 1086,\n            'f': \"1086\",\n        },\n\"808D02\",\n\"2021-03-31 00:00:00\",\n\"SINGAPORE MANAGEMENT UNIVERSITY\",\n\"SL01\",\n\"Lift stop due to drive faulty, follow u\\u00bb\",\n\"Lift stop due to drive faulty, follow up further checking tomorrow\"],\n [{\n            'v': 1087,\n            'f': \"1087\",\n        },\n\"808D02\",\n\"2021-03-30 00:00:00\",\n\"6 DERBYSHIRE ROAD\",\n\"FL01\",\n\"Err,PeBo..replaced 2pcs of 12V 7.2AH ba\\u00bb\",\n\"Err,PeBo..replaced 2pcs of 12V 7.2AH batteries.chkd DEM working condition.lift back to normal\"],\n [{\n            'v': 1088,\n            'f': \"1088\",\n        },\n\"808D02\",\n\"2021-04-14 00:00:00\",\n\"6 DERBYSHIRE ROAD\",\n\"FL01\",\n\"Cwt guides roller broken\",\n\"Cwt guides roller broken\"],\n [{\n            'v': 1090,\n            'f': \"1090\",\n        },\n\"808D02\",\n\"2021-04-06 00:00:00\",\n\"CHINA CULTURE CENTRE\",\n\"GL01\",\n\"Err,714 current not zero ..reset drive \\u00bb\",\n\"Err,714 current not zero ..reset drive ,chk drive parameters & learn trip ..follow up to set drive parameters..\"],\n [{\n            'v': 1091,\n            'f': \"1091\",\n        },\n\"808D02\",\n\"2021-03-02 00:00:00\",\n\"CT HUB 2\",\n\"PL07\",\n\"Lift stop need to further checking on h\\u00bb\",\n\"Lift stop need to further checking on hoisting motor. Follow up\"],\n [{\n            'v': 1095,\n            'f': \"1095\",\n        },\n\"808D02\",\n\"2021-04-16 00:00:00\",\n\"CT HUB 2\",\n\"PL/FL1\",\n\"Indicator hang. Reset power. Indicator \\u00bb\",\n\"Indicator hang. Reset power. Indicator back to normal. No issue on traveling and cardoor noises.\"],\n [{\n            'v': 1097,\n            'f': \"1097\",\n        },\n\"808D02\",\n\"2021-03-18 00:00:00\",\n\"6 DERBYSHIRE ROAD\",\n\"PL02\",\n\"Arrive to site no mantrap, passenger fo\\u00bb\",\n\"Arrive to site no mantrap, passenger force to open the door and come out! Lift stop for further checking tomorrow\"],\n [{\n            'v': 1098,\n            'f': \"1098\",\n        },\n\"808D02\",\n\"2021-04-08 00:00:00\",\n\"SINGAPORE MANAGEMENT UNIVERSITY\",\n\"PL04\",\n\"Release 3 pax at 2000hrs. Error T3A ope\\u00bb\",\n\"Release 3 pax at 2000hrs. Error T3A open. To follow up check on safety gear wedge clearance.\"],\n [{\n            'v': 1100,\n            'f': \"1100\",\n        },\n\"808D02\",\n\"2021-02-08 00:00:00\",\n\"SINGAPORE MANAGEMENT UNIVERSITY\",\n\"PL02\",\n\"Car door contact out of alignment readj\\u00bb\",\n\"Car door contact out of alignment readjust\"],\n [{\n            'v': 1101,\n            'f': \"1101\",\n        },\n\"808D02\",\n\"2021-02-25 00:00:00\",\n\"CT HUB 2\",\n\"PL02\",\n\"Checked LIP working normal. Lift normal\\u00bb\",\n\"Checked LIP working normal. Lift normal. No updated error.\"],\n [{\n            'v': 1102,\n            'f': \"1102\",\n        },\n\"808D02\",\n\"2021-04-15 00:00:00\",\n\"CT HUB 2\",\n\"PL03\",\n\"Released 2 persons at 19:48. Error safe\\u00bb\",\n\"Released 2 persons at 19:48. Error safety T4. Car door contact misaligned. Adjusted car door contact.\"],\n [{\n            'v': 1103,\n            'f': \"1103\",\n        },\n\"808D02\",\n\"2021-04-16 00:00:00\",\n\"CT HUB 2\",\n\"PL03\",\n\"1925 reach, release 3 person 5 min,erro\\u00bb\",\n\"1925 reach, release 3 person 5 min,error T4,need to follow up replace car door contact,lift stop.\"],\n [{\n            'v': 1105,\n            'f': \"1105\",\n        },\n\"808D02\",\n\"2021-04-12 00:00:00\",\n\"CT HUB 2\",\n\"PL05\",\n\"Button sunken due to rough usage..(prin\\u00bb\",\n\"Button sunken due to rough usage..(print faulty).temporary swapped lop print from SL -1 13 th floor .pending for part.\"],\n [{\n            'v': 1106,\n            'f': \"1106\",\n        },\n\"808D02\",\n\"2021-04-13 00:00:00\",\n\"CT HUB 2\",\n\"PL05\",\n\"Fix back. Need to follow up to replace\",\n\"Fix back. Need to follow up to replace\"],\n [{\n            'v': 1107,\n            'f': \"1107\",\n        },\n\"808D02\",\n\"2021-04-13 00:00:00\",\n\"CT HUB 2\",\n\"PL05\",\n\"1 at landing door faulty need to replace\",\n\"1 at landing door faulty need to replace\"],\n [{\n            'v': 1111,\n            'f': \"1111\",\n        },\n\"808D02\",\n\"2021-02-03 00:00:00\",\n\"CT HUB 2\",\n\"SL01\",\n\"Error cardoor. Door unable to close due\\u00bb\",\n\"Error cardoor. Door unable to close due to misalignment. Cardoor shoe out from sill. Readjust cardoor panel. Check alignment. Test cardoor mechanisms. Lift back to normal.\"],\n [{\n            'v': 1112,\n            'f': \"1112\",\n        },\n\"808D02\",\n\"2021-02-18 00:00:00\",\n\"CT HUB 2\",\n\"SL01\",\n\"Repair car door\",\n\"Repair car door\"],\n [{\n            'v': 1113,\n            'f': \"1113\",\n        },\n\"808D02\",\n\"2021-03-01 00:00:00\",\n\"CT HUB 2\",\n\"SL01\",\n\"Lift stuck at level 1 wt door open.. Er\\u00bb\",\n\"Lift stuck at level 1 wt door open.. Err ,dr device err 208 .chk & found 1st flr l/dr shoe came out from bottom track ..(due to rough usage ) .Fixed back & adjusted alignment.\"],\n [{\n            'v': 1114,\n            'f': \"1114\",\n        },\n\"808D02\",\n\"2021-04-15 00:00:00\",\n\"CT HUB 2\",\n\"SL02\",\n\"Error Door oper error. Debris stuck at \\u00bb\",\n\"Error Door oper error. Debris stuck at level 7 ldg door sill. Removed debris from level 7 ldg door sill.\"],\n [{\n            'v': 1115,\n            'f': \"1115\",\n        },\n\"808D02\",\n\"2021-04-09 00:00:00\",\n\"CT HUB 2\",\n\"SL02\",\n\"On arrival lift running normal.\",\n\"On arrival lift running normal.\"],\n [{\n            'v': 1116,\n            'f': \"1116\",\n        },\n\"808D02\",\n\"2021-04-05 00:00:00\",\n\"CT HUB 2\",\n\"SL02\",\n\"On arrival lift running normal.\",\n\"On arrival lift running normal.\"],\n [{\n            'v': 1117,\n            'f': \"1117\",\n        },\n\"808D02\",\n\"2021-03-13 00:00:00\",\n\"CT HUB 2\",\n\"SL02\",\n\"1 floor landing door shoe out of truck,\\u00bb\",\n\"1 floor landing door shoe out of truck, refix back and adjust 1 floor landing door shoe, lift back to normal.\"],\n [{\n            'v': 1118,\n            'f': \"1118\",\n        },\n\"808D02\",\n\"2021-02-01 00:00:00\",\n\"CT HUB 2\",\n\"SL02\",\n\"Err,thermo door motor..chk & found car \\u00bb\",\n\"Err,thermo door motor..chk & found car dr bottom shoe out of track (door sill due rough usage )readjusted & fix back shoe..back to normal\"],\n [{\n            'v': 1119,\n            'f': \"1119\",\n        },\n\"808D02\",\n\"2021-03-26 00:00:00\",\n\"CT HUB 2\",\n\"PL08\",\n\"FC block. Check parameter. Test lift ba\\u00bb\",\n\"FC block. Check parameter. Test lift back to normal.\"],\n [{\n            'v': 1120,\n            'f': \"1120\",\n        },\n\"808D02\",\n\"2021-04-27 00:00:00\",\n\"CT HUB 2\",\n\"PL08\",\n\"Lift stop.need to replace ASIX print\",\n\"need to replace ASIX print\"],\n [{\n            'v': 1121,\n            'f': \"1121\",\n        },\n\"808D02\",\n\"2021-02-01 00:00:00\",\n\"23 MIDDLE ROAD\",\n\"PL A\",\n\"No error. Adjusted lev 3 & 5 LOP button\\u00bb\",\n\"No error. Adjusted lev 3 & 5 LOP buttons.\"],\n [{\n            'v': 1122,\n            'f': \"1122\",\n        },\n\"808D02\",\n\"2021-04-17 00:00:00\",\n\"23 MIDDLE ROAD\",\n\"PL A\",\n\"3 floor landing operation panel button \\u00bb\",\n\"3 floor landing operation panel button out of alignment readjust and fix back\"],\n [{\n            'v': 1123,\n            'f': \"1123\",\n        },\n\"808D02\",\n\"2021-03-11 00:00:00\",\n\"113 SYED ALWI ROAD\",\n\"PL1\",\n\"LOP button print shorted due to water i\\u00bb\",\n\"LOP button print shorted due to water ingress. Quitation send.\"],\n [{\n            'v': 1124,\n            'f': \"1124\",\n        },\n\"808D02\",\n\"2021-02-06 00:00:00\",\n\"STURDEE RESIDENCES CONDO\",\n\"PL1\",\n\"Check and adjust car door alignment, Li\\u00bb\",\n\"Check and adjust car door alignment, Lift back to normal.\"],\n [{\n            'v': 1125,\n            'f': \"1125\",\n        },\n\"808D02\",\n\"2021-02-20 00:00:00\",\n\"STURDEE RESIDENCES CONDO\",\n\"PL1\",\n\"Check and reset controller\",\n\"Check and reset controller\"],\n [{\n            'v': 1126,\n            'f': \"1126\",\n        },\n\"808D02\",\n\"2021-02-06 00:00:00\",\n\"STURDEE RESIDENCES CONDO\",\n\"FL2\",\n\"Card readers system down\",\n\"Card readers system down\"],\n [{\n            'v': 1127,\n            'f': \"1127\",\n        },\n\"808D02\",\n\"2021-04-03 00:00:00\",\n\"STURDEE RESIDENCES CONDO\",\n\"FL2\",\n\"Check CDD device\",\n\"Check CDD device\"],\n [{\n            'v': 1128,\n            'f': \"1128\",\n        },\n\"808D02\",\n\"2021-02-07 00:00:00\",\n\"STURDEE RESIDENCES CONDO\",\n\"PL2\",\n\"Lift status normal. Car reader not work\\u00bb\",\n\"Lift status normal. Car reader not working. Need to follow up check with building card reader vendor.\"],\n [{\n            'v': 1129,\n            'f': \"1129\",\n        },\n\"808D02\",\n\"2021-02-24 00:00:00\",\n\"STURDEE RESIDENCES CONDO\",\n\"PL2\",\n\"One person out at 2035 .DEM not working\\u00bb\",\n\"One person out at 2035 .DEM not working lift stop\"],\n [{\n            'v': 1130,\n            'f': \"1130\",\n        },\n\"808D02\",\n\"2021-03-14 00:00:00\",\n\"STURDEE RESIDENCES CONDO\",\n\"PL2\",\n\"2 person come out at 1420\",\n\"2 person come out at 1420\"],\n [{\n            'v': 1131,\n            'f': \"1131\",\n        },\n\"808D02\",\n\"2021-03-29 00:00:00\",\n\"225C QUEEN STREET\",\n\"PL1\",\n\"Building side main incoming supply brea\\u00bb\",\n\"Building side main incoming supply breaker (to lift) trip due to heavy rain/lightning reset back to normal & tested lift back to normal\"],\n [{\n            'v': 1132,\n            'f': \"1132\",\n        },\n\"808D02\",\n\"2021-04-17 00:00:00\",\n\"225C QUEEN STREET\",\n\"PL1\",\n\"Building main breaker trip. Reset\",\n\"Building main breaker trip. Reset\"],\n [{\n            'v': 1133,\n            'f': \"1133\",\n        },\n\"808D02\",\n\"2021-03-29 00:00:00\",\n\"225C QUEEN STREET\",\n\"EL1\",\n\"Building side main incoming supply brea\\u00bb\",\n\"Building side main incoming supply breaker (to lift) trip due heavy rain/ lightning.reset and tested lift back to normal\"],\n [{\n            'v': 1134,\n            'f': \"1134\",\n        },\n\"808D02\",\n\"2021-04-26 00:00:00\",\n\"KWONG WAI SHIU HOSPITAL\",\n\"BL01\",\n\"Release 1 pax at 12:14. KOKB error. Che\\u00bb\",\n\"Release 1 pax at 12:14. KOKB error. Check cardoor alignment. Check sill no fault found. Lift back to normal.\"],\n [{\n            'v': 1135,\n            'f': \"1135\",\n        },\n\"808D02\",\n\"2021-02-01 00:00:00\",\n\"KWONG WAI SHIU HOSPITAL\",\n\"BL01\",\n\"Error 0733/0148 -checked first floor la\\u00bb\",\n\"Error 0733/0148 -checked first floor landing door and adjusted power pac dc voltage\"]],\n        columns: [[\"number\", \"index\"], [\"string\", \"Location\"], [\"string\", \"Notification date\"], [\"string\", \"Name\"], [\"string\", \"Description of technical object\"], [\"string\", \"Description\"], [\"string\", \"Long Text Description\"]],\n        columnOptions: [{\"width\": \"1px\", \"className\": \"index_column\"}],\n        rowsPerPage: 25,\n        helpUrl: \"https://colab.research.google.com/notebooks/data_table.ipynb\",\n        suppressOutputScrolling: true,\n        minimumWidth: undefined,\n      });\n    ",
            "text/html": [
              "<div>\n",
              "<style scoped>\n",
              "    .dataframe tbody tr th:only-of-type {\n",
              "        vertical-align: middle;\n",
              "    }\n",
              "\n",
              "    .dataframe tbody tr th {\n",
              "        vertical-align: top;\n",
              "    }\n",
              "\n",
              "    .dataframe thead th {\n",
              "        text-align: right;\n",
              "    }\n",
              "</style>\n",
              "<table border=\"1\" class=\"dataframe\">\n",
              "  <thead>\n",
              "    <tr style=\"text-align: right;\">\n",
              "      <th></th>\n",
              "      <th>Location</th>\n",
              "      <th>Notification date</th>\n",
              "      <th>Name</th>\n",
              "      <th>Description of technical object</th>\n",
              "      <th>Description</th>\n",
              "      <th>Long Text Description</th>\n",
              "    </tr>\n",
              "  </thead>\n",
              "  <tbody>\n",
              "    <tr>\n",
              "      <th>725</th>\n",
              "      <td>808D02</td>\n",
              "      <td>2021-04-22</td>\n",
              "      <td>CAIRNHILL PLAZA (MCST 409)</td>\n",
              "      <td>PL3</td>\n",
              "      <td>Replaced cop no 9 button.</td>\n",
              "      <td>Replaced cop no 9 button.</td>\n",
              "    </tr>\n",
              "    <tr>\n",
              "      <th>726</th>\n",
              "      <td>808D02</td>\n",
              "      <td>2021-02-13</td>\n",
              "      <td>CAIRNHILL PLAZA (MCST 409)</td>\n",
              "      <td>PL7</td>\n",
              "      <td>Check drive error, reboot the system li»</td>\n",
              "      <td>Check drive error, reboot the system lift back...</td>\n",
              "    </tr>\n",
              "    <tr>\n",
              "      <th>727</th>\n",
              "      <td>808D02</td>\n",
              "      <td>2021-02-14</td>\n",
              "      <td>CAIRNHILL PLAZA (MCST 409)</td>\n",
              "      <td>PL7</td>\n",
              "      <td>Check and replaced PIOVECL 3 print rela»</td>\n",
              "      <td>Check and replaced PIOVECL 3 print relay 2 pcs...</td>\n",
              "    </tr>\n",
              "    <tr>\n",
              "      <th>728</th>\n",
              "      <td>808D02</td>\n",
              "      <td>2021-02-15</td>\n",
              "      <td>CAIRNHILL PLAZA (MCST 409)</td>\n",
              "      <td>PL7</td>\n",
              "      <td>Check and replaced capacitor and monito»</td>\n",
              "      <td>Check and replaced capacitor Check and replace...</td>\n",
              "    </tr>\n",
              "    <tr>\n",
              "      <th>729</th>\n",
              "      <td>808D02</td>\n",
              "      <td>2021-04-12</td>\n",
              "      <td>CAIRNHILL PLAZA (MCST 409)</td>\n",
              "      <td>SL4</td>\n",
              "      <td>Need to follow up check cop button func»</td>\n",
              "      <td>Need to follow up check cop button function.</td>\n",
              "    </tr>\n",
              "    <tr>\n",
              "      <th>...</th>\n",
              "      <td>...</td>\n",
              "      <td>...</td>\n",
              "      <td>...</td>\n",
              "      <td>...</td>\n",
              "      <td>...</td>\n",
              "      <td>...</td>\n",
              "    </tr>\n",
              "    <tr>\n",
              "      <th>1131</th>\n",
              "      <td>808D02</td>\n",
              "      <td>2021-03-29</td>\n",
              "      <td>225C QUEEN STREET</td>\n",
              "      <td>PL1</td>\n",
              "      <td>Building side main incoming supply brea»</td>\n",
              "      <td>Building side main incoming supply breaker (to...</td>\n",
              "    </tr>\n",
              "    <tr>\n",
              "      <th>1132</th>\n",
              "      <td>808D02</td>\n",
              "      <td>2021-04-17</td>\n",
              "      <td>225C QUEEN STREET</td>\n",
              "      <td>PL1</td>\n",
              "      <td>Building main breaker trip. Reset</td>\n",
              "      <td>Building main breaker trip. Reset</td>\n",
              "    </tr>\n",
              "    <tr>\n",
              "      <th>1133</th>\n",
              "      <td>808D02</td>\n",
              "      <td>2021-03-29</td>\n",
              "      <td>225C QUEEN STREET</td>\n",
              "      <td>EL1</td>\n",
              "      <td>Building side main incoming supply brea»</td>\n",
              "      <td>Building side main incoming supply breaker (to...</td>\n",
              "    </tr>\n",
              "    <tr>\n",
              "      <th>1134</th>\n",
              "      <td>808D02</td>\n",
              "      <td>2021-04-26</td>\n",
              "      <td>KWONG WAI SHIU HOSPITAL</td>\n",
              "      <td>BL01</td>\n",
              "      <td>Release 1 pax at 12:14. KOKB error. Che»</td>\n",
              "      <td>Release 1 pax at 12:14. KOKB error. Check card...</td>\n",
              "    </tr>\n",
              "    <tr>\n",
              "      <th>1135</th>\n",
              "      <td>808D02</td>\n",
              "      <td>2021-02-01</td>\n",
              "      <td>KWONG WAI SHIU HOSPITAL</td>\n",
              "      <td>BL01</td>\n",
              "      <td>Error 0733/0148 -checked first floor la»</td>\n",
              "      <td>Error 0733/0148 -checked first floor landing d...</td>\n",
              "    </tr>\n",
              "  </tbody>\n",
              "</table>\n",
              "<p>294 rows × 6 columns</p>\n",
              "</div>"
            ],
            "text/plain": [
              "     Location  ...                              Long Text Description\n",
              "725    808D02  ...                          Replaced cop no 9 button.\n",
              "726    808D02  ...  Check drive error, reboot the system lift back...\n",
              "727    808D02  ...  Check and replaced PIOVECL 3 print relay 2 pcs...\n",
              "728    808D02  ...  Check and replaced capacitor Check and replace...\n",
              "729    808D02  ...       Need to follow up check cop button function.\n",
              "...       ...  ...                                                ...\n",
              "1131   808D02  ...  Building side main incoming supply breaker (to...\n",
              "1132   808D02  ...                  Building main breaker trip. Reset\n",
              "1133   808D02  ...  Building side main incoming supply breaker (to...\n",
              "1134   808D02  ...  Release 1 pax at 12:14. KOKB error. Check card...\n",
              "1135   808D02  ...  Error 0733/0148 -checked first floor landing d...\n",
              "\n",
              "[294 rows x 6 columns]"
            ]
          },
          "metadata": {
            "tags": []
          },
          "execution_count": 77
        }
      ]
    },
    {
      "cell_type": "markdown",
      "metadata": {
        "id": "8EDsjQ0SiTGY"
      },
      "source": [
        "## **TOP 10 SITES WITH HIGHEST CALLBACK IN PASS 3 MONTHS**\n"
      ]
    },
    {
      "cell_type": "code",
      "metadata": {
        "colab": {
          "base_uri": "https://localhost:8080/",
          "height": 299
        },
        "id": "GEbydD7QidxD",
        "outputId": "2b8e9561-4b44-4e15-941c-8abcc78fe80e"
      },
      "source": [
        "top = df_route_pass_month.drop(['Notification date','Location','Long Text Description','Description of technical object'], axis=1)\n",
        "top.rename({'Description': 'Numbers of Callbacks'}, axis=1, inplace=True)\n",
        "top.groupby(['Name']).count().sort_values(by=['Numbers of Callbacks'], ascending= False)[0:10]\n",
        "top_10 = top.groupby(['Name']).count().sort_values(by=['Numbers of Callbacks'], ascending= False)[0:10].reset_index()\n",
        "top_10"
      ],
      "execution_count": 78,
      "outputs": [
        {
          "output_type": "execute_result",
          "data": {
            "application/vnd.google.colaboratory.module+javascript": "\n      import \"https://ssl.gstatic.com/colaboratory/data_table/a6224c040fa35dcf/data_table.js\";\n\n      window.createDataTable({\n        data: [[{\n            'v': 0,\n            'f': \"0\",\n        },\n\"ION ORCHARD\",\n{\n            'v': 37,\n            'f': \"37\",\n        }],\n [{\n            'v': 1,\n            'f': \"1\",\n        },\n\"CT HUB 2\",\n{\n            'v': 18,\n            'f': \"18\",\n        }],\n [{\n            'v': 2,\n            'f': \"2\",\n        },\n\"MOUNT ELIZABETH NOVENA HOSPITAL\",\n{\n            'v': 16,\n            'f': \"16\",\n        }],\n [{\n            'v': 3,\n            'f': \"3\",\n        },\n\"MINISTRY OF HOME AFFAIRS, SECTOR B\",\n{\n            'v': 12,\n            'f': \"12\",\n        }],\n [{\n            'v': 4,\n            'f': \"4\",\n        },\n\"RIVERSIDE POINT\",\n{\n            'v': 10,\n            'f': \"10\",\n        }],\n [{\n            'v': 5,\n            'f': \"5\",\n        },\n\"ORCHARD CENTRAL\",\n{\n            'v': 10,\n            'f': \"10\",\n        }],\n [{\n            'v': 6,\n            'f': \"6\",\n        },\n\"PEACE MANSION   (MCST 686)\",\n{\n            'v': 9,\n            'f': \"9\",\n        }],\n [{\n            'v': 7,\n            'f': \"7\",\n        },\n\"COMCENTRE\",\n{\n            'v': 8,\n            'f': \"8\",\n        }],\n [{\n            'v': 8,\n            'f': \"8\",\n        },\n\"INSPIRA CONDOMINIUM, THE (75-INSPIR\",\n{\n            'v': 7,\n            'f': \"7\",\n        }],\n [{\n            'v': 9,\n            'f': \"9\",\n        },\n\"STURDEE RESIDENCES CONDO\",\n{\n            'v': 7,\n            'f': \"7\",\n        }]],\n        columns: [[\"number\", \"index\"], [\"string\", \"Name\"], [\"number\", \"Numbers of Callbacks\"]],\n        columnOptions: [{\"width\": \"1px\", \"className\": \"index_column\"}],\n        rowsPerPage: 25,\n        helpUrl: \"https://colab.research.google.com/notebooks/data_table.ipynb\",\n        suppressOutputScrolling: true,\n        minimumWidth: undefined,\n      });\n    ",
            "text/html": [
              "<div>\n",
              "<style scoped>\n",
              "    .dataframe tbody tr th:only-of-type {\n",
              "        vertical-align: middle;\n",
              "    }\n",
              "\n",
              "    .dataframe tbody tr th {\n",
              "        vertical-align: top;\n",
              "    }\n",
              "\n",
              "    .dataframe thead th {\n",
              "        text-align: right;\n",
              "    }\n",
              "</style>\n",
              "<table border=\"1\" class=\"dataframe\">\n",
              "  <thead>\n",
              "    <tr style=\"text-align: right;\">\n",
              "      <th></th>\n",
              "      <th>Name</th>\n",
              "      <th>Numbers of Callbacks</th>\n",
              "    </tr>\n",
              "  </thead>\n",
              "  <tbody>\n",
              "    <tr>\n",
              "      <th>0</th>\n",
              "      <td>ION ORCHARD</td>\n",
              "      <td>37</td>\n",
              "    </tr>\n",
              "    <tr>\n",
              "      <th>1</th>\n",
              "      <td>CT HUB 2</td>\n",
              "      <td>18</td>\n",
              "    </tr>\n",
              "    <tr>\n",
              "      <th>2</th>\n",
              "      <td>MOUNT ELIZABETH NOVENA HOSPITAL</td>\n",
              "      <td>16</td>\n",
              "    </tr>\n",
              "    <tr>\n",
              "      <th>3</th>\n",
              "      <td>MINISTRY OF HOME AFFAIRS, SECTOR B</td>\n",
              "      <td>12</td>\n",
              "    </tr>\n",
              "    <tr>\n",
              "      <th>4</th>\n",
              "      <td>RIVERSIDE POINT</td>\n",
              "      <td>10</td>\n",
              "    </tr>\n",
              "    <tr>\n",
              "      <th>5</th>\n",
              "      <td>ORCHARD CENTRAL</td>\n",
              "      <td>10</td>\n",
              "    </tr>\n",
              "    <tr>\n",
              "      <th>6</th>\n",
              "      <td>PEACE MANSION   (MCST 686)</td>\n",
              "      <td>9</td>\n",
              "    </tr>\n",
              "    <tr>\n",
              "      <th>7</th>\n",
              "      <td>COMCENTRE</td>\n",
              "      <td>8</td>\n",
              "    </tr>\n",
              "    <tr>\n",
              "      <th>8</th>\n",
              "      <td>INSPIRA CONDOMINIUM, THE (75-INSPIR</td>\n",
              "      <td>7</td>\n",
              "    </tr>\n",
              "    <tr>\n",
              "      <th>9</th>\n",
              "      <td>STURDEE RESIDENCES CONDO</td>\n",
              "      <td>7</td>\n",
              "    </tr>\n",
              "  </tbody>\n",
              "</table>\n",
              "</div>"
            ],
            "text/plain": [
              "                                  Name  Numbers of Callbacks\n",
              "0                          ION ORCHARD                    37\n",
              "1                             CT HUB 2                    18\n",
              "2      MOUNT ELIZABETH NOVENA HOSPITAL                    16\n",
              "3   MINISTRY OF HOME AFFAIRS, SECTOR B                    12\n",
              "4                      RIVERSIDE POINT                    10\n",
              "5                      ORCHARD CENTRAL                    10\n",
              "6           PEACE MANSION   (MCST 686)                     9\n",
              "7                            COMCENTRE                     8\n",
              "8  INSPIRA CONDOMINIUM, THE (75-INSPIR                     7\n",
              "9             STURDEE RESIDENCES CONDO                     7"
            ]
          },
          "metadata": {
            "tags": []
          },
          "execution_count": 78
        }
      ]
    },
    {
      "cell_type": "markdown",
      "metadata": {
        "id": "faU6yE5ypRVB"
      },
      "source": [
        "### **Visualization**"
      ]
    },
    {
      "cell_type": "code",
      "metadata": {
        "colab": {
          "base_uri": "https://localhost:8080/",
          "height": 759
        },
        "id": "bcd_Zafxlbdy",
        "outputId": "e7b2141a-026d-43e5-f24d-d4d0d0bdc00f"
      },
      "source": [
        "# g = sns.catplot(x=\"Name\", y='Numbers of Callbacks',data=top_10, kind=\"bar\", aspect=1.5)\n",
        "# plt.xticks(rotation=45, ha='right')\n",
        "fig, ax = plt.subplots(figsize=(20,10))\n",
        "g =sns.barplot(x='Name',y='Numbers of Callbacks',data=top_10,ax=ax, palette='Set2')\n",
        "plt.xticks(rotation=45, ha='right')\n",
        "g.set_xlabel('Site')\n",
        "g.set_title('TOP 10 SITES WITH HIGHEST CALLBACK')\n",
        "\n",
        "for p in g.patches:\n",
        "    g.annotate('{:.0f}'.format(p.get_height(), '.1f'), \n",
        "                   (p.get_x() + p.get_width() / 2., p.get_height()), \n",
        "                    ha = 'center', va = 'center', \n",
        "                   xytext = (0, 8), \n",
        "                   textcoords = 'offset points')"
      ],
      "execution_count": 79,
      "outputs": [
        {
          "output_type": "display_data",
          "data": {
            "image/png": "[encoded data removed]",
            "text/plain": [
              "<Figure size 1440x720 with 1 Axes>"
            ]
          },
          "metadata": {
            "tags": [],
            "needs_background": "light"
          }
        }
      ]
    },
    {
      "cell_type": "markdown",
      "metadata": {
        "id": "BIJYvlnEmhF2"
      },
      "source": [
        "# **LIFT WITH HIGHEST CALLBACK IN PASS 3 MONTHS**"
      ]
    },
    {
      "cell_type": "code",
      "metadata": {
        "colab": {
          "base_uri": "https://localhost:8080/",
          "height": 700
        },
        "id": "B2bhRHd_mzeY",
        "outputId": "c9589b22-4054-417e-ea25-796497363ddb"
      },
      "source": [
        "top_lift = df_route_pass_month.drop(['Notification date','Location','Long Text Description'], axis=1)\n",
        "top_lift.rename({'Description': 'Numbers of Callbacks', 'Description of technical object':'Lift'}, axis=1, inplace=True)\n",
        "top_lift.groupby(['Name','Lift']).count().sort_values(by=['Numbers of Callbacks'], ascending= False)[0:20]\n"
      ],
      "execution_count": 80,
      "outputs": [
        {
          "output_type": "execute_result",
          "data": {
            "text/html": [
              "<div>\n",
              "<style scoped>\n",
              "    .dataframe tbody tr th:only-of-type {\n",
              "        vertical-align: middle;\n",
              "    }\n",
              "\n",
              "    .dataframe tbody tr th {\n",
              "        vertical-align: top;\n",
              "    }\n",
              "\n",
              "    .dataframe thead th {\n",
              "        text-align: right;\n",
              "    }\n",
              "</style>\n",
              "<table border=\"1\" class=\"dataframe\">\n",
              "  <thead>\n",
              "    <tr style=\"text-align: right;\">\n",
              "      <th></th>\n",
              "      <th></th>\n",
              "      <th>Numbers of Callbacks</th>\n",
              "    </tr>\n",
              "    <tr>\n",
              "      <th>Name</th>\n",
              "      <th>Lift</th>\n",
              "      <th></th>\n",
              "    </tr>\n",
              "  </thead>\n",
              "  <tbody>\n",
              "    <tr>\n",
              "      <th rowspan=\"2\" valign=\"top\">ION ORCHARD</th>\n",
              "      <th>FL1</th>\n",
              "      <td>8</td>\n",
              "    </tr>\n",
              "    <tr>\n",
              "      <th>PL/PL3</th>\n",
              "      <td>7</td>\n",
              "    </tr>\n",
              "    <tr>\n",
              "      <th>MINISTRY OF HOME AFFAIRS, SECTOR B</th>\n",
              "      <th>PL3 (C)</th>\n",
              "      <td>7</td>\n",
              "    </tr>\n",
              "    <tr>\n",
              "      <th>RIVERSIDE POINT</th>\n",
              "      <th>OL01</th>\n",
              "      <td>7</td>\n",
              "    </tr>\n",
              "    <tr>\n",
              "      <th>PEACE MANSION   (MCST 686)</th>\n",
              "      <th>PF A</th>\n",
              "      <td>6</td>\n",
              "    </tr>\n",
              "    <tr>\n",
              "      <th>SCHOOL OF THE ARTS SINGAPORE</th>\n",
              "      <th>GL1</th>\n",
              "      <td>6</td>\n",
              "    </tr>\n",
              "    <tr>\n",
              "      <th>ION ORCHARD</th>\n",
              "      <th>PL/PL1</th>\n",
              "      <td>5</td>\n",
              "    </tr>\n",
              "    <tr>\n",
              "      <th>PARK REGIS SINGAPORE</th>\n",
              "      <th>FL1</th>\n",
              "      <td>5</td>\n",
              "    </tr>\n",
              "    <tr>\n",
              "      <th>CT HUB 2</th>\n",
              "      <th>SL02</th>\n",
              "      <td>5</td>\n",
              "    </tr>\n",
              "    <tr>\n",
              "      <th>SETIA RESIDENCES</th>\n",
              "      <th>PL1</th>\n",
              "      <td>5</td>\n",
              "    </tr>\n",
              "    <tr>\n",
              "      <th>SHAN GATE APARTMENT (MCST 1696)</th>\n",
              "      <th>PL01</th>\n",
              "      <td>4</td>\n",
              "    </tr>\n",
              "    <tr>\n",
              "      <th>100 ROBERTSON QUAY</th>\n",
              "      <th>PL4</th>\n",
              "      <td>4</td>\n",
              "    </tr>\n",
              "    <tr>\n",
              "      <th>PEOPLE'S ASSOCIATION HQ</th>\n",
              "      <th>PL2</th>\n",
              "      <td>4</td>\n",
              "    </tr>\n",
              "    <tr>\n",
              "      <th>ION ORCHARD</th>\n",
              "      <th>PO/PL4</th>\n",
              "      <td>3</td>\n",
              "    </tr>\n",
              "    <tr>\n",
              "      <th>CT HUB 2</th>\n",
              "      <th>SL01</th>\n",
              "      <td>3</td>\n",
              "    </tr>\n",
              "    <tr>\n",
              "      <th>PARC CENTENNIAL (99-KAMPONG JAVA)</th>\n",
              "      <th>PL2</th>\n",
              "      <td>3</td>\n",
              "    </tr>\n",
              "    <tr>\n",
              "      <th>ION ORCHARD</th>\n",
              "      <th>PO/PL6</th>\n",
              "      <td>3</td>\n",
              "    </tr>\n",
              "    <tr>\n",
              "      <th>ORCHARD CENTRAL</th>\n",
              "      <th>VL1</th>\n",
              "      <td>3</td>\n",
              "    </tr>\n",
              "    <tr>\n",
              "      <th>GAMBIER COURT</th>\n",
              "      <th>PL2</th>\n",
              "      <td>3</td>\n",
              "    </tr>\n",
              "    <tr>\n",
              "      <th>INSPIRA CONDOMINIUM, THE (75-INSPIR</th>\n",
              "      <th>PL2</th>\n",
              "      <td>3</td>\n",
              "    </tr>\n",
              "  </tbody>\n",
              "</table>\n",
              "</div>"
            ],
            "text/plain": [
              "                                             Numbers of Callbacks\n",
              "Name                                Lift                         \n",
              "ION ORCHARD                         FL1                         8\n",
              "                                    PL/PL3                      7\n",
              "MINISTRY OF HOME AFFAIRS, SECTOR B  PL3 (C)                     7\n",
              "RIVERSIDE POINT                     OL01                        7\n",
              "PEACE MANSION   (MCST 686)          PF A                        6\n",
              "SCHOOL OF THE ARTS SINGAPORE        GL1                         6\n",
              "ION ORCHARD                         PL/PL1                      5\n",
              "PARK REGIS SINGAPORE                FL1                         5\n",
              "CT HUB 2                            SL02                        5\n",
              "SETIA RESIDENCES                    PL1                         5\n",
              "SHAN GATE APARTMENT (MCST 1696)     PL01                        4\n",
              "100 ROBERTSON QUAY                  PL4                         4\n",
              "PEOPLE'S ASSOCIATION HQ             PL2                         4\n",
              "ION ORCHARD                         PO/PL4                      3\n",
              "CT HUB 2                            SL01                        3\n",
              "PARC CENTENNIAL (99-KAMPONG JAVA)   PL2                         3\n",
              "ION ORCHARD                         PO/PL6                      3\n",
              "ORCHARD CENTRAL                     VL1                         3\n",
              "GAMBIER COURT                       PL2                         3\n",
              "INSPIRA CONDOMINIUM, THE (75-INSPIR PL2                         3"
            ]
          },
          "metadata": {
            "tags": []
          },
          "execution_count": 80
        }
      ]
    },
    {
      "cell_type": "markdown",
      "metadata": {
        "id": "eO3wbHPqc0gy"
      },
      "source": [
        "# **SICK UNIT**"
      ]
    },
    {
      "cell_type": "code",
      "metadata": {
        "id": "GJfgFIHOK7FK",
        "colab": {
          "base_uri": "https://localhost:8080/",
          "height": 368
        },
        "outputId": "6704ef95-0ce9-4499-85a4-1c3607807978"
      },
      "source": [
        "if route == '808':\n",
        "  df_sick = df\n",
        "else:\n",
        "  df_sick = df_route_sick\n",
        "\n",
        "\n",
        "df_sick.groupby(['Location','Name','Description of technical object']).count()\n",
        "df_sick['No. of Callbacks'] = df_sick.groupby(['Location','Name','Description of technical object'])['Notification date'].transform('count')\n",
        "df_sick = df_sick[df_sick['No. of Callbacks']>=3] \n",
        "df_sick_No_des = df_sick.drop(['Notification date','Description','Long Text Description'], axis=1)\n",
        "df_sick_No_des.groupby(['Location','Name','Description of technical object'],as_index = 'Location').count()\n",
        "\n",
        "\n",
        "\n",
        "# pd.set_option(\"display.max_rows\", None, \"display.max_columns\", None)\n",
        "# print()\n"
      ],
      "execution_count": 81,
      "outputs": [
        {
          "output_type": "stream",
          "text": [
            "/usr/local/lib/python3.7/dist-packages/ipykernel_launcher.py:8: SettingWithCopyWarning: \n",
            "A value is trying to be set on a copy of a slice from a DataFrame.\n",
            "Try using .loc[row_indexer,col_indexer] = value instead\n",
            "\n",
            "See the caveats in the documentation: https://pandas.pydata.org/pandas-docs/stable/user_guide/indexing.html#returning-a-view-versus-a-copy\n",
            "  \n"
          ],
          "name": "stderr"
        },
        {
          "output_type": "execute_result",
          "data": {
            "text/html": [
              "<div>\n",
              "<style scoped>\n",
              "    .dataframe tbody tr th:only-of-type {\n",
              "        vertical-align: middle;\n",
              "    }\n",
              "\n",
              "    .dataframe tbody tr th {\n",
              "        vertical-align: top;\n",
              "    }\n",
              "\n",
              "    .dataframe thead th {\n",
              "        text-align: right;\n",
              "    }\n",
              "</style>\n",
              "<table border=\"1\" class=\"dataframe\">\n",
              "  <thead>\n",
              "    <tr style=\"text-align: right;\">\n",
              "      <th></th>\n",
              "      <th></th>\n",
              "      <th></th>\n",
              "      <th>No. of Callbacks</th>\n",
              "    </tr>\n",
              "    <tr>\n",
              "      <th>Location</th>\n",
              "      <th>Name</th>\n",
              "      <th>Description of technical object</th>\n",
              "      <th></th>\n",
              "    </tr>\n",
              "  </thead>\n",
              "  <tbody>\n",
              "    <tr>\n",
              "      <th rowspan=\"6\" valign=\"top\">808D02</th>\n",
              "      <th rowspan=\"2\" valign=\"top\">CT HUB 2</th>\n",
              "      <th>PL05</th>\n",
              "      <td>3</td>\n",
              "    </tr>\n",
              "    <tr>\n",
              "      <th>SL02</th>\n",
              "      <td>3</td>\n",
              "    </tr>\n",
              "    <tr>\n",
              "      <th rowspan=\"2\" valign=\"top\">ION ORCHARD</th>\n",
              "      <th>FL1</th>\n",
              "      <td>5</td>\n",
              "    </tr>\n",
              "    <tr>\n",
              "      <th>PL/PL3</th>\n",
              "      <td>4</td>\n",
              "    </tr>\n",
              "    <tr>\n",
              "      <th>ROSEVALE</th>\n",
              "      <th>PL2</th>\n",
              "      <td>3</td>\n",
              "    </tr>\n",
              "    <tr>\n",
              "      <th>SCHOOL OF THE ARTS SINGAPORE</th>\n",
              "      <th>GL1</th>\n",
              "      <td>5</td>\n",
              "    </tr>\n",
              "  </tbody>\n",
              "</table>\n",
              "</div>"
            ],
            "text/plain": [
              "                                                                       No. of Callbacks\n",
              "Location Name                         Description of technical object                  \n",
              "808D02   CT HUB 2                     PL05                                            3\n",
              "                                      SL02                                            3\n",
              "         ION ORCHARD                  FL1                                             5\n",
              "                                      PL/PL3                                          4\n",
              "         ROSEVALE                     PL2                                             3\n",
              "         SCHOOL OF THE ARTS SINGAPORE GL1                                             5"
            ]
          },
          "metadata": {
            "tags": []
          },
          "execution_count": 81
        }
      ]
    },
    {
      "cell_type": "markdown",
      "metadata": {
        "id": "83jbs_Im7JMp"
      },
      "source": [
        "**Show Error Description**"
      ]
    },
    {
      "cell_type": "code",
      "metadata": {
        "id": "i_AcU7CY61GR"
      },
      "source": [
        "df_sick_with_des = df_sick.drop(['Notification date','Description'], axis=1)\n",
        "df_sick_with_des.groupby(['Location','Name','Description of technical object','Long Text Description'],as_index = 'Location').count()#.sort_values(by=['No. of Callbacks'],ascending=False)"
      ],
      "execution_count": null,
      "outputs": []
    },
    {
      "cell_type": "markdown",
      "metadata": {
        "id": "CIxMQYTUvAlz"
      },
      "source": [
        "# **Visualization**"
      ]
    },
    {
      "cell_type": "code",
      "metadata": {
        "id": "k7W_GeCNleot",
        "colab": {
          "base_uri": "https://localhost:8080/",
          "height": 611
        },
        "outputId": "80c853df-7fde-448e-cae9-1c45a7f87151"
      },
      "source": [
        "df_v = df_route \n",
        "df_v['Month'] = df['Notification date'].dt.month\n",
        "df_v = df_v.drop(['Notification date', 'Long Text Description','Location'], axis=1)\n",
        "df_v.groupby(['Name','Description of technical object','Month']).count()\n",
        "temp = df_v.groupby(['Name','Description of technical object','Month']).count().reset_index()\n",
        "temp1 = temp.iloc[0:20]\n",
        "temp1\n"
      ],
      "execution_count": null,
      "outputs": [
        {
          "output_type": "stream",
          "text": [
            "/usr/local/lib/python3.7/dist-packages/ipykernel_launcher.py:2: SettingWithCopyWarning: \n",
            "A value is trying to be set on a copy of a slice from a DataFrame.\n",
            "Try using .loc[row_indexer,col_indexer] = value instead\n",
            "\n",
            "See the caveats in the documentation: https://pandas.pydata.org/pandas-docs/stable/user_guide/indexing.html#returning-a-view-versus-a-copy\n",
            "  \n"
          ],
          "name": "stderr"
        },
        {
          "output_type": "execute_result",
          "data": {
            "application/vnd.google.colaboratory.module+javascript": "\n      import \"https://ssl.gstatic.com/colaboratory/data_table/a6224c040fa35dcf/data_table.js\";\n\n      window.createDataTable({\n        data: [[{\n            'v': 0,\n            'f': \"0\",\n        },\n\"100 ROBERTSON QUAY\",\n\"FL3\",\n{\n            'v': 1,\n            'f': \"1\",\n        },\n{\n            'v': 3,\n            'f': \"3\",\n        }],\n [{\n            'v': 1,\n            'f': \"1\",\n        },\n\"100 ROBERTSON QUAY\",\n\"FL3\",\n{\n            'v': 2,\n            'f': \"2\",\n        },\n{\n            'v': 1,\n            'f': \"1\",\n        }],\n [{\n            'v': 2,\n            'f': \"2\",\n        },\n\"100 ROBERTSON QUAY\",\n\"FL5\",\n{\n            'v': 4,\n            'f': \"4\",\n        },\n{\n            'v': 1,\n            'f': \"1\",\n        }],\n [{\n            'v': 3,\n            'f': \"3\",\n        },\n\"100 ROBERTSON QUAY\",\n\"FL7\",\n{\n            'v': 1,\n            'f': \"1\",\n        },\n{\n            'v': 1,\n            'f': \"1\",\n        }],\n [{\n            'v': 4,\n            'f': \"4\",\n        },\n\"100 ROBERTSON QUAY\",\n\"PL4\",\n{\n            'v': 1,\n            'f': \"1\",\n        },\n{\n            'v': 4,\n            'f': \"4\",\n        }],\n [{\n            'v': 5,\n            'f': \"5\",\n        },\n\"100 ROBERTSON QUAY\",\n\"PL4\",\n{\n            'v': 2,\n            'f': \"2\",\n        },\n{\n            'v': 3,\n            'f': \"3\",\n        }],\n [{\n            'v': 6,\n            'f': \"6\",\n        },\n\"100 ROBERTSON QUAY\",\n\"PL4\",\n{\n            'v': 3,\n            'f': \"3\",\n        },\n{\n            'v': 1,\n            'f': \"1\",\n        }],\n [{\n            'v': 7,\n            'f': \"7\",\n        },\n\"100 ROBERTSON QUAY\",\n\"PL6\",\n{\n            'v': 1,\n            'f': \"1\",\n        },\n{\n            'v': 2,\n            'f': \"2\",\n        }],\n [{\n            'v': 8,\n            'f': \"8\",\n        },\n\"100 ROBERTSON QUAY\",\n\"PL6\",\n{\n            'v': 2,\n            'f': \"2\",\n        },\n{\n            'v': 1,\n            'f': \"1\",\n        }],\n [{\n            'v': 9,\n            'f': \"9\",\n        },\n\"113 SYED ALWI ROAD\",\n\"PL1\",\n{\n            'v': 3,\n            'f': \"3\",\n        },\n{\n            'v': 1,\n            'f': \"1\",\n        }],\n [{\n            'v': 10,\n            'f': \"10\",\n        },\n\"225C QUEEN STREET\",\n\"EL1\",\n{\n            'v': 3,\n            'f': \"3\",\n        },\n{\n            'v': 1,\n            'f': \"1\",\n        }],\n [{\n            'v': 11,\n            'f': \"11\",\n        },\n\"225C QUEEN STREET\",\n\"PL1\",\n{\n            'v': 3,\n            'f': \"3\",\n        },\n{\n            'v': 1,\n            'f': \"1\",\n        }],\n [{\n            'v': 12,\n            'f': \"12\",\n        },\n\"225C QUEEN STREET\",\n\"PL1\",\n{\n            'v': 4,\n            'f': \"4\",\n        },\n{\n            'v': 1,\n            'f': \"1\",\n        }],\n [{\n            'v': 13,\n            'f': \"13\",\n        },\n\"23 BARKER ROAD\",\n\"HL1\",\n{\n            'v': 1,\n            'f': \"1\",\n        },\n{\n            'v': 1,\n            'f': \"1\",\n        }],\n [{\n            'v': 14,\n            'f': \"14\",\n        },\n\"23 MIDDLE ROAD\",\n\"PL A\",\n{\n            'v': 2,\n            'f': \"2\",\n        },\n{\n            'v': 1,\n            'f': \"1\",\n        }],\n [{\n            'v': 15,\n            'f': \"15\",\n        },\n\"23 MIDDLE ROAD\",\n\"PL A\",\n{\n            'v': 4,\n            'f': \"4\",\n        },\n{\n            'v': 1,\n            'f': \"1\",\n        }],\n [{\n            'v': 16,\n            'f': \"16\",\n        },\n\"270 ORCHARD ROAD\",\n\"PL1(APPLE STORE)\",\n{\n            'v': 1,\n            'f': \"1\",\n        },\n{\n            'v': 2,\n            'f': \"2\",\n        }],\n [{\n            'v': 17,\n            'f': \"17\",\n        },\n\"6 DERBYSHIRE ROAD\",\n\"FL01\",\n{\n            'v': 3,\n            'f': \"3\",\n        },\n{\n            'v': 1,\n            'f': \"1\",\n        }],\n [{\n            'v': 18,\n            'f': \"18\",\n        },\n\"6 DERBYSHIRE ROAD\",\n\"FL01\",\n{\n            'v': 4,\n            'f': \"4\",\n        },\n{\n            'v': 1,\n            'f': \"1\",\n        }],\n [{\n            'v': 19,\n            'f': \"19\",\n        },\n\"6 DERBYSHIRE ROAD\",\n\"PL01\",\n{\n            'v': 1,\n            'f': \"1\",\n        },\n{\n            'v': 1,\n            'f': \"1\",\n        }]],\n        columns: [[\"number\", \"index\"], [\"string\", \"Name\"], [\"string\", \"Description of technical object\"], [\"number\", \"Month\"], [\"number\", \"Description\"]],\n        columnOptions: [{\"width\": \"1px\", \"className\": \"index_column\"}],\n        rowsPerPage: 25,\n        helpUrl: \"https://colab.research.google.com/notebooks/data_table.ipynb\",\n        suppressOutputScrolling: true,\n        minimumWidth: undefined,\n      });\n    ",
            "text/html": [
              "<div>\n",
              "<style scoped>\n",
              "    .dataframe tbody tr th:only-of-type {\n",
              "        vertical-align: middle;\n",
              "    }\n",
              "\n",
              "    .dataframe tbody tr th {\n",
              "        vertical-align: top;\n",
              "    }\n",
              "\n",
              "    .dataframe thead th {\n",
              "        text-align: right;\n",
              "    }\n",
              "</style>\n",
              "<table border=\"1\" class=\"dataframe\">\n",
              "  <thead>\n",
              "    <tr style=\"text-align: right;\">\n",
              "      <th></th>\n",
              "      <th>Name</th>\n",
              "      <th>Description of technical object</th>\n",
              "      <th>Month</th>\n",
              "      <th>Description</th>\n",
              "    </tr>\n",
              "  </thead>\n",
              "  <tbody>\n",
              "    <tr>\n",
              "      <th>0</th>\n",
              "      <td>100 ROBERTSON QUAY</td>\n",
              "      <td>FL3</td>\n",
              "      <td>1</td>\n",
              "      <td>3</td>\n",
              "    </tr>\n",
              "    <tr>\n",
              "      <th>1</th>\n",
              "      <td>100 ROBERTSON QUAY</td>\n",
              "      <td>FL3</td>\n",
              "      <td>2</td>\n",
              "      <td>1</td>\n",
              "    </tr>\n",
              "    <tr>\n",
              "      <th>2</th>\n",
              "      <td>100 ROBERTSON QUAY</td>\n",
              "      <td>FL5</td>\n",
              "      <td>4</td>\n",
              "      <td>1</td>\n",
              "    </tr>\n",
              "    <tr>\n",
              "      <th>3</th>\n",
              "      <td>100 ROBERTSON QUAY</td>\n",
              "      <td>FL7</td>\n",
              "      <td>1</td>\n",
              "      <td>1</td>\n",
              "    </tr>\n",
              "    <tr>\n",
              "      <th>4</th>\n",
              "      <td>100 ROBERTSON QUAY</td>\n",
              "      <td>PL4</td>\n",
              "      <td>1</td>\n",
              "      <td>4</td>\n",
              "    </tr>\n",
              "    <tr>\n",
              "      <th>5</th>\n",
              "      <td>100 ROBERTSON QUAY</td>\n",
              "      <td>PL4</td>\n",
              "      <td>2</td>\n",
              "      <td>3</td>\n",
              "    </tr>\n",
              "    <tr>\n",
              "      <th>6</th>\n",
              "      <td>100 ROBERTSON QUAY</td>\n",
              "      <td>PL4</td>\n",
              "      <td>3</td>\n",
              "      <td>1</td>\n",
              "    </tr>\n",
              "    <tr>\n",
              "      <th>7</th>\n",
              "      <td>100 ROBERTSON QUAY</td>\n",
              "      <td>PL6</td>\n",
              "      <td>1</td>\n",
              "      <td>2</td>\n",
              "    </tr>\n",
              "    <tr>\n",
              "      <th>8</th>\n",
              "      <td>100 ROBERTSON QUAY</td>\n",
              "      <td>PL6</td>\n",
              "      <td>2</td>\n",
              "      <td>1</td>\n",
              "    </tr>\n",
              "    <tr>\n",
              "      <th>9</th>\n",
              "      <td>113 SYED ALWI ROAD</td>\n",
              "      <td>PL1</td>\n",
              "      <td>3</td>\n",
              "      <td>1</td>\n",
              "    </tr>\n",
              "    <tr>\n",
              "      <th>10</th>\n",
              "      <td>225C QUEEN STREET</td>\n",
              "      <td>EL1</td>\n",
              "      <td>3</td>\n",
              "      <td>1</td>\n",
              "    </tr>\n",
              "    <tr>\n",
              "      <th>11</th>\n",
              "      <td>225C QUEEN STREET</td>\n",
              "      <td>PL1</td>\n",
              "      <td>3</td>\n",
              "      <td>1</td>\n",
              "    </tr>\n",
              "    <tr>\n",
              "      <th>12</th>\n",
              "      <td>225C QUEEN STREET</td>\n",
              "      <td>PL1</td>\n",
              "      <td>4</td>\n",
              "      <td>1</td>\n",
              "    </tr>\n",
              "    <tr>\n",
              "      <th>13</th>\n",
              "      <td>23 BARKER ROAD</td>\n",
              "      <td>HL1</td>\n",
              "      <td>1</td>\n",
              "      <td>1</td>\n",
              "    </tr>\n",
              "    <tr>\n",
              "      <th>14</th>\n",
              "      <td>23 MIDDLE ROAD</td>\n",
              "      <td>PL A</td>\n",
              "      <td>2</td>\n",
              "      <td>1</td>\n",
              "    </tr>\n",
              "    <tr>\n",
              "      <th>15</th>\n",
              "      <td>23 MIDDLE ROAD</td>\n",
              "      <td>PL A</td>\n",
              "      <td>4</td>\n",
              "      <td>1</td>\n",
              "    </tr>\n",
              "    <tr>\n",
              "      <th>16</th>\n",
              "      <td>270 ORCHARD ROAD</td>\n",
              "      <td>PL1(APPLE STORE)</td>\n",
              "      <td>1</td>\n",
              "      <td>2</td>\n",
              "    </tr>\n",
              "    <tr>\n",
              "      <th>17</th>\n",
              "      <td>6 DERBYSHIRE ROAD</td>\n",
              "      <td>FL01</td>\n",
              "      <td>3</td>\n",
              "      <td>1</td>\n",
              "    </tr>\n",
              "    <tr>\n",
              "      <th>18</th>\n",
              "      <td>6 DERBYSHIRE ROAD</td>\n",
              "      <td>FL01</td>\n",
              "      <td>4</td>\n",
              "      <td>1</td>\n",
              "    </tr>\n",
              "    <tr>\n",
              "      <th>19</th>\n",
              "      <td>6 DERBYSHIRE ROAD</td>\n",
              "      <td>PL01</td>\n",
              "      <td>1</td>\n",
              "      <td>1</td>\n",
              "    </tr>\n",
              "  </tbody>\n",
              "</table>\n",
              "</div>"
            ],
            "text/plain": [
              "                  Name Description of technical object  Month  Description\n",
              "0   100 ROBERTSON QUAY                             FL3      1            3\n",
              "1   100 ROBERTSON QUAY                             FL3      2            1\n",
              "2   100 ROBERTSON QUAY                             FL5      4            1\n",
              "3   100 ROBERTSON QUAY                             FL7      1            1\n",
              "4   100 ROBERTSON QUAY                             PL4      1            4\n",
              "5   100 ROBERTSON QUAY                             PL4      2            3\n",
              "6   100 ROBERTSON QUAY                             PL4      3            1\n",
              "7   100 ROBERTSON QUAY                             PL6      1            2\n",
              "8   100 ROBERTSON QUAY                             PL6      2            1\n",
              "9   113 SYED ALWI ROAD                             PL1      3            1\n",
              "10   225C QUEEN STREET                             EL1      3            1\n",
              "11   225C QUEEN STREET                             PL1      3            1\n",
              "12   225C QUEEN STREET                             PL1      4            1\n",
              "13      23 BARKER ROAD                             HL1      1            1\n",
              "14      23 MIDDLE ROAD                            PL A      2            1\n",
              "15      23 MIDDLE ROAD                            PL A      4            1\n",
              "16    270 ORCHARD ROAD                PL1(APPLE STORE)      1            2\n",
              "17   6 DERBYSHIRE ROAD                            FL01      3            1\n",
              "18   6 DERBYSHIRE ROAD                            FL01      4            1\n",
              "19   6 DERBYSHIRE ROAD                            PL01      1            1"
            ]
          },
          "metadata": {
            "tags": []
          },
          "execution_count": 41
        }
      ]
    },
    {
      "cell_type": "code",
      "metadata": {
        "id": "f0oJabdE0HwO"
      },
      "source": [
        "# df_v.groupby(['Name','Description of technical object','Month']).count().plot(kind='bar',figsize=(100, 50) )\n"
      ],
      "execution_count": null,
      "outputs": []
    },
    {
      "cell_type": "code",
      "metadata": {
        "id": "9ujDJfUho4-h"
      },
      "source": [
        "# df_route_date = df_route.loc[df_route['Notification date'].dt.month == int(m)]\n",
        "# df_route_date = df_route_date.sort_values(by='Notification date')\n",
        "# temp = df_route_date.drop(['Location', 'Notification date','Long Text Description'], axis=1)\n",
        "# temp.groupby(['Name','Description of technical object']).count()\n"
      ],
      "execution_count": null,
      "outputs": []
    },
    {
      "cell_type": "code",
      "metadata": {
        "id": "nuAdq_yeC7FU"
      },
      "source": [
        "ax = sns.catplot(x='Description of technical object', y='Description', hue='Month', col='Name', data=temp1, kind='bar')\n"
      ],
      "execution_count": null,
      "outputs": []
    },
    {
      "cell_type": "code",
      "metadata": {
        "id": "zIYcHszV0yVz"
      },
      "source": [
        ""
      ],
      "execution_count": null,
      "outputs": []
    },
    {
      "cell_type": "code",
      "metadata": {
        "id": "nJp1blSw5RVS"
      },
      "source": [
        ""
      ],
      "execution_count": null,
      "outputs": []
    }
  ]
}